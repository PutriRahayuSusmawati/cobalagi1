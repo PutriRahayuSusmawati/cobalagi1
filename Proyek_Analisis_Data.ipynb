{
 "cells": [
  {
   "cell_type": "markdown",
   "metadata": {
    "id": "H9wADwK78DCz"
   },
   "source": [
    "# Proyek Analisis Data: [Input Nama Dataset]\n",
    "- **Nama:** Putri Rahayu Susmawati\n",
    "- **Email:** prs993964@gmail.com\n",
    "- **ID Dicoding:** putrirahayususmawati"
   ]
  },
  {
   "cell_type": "markdown",
   "metadata": {
    "id": "eE0raob58DC0"
   },
   "source": [
    "## Menentukan Pertanyaan Bisnis"
   ]
  },
  {
   "cell_type": "markdown",
   "metadata": {
    "id": "GmQeQ5YF8DC0"
   },
   "source": [
    "- Metode pembayaran mana yang paling sering digunakan oleh pelanggan?\n",
    "- Apakah ada hubungan antara metode pembayaran dan status pesanan?"
   ]
  },
  {
   "cell_type": "markdown",
   "metadata": {
    "id": "H-z4QGlO8DC1"
   },
   "source": [
    "## Import Semua Packages/Library yang Digunakan"
   ]
  },
  {
   "cell_type": "code",
   "execution_count": null,
   "metadata": {
    "colab": {
     "base_uri": "https://localhost:8080/"
    },
    "id": "FVYwaObI8DC1",
    "outputId": "37946dcb-b3b9-45f5-e636-08cd4ff01909"
   },
   "outputs": [
    {
     "name": "stdout",
     "output_type": "stream",
     "text": [
      "Collecting streamlit\n",
      "  Downloading streamlit-1.39.0-py2.py3-none-any.whl.metadata (8.5 kB)\n",
      "Requirement already satisfied: altair<6,>=4.0 in /usr/local/lib/python3.10/dist-packages (from streamlit) (4.2.2)\n",
      "Requirement already satisfied: blinker<2,>=1.0.0 in /usr/lib/python3/dist-packages (from streamlit) (1.4)\n",
      "Requirement already satisfied: cachetools<6,>=4.0 in /usr/local/lib/python3.10/dist-packages (from streamlit) (5.5.0)\n",
      "Requirement already satisfied: click<9,>=7.0 in /usr/local/lib/python3.10/dist-packages (from streamlit) (8.1.7)\n",
      "Requirement already satisfied: numpy<3,>=1.20 in /usr/local/lib/python3.10/dist-packages (from streamlit) (1.26.4)\n",
      "Requirement already satisfied: packaging<25,>=20 in /usr/local/lib/python3.10/dist-packages (from streamlit) (24.1)\n",
      "Requirement already satisfied: pandas<3,>=1.4.0 in /usr/local/lib/python3.10/dist-packages (from streamlit) (2.2.2)\n",
      "Requirement already satisfied: pillow<11,>=7.1.0 in /usr/local/lib/python3.10/dist-packages (from streamlit) (10.4.0)\n",
      "Requirement already satisfied: protobuf<6,>=3.20 in /usr/local/lib/python3.10/dist-packages (from streamlit) (3.20.3)\n",
      "Requirement already satisfied: pyarrow>=7.0 in /usr/local/lib/python3.10/dist-packages (from streamlit) (16.1.0)\n",
      "Requirement already satisfied: requests<3,>=2.27 in /usr/local/lib/python3.10/dist-packages (from streamlit) (2.32.3)\n",
      "Requirement already satisfied: rich<14,>=10.14.0 in /usr/local/lib/python3.10/dist-packages (from streamlit) (13.9.2)\n",
      "Requirement already satisfied: tenacity<10,>=8.1.0 in /usr/local/lib/python3.10/dist-packages (from streamlit) (9.0.0)\n",
      "Requirement already satisfied: toml<2,>=0.10.1 in /usr/local/lib/python3.10/dist-packages (from streamlit) (0.10.2)\n",
      "Requirement already satisfied: typing-extensions<5,>=4.3.0 in /usr/local/lib/python3.10/dist-packages (from streamlit) (4.12.2)\n",
      "Requirement already satisfied: gitpython!=3.1.19,<4,>=3.0.7 in /usr/local/lib/python3.10/dist-packages (from streamlit) (3.1.43)\n",
      "Collecting pydeck<1,>=0.8.0b4 (from streamlit)\n",
      "  Downloading pydeck-0.9.1-py2.py3-none-any.whl.metadata (4.1 kB)\n",
      "Requirement already satisfied: tornado<7,>=6.0.3 in /usr/local/lib/python3.10/dist-packages (from streamlit) (6.3.3)\n",
      "Collecting watchdog<6,>=2.1.5 (from streamlit)\n",
      "  Downloading watchdog-5.0.3-py3-none-manylinux2014_x86_64.whl.metadata (41 kB)\n",
      "\u001b[2K     \u001b[90m━━━━━━━━━━━━━━━━━━━━━━━━━━━━━━━━━━━━━━━━\u001b[0m \u001b[32m41.9/41.9 kB\u001b[0m \u001b[31m1.0 MB/s\u001b[0m eta \u001b[36m0:00:00\u001b[0m\n",
      "\u001b[?25hRequirement already satisfied: entrypoints in /usr/local/lib/python3.10/dist-packages (from altair<6,>=4.0->streamlit) (0.4)\n",
      "Requirement already satisfied: jinja2 in /usr/local/lib/python3.10/dist-packages (from altair<6,>=4.0->streamlit) (3.1.4)\n",
      "Requirement already satisfied: jsonschema>=3.0 in /usr/local/lib/python3.10/dist-packages (from altair<6,>=4.0->streamlit) (4.23.0)\n",
      "Requirement already satisfied: toolz in /usr/local/lib/python3.10/dist-packages (from altair<6,>=4.0->streamlit) (0.12.1)\n",
      "Requirement already satisfied: gitdb<5,>=4.0.1 in /usr/local/lib/python3.10/dist-packages (from gitpython!=3.1.19,<4,>=3.0.7->streamlit) (4.0.11)\n",
      "Requirement already satisfied: python-dateutil>=2.8.2 in /usr/local/lib/python3.10/dist-packages (from pandas<3,>=1.4.0->streamlit) (2.8.2)\n",
      "Requirement already satisfied: pytz>=2020.1 in /usr/local/lib/python3.10/dist-packages (from pandas<3,>=1.4.0->streamlit) (2024.2)\n",
      "Requirement already satisfied: tzdata>=2022.7 in /usr/local/lib/python3.10/dist-packages (from pandas<3,>=1.4.0->streamlit) (2024.2)\n",
      "Requirement already satisfied: charset-normalizer<4,>=2 in /usr/local/lib/python3.10/dist-packages (from requests<3,>=2.27->streamlit) (3.4.0)\n",
      "Requirement already satisfied: idna<4,>=2.5 in /usr/local/lib/python3.10/dist-packages (from requests<3,>=2.27->streamlit) (3.10)\n",
      "Requirement already satisfied: urllib3<3,>=1.21.1 in /usr/local/lib/python3.10/dist-packages (from requests<3,>=2.27->streamlit) (2.2.3)\n",
      "Requirement already satisfied: certifi>=2017.4.17 in /usr/local/lib/python3.10/dist-packages (from requests<3,>=2.27->streamlit) (2024.8.30)\n",
      "Requirement already satisfied: markdown-it-py>=2.2.0 in /usr/local/lib/python3.10/dist-packages (from rich<14,>=10.14.0->streamlit) (3.0.0)\n",
      "Requirement already satisfied: pygments<3.0.0,>=2.13.0 in /usr/local/lib/python3.10/dist-packages (from rich<14,>=10.14.0->streamlit) (2.18.0)\n",
      "Requirement already satisfied: smmap<6,>=3.0.1 in /usr/local/lib/python3.10/dist-packages (from gitdb<5,>=4.0.1->gitpython!=3.1.19,<4,>=3.0.7->streamlit) (5.0.1)\n",
      "Requirement already satisfied: MarkupSafe>=2.0 in /usr/local/lib/python3.10/dist-packages (from jinja2->altair<6,>=4.0->streamlit) (3.0.1)\n",
      "Requirement already satisfied: attrs>=22.2.0 in /usr/local/lib/python3.10/dist-packages (from jsonschema>=3.0->altair<6,>=4.0->streamlit) (24.2.0)\n",
      "Requirement already satisfied: jsonschema-specifications>=2023.03.6 in /usr/local/lib/python3.10/dist-packages (from jsonschema>=3.0->altair<6,>=4.0->streamlit) (2024.10.1)\n",
      "Requirement already satisfied: referencing>=0.28.4 in /usr/local/lib/python3.10/dist-packages (from jsonschema>=3.0->altair<6,>=4.0->streamlit) (0.35.1)\n",
      "Requirement already satisfied: rpds-py>=0.7.1 in /usr/local/lib/python3.10/dist-packages (from jsonschema>=3.0->altair<6,>=4.0->streamlit) (0.20.0)\n",
      "Requirement already satisfied: mdurl~=0.1 in /usr/local/lib/python3.10/dist-packages (from markdown-it-py>=2.2.0->rich<14,>=10.14.0->streamlit) (0.1.2)\n",
      "Requirement already satisfied: six>=1.5 in /usr/local/lib/python3.10/dist-packages (from python-dateutil>=2.8.2->pandas<3,>=1.4.0->streamlit) (1.16.0)\n",
      "Downloading streamlit-1.39.0-py2.py3-none-any.whl (8.7 MB)\n",
      "\u001b[2K   \u001b[90m━━━━━━━━━━━━━━━━━━━━━━━━━━━━━━━━━━━━━━━━\u001b[0m \u001b[32m8.7/8.7 MB\u001b[0m \u001b[31m29.7 MB/s\u001b[0m eta \u001b[36m0:00:00\u001b[0m\n",
      "\u001b[?25hDownloading pydeck-0.9.1-py2.py3-none-any.whl (6.9 MB)\n",
      "\u001b[2K   \u001b[90m━━━━━━━━━━━━━━━━━━━━━━━━━━━━━━━━━━━━━━━━\u001b[0m \u001b[32m6.9/6.9 MB\u001b[0m \u001b[31m30.9 MB/s\u001b[0m eta \u001b[36m0:00:00\u001b[0m\n",
      "\u001b[?25hDownloading watchdog-5.0.3-py3-none-manylinux2014_x86_64.whl (79 kB)\n",
      "\u001b[2K   \u001b[90m━━━━━━━━━━━━━━━━━━━━━━━━━━━━━━━━━━━━━━━━\u001b[0m \u001b[32m79.3/79.3 kB\u001b[0m \u001b[31m4.7 MB/s\u001b[0m eta \u001b[36m0:00:00\u001b[0m\n",
      "\u001b[?25hInstalling collected packages: watchdog, pydeck, streamlit\n",
      "Successfully installed pydeck-0.9.1 streamlit-1.39.0 watchdog-5.0.3\n"
     ]
    }
   ],
   "source": [
    "pip install streamlit"
   ]
  },
  {
   "cell_type": "code",
   "execution_count": null,
   "metadata": {
    "id": "XT5n79lxjsWt"
   },
   "outputs": [],
   "source": [
    ">>> import streamlit as st"
   ]
  },
  {
   "cell_type": "code",
   "execution_count": null,
   "metadata": {
    "id": "XvwZ3myZAXxl"
   },
   "outputs": [],
   "source": [
    "import pandas as pd"
   ]
  },
  {
   "cell_type": "markdown",
   "metadata": {
    "id": "h_Sh51Xy8DC1"
   },
   "source": [
    "## Data Wrangling"
   ]
  },
  {
   "cell_type": "markdown",
   "metadata": {
    "id": "sXU2GBYu8DC1"
   },
   "source": [
    "### Gathering Data"
   ]
  },
  {
   "cell_type": "code",
   "execution_count": null,
   "metadata": {
    "id": "zjCBk1BI8DC1"
   },
   "outputs": [],
   "source": [
    "import pandas as pd\n"
   ]
  },
  {
   "cell_type": "code",
   "execution_count": null,
   "metadata": {
    "colab": {
     "base_uri": "https://localhost:8080/",
     "height": 386
    },
    "id": "_u5zqzoioFVk",
    "outputId": "460268f4-d8d0-491e-a5a4-8971d8423139"
   },
   "outputs": [
    {
     "data": {
      "text/html": [
       "\n",
       "     <input type=\"file\" id=\"files-5fdb41d8-e530-4da1-adfc-93bde7208773\" name=\"files[]\" multiple disabled\n",
       "        style=\"border:none\" />\n",
       "     <output id=\"result-5fdb41d8-e530-4da1-adfc-93bde7208773\">\n",
       "      Upload widget is only available when the cell has been executed in the\n",
       "      current browser session. Please rerun this cell to enable.\n",
       "      </output>\n",
       "      <script>// Copyright 2017 Google LLC\n",
       "//\n",
       "// Licensed under the Apache License, Version 2.0 (the \"License\");\n",
       "// you may not use this file except in compliance with the License.\n",
       "// You may obtain a copy of the License at\n",
       "//\n",
       "//      http://www.apache.org/licenses/LICENSE-2.0\n",
       "//\n",
       "// Unless required by applicable law or agreed to in writing, software\n",
       "// distributed under the License is distributed on an \"AS IS\" BASIS,\n",
       "// WITHOUT WARRANTIES OR CONDITIONS OF ANY KIND, either express or implied.\n",
       "// See the License for the specific language governing permissions and\n",
       "// limitations under the License.\n",
       "\n",
       "/**\n",
       " * @fileoverview Helpers for google.colab Python module.\n",
       " */\n",
       "(function(scope) {\n",
       "function span(text, styleAttributes = {}) {\n",
       "  const element = document.createElement('span');\n",
       "  element.textContent = text;\n",
       "  for (const key of Object.keys(styleAttributes)) {\n",
       "    element.style[key] = styleAttributes[key];\n",
       "  }\n",
       "  return element;\n",
       "}\n",
       "\n",
       "// Max number of bytes which will be uploaded at a time.\n",
       "const MAX_PAYLOAD_SIZE = 100 * 1024;\n",
       "\n",
       "function _uploadFiles(inputId, outputId) {\n",
       "  const steps = uploadFilesStep(inputId, outputId);\n",
       "  const outputElement = document.getElementById(outputId);\n",
       "  // Cache steps on the outputElement to make it available for the next call\n",
       "  // to uploadFilesContinue from Python.\n",
       "  outputElement.steps = steps;\n",
       "\n",
       "  return _uploadFilesContinue(outputId);\n",
       "}\n",
       "\n",
       "// This is roughly an async generator (not supported in the browser yet),\n",
       "// where there are multiple asynchronous steps and the Python side is going\n",
       "// to poll for completion of each step.\n",
       "// This uses a Promise to block the python side on completion of each step,\n",
       "// then passes the result of the previous step as the input to the next step.\n",
       "function _uploadFilesContinue(outputId) {\n",
       "  const outputElement = document.getElementById(outputId);\n",
       "  const steps = outputElement.steps;\n",
       "\n",
       "  const next = steps.next(outputElement.lastPromiseValue);\n",
       "  return Promise.resolve(next.value.promise).then((value) => {\n",
       "    // Cache the last promise value to make it available to the next\n",
       "    // step of the generator.\n",
       "    outputElement.lastPromiseValue = value;\n",
       "    return next.value.response;\n",
       "  });\n",
       "}\n",
       "\n",
       "/**\n",
       " * Generator function which is called between each async step of the upload\n",
       " * process.\n",
       " * @param {string} inputId Element ID of the input file picker element.\n",
       " * @param {string} outputId Element ID of the output display.\n",
       " * @return {!Iterable<!Object>} Iterable of next steps.\n",
       " */\n",
       "function* uploadFilesStep(inputId, outputId) {\n",
       "  const inputElement = document.getElementById(inputId);\n",
       "  inputElement.disabled = false;\n",
       "\n",
       "  const outputElement = document.getElementById(outputId);\n",
       "  outputElement.innerHTML = '';\n",
       "\n",
       "  const pickedPromise = new Promise((resolve) => {\n",
       "    inputElement.addEventListener('change', (e) => {\n",
       "      resolve(e.target.files);\n",
       "    });\n",
       "  });\n",
       "\n",
       "  const cancel = document.createElement('button');\n",
       "  inputElement.parentElement.appendChild(cancel);\n",
       "  cancel.textContent = 'Cancel upload';\n",
       "  const cancelPromise = new Promise((resolve) => {\n",
       "    cancel.onclick = () => {\n",
       "      resolve(null);\n",
       "    };\n",
       "  });\n",
       "\n",
       "  // Wait for the user to pick the files.\n",
       "  const files = yield {\n",
       "    promise: Promise.race([pickedPromise, cancelPromise]),\n",
       "    response: {\n",
       "      action: 'starting',\n",
       "    }\n",
       "  };\n",
       "\n",
       "  cancel.remove();\n",
       "\n",
       "  // Disable the input element since further picks are not allowed.\n",
       "  inputElement.disabled = true;\n",
       "\n",
       "  if (!files) {\n",
       "    return {\n",
       "      response: {\n",
       "        action: 'complete',\n",
       "      }\n",
       "    };\n",
       "  }\n",
       "\n",
       "  for (const file of files) {\n",
       "    const li = document.createElement('li');\n",
       "    li.append(span(file.name, {fontWeight: 'bold'}));\n",
       "    li.append(span(\n",
       "        `(${file.type || 'n/a'}) - ${file.size} bytes, ` +\n",
       "        `last modified: ${\n",
       "            file.lastModifiedDate ? file.lastModifiedDate.toLocaleDateString() :\n",
       "                                    'n/a'} - `));\n",
       "    const percent = span('0% done');\n",
       "    li.appendChild(percent);\n",
       "\n",
       "    outputElement.appendChild(li);\n",
       "\n",
       "    const fileDataPromise = new Promise((resolve) => {\n",
       "      const reader = new FileReader();\n",
       "      reader.onload = (e) => {\n",
       "        resolve(e.target.result);\n",
       "      };\n",
       "      reader.readAsArrayBuffer(file);\n",
       "    });\n",
       "    // Wait for the data to be ready.\n",
       "    let fileData = yield {\n",
       "      promise: fileDataPromise,\n",
       "      response: {\n",
       "        action: 'continue',\n",
       "      }\n",
       "    };\n",
       "\n",
       "    // Use a chunked sending to avoid message size limits. See b/62115660.\n",
       "    let position = 0;\n",
       "    do {\n",
       "      const length = Math.min(fileData.byteLength - position, MAX_PAYLOAD_SIZE);\n",
       "      const chunk = new Uint8Array(fileData, position, length);\n",
       "      position += length;\n",
       "\n",
       "      const base64 = btoa(String.fromCharCode.apply(null, chunk));\n",
       "      yield {\n",
       "        response: {\n",
       "          action: 'append',\n",
       "          file: file.name,\n",
       "          data: base64,\n",
       "        },\n",
       "      };\n",
       "\n",
       "      let percentDone = fileData.byteLength === 0 ?\n",
       "          100 :\n",
       "          Math.round((position / fileData.byteLength) * 100);\n",
       "      percent.textContent = `${percentDone}% done`;\n",
       "\n",
       "    } while (position < fileData.byteLength);\n",
       "  }\n",
       "\n",
       "  // All done.\n",
       "  yield {\n",
       "    response: {\n",
       "      action: 'complete',\n",
       "    }\n",
       "  };\n",
       "}\n",
       "\n",
       "scope.google = scope.google || {};\n",
       "scope.google.colab = scope.google.colab || {};\n",
       "scope.google.colab._files = {\n",
       "  _uploadFiles,\n",
       "  _uploadFilesContinue,\n",
       "};\n",
       "})(self);\n",
       "</script> "
      ],
      "text/plain": [
       "<IPython.core.display.HTML object>"
      ]
     },
     "metadata": {},
     "output_type": "display_data"
    },
    {
     "name": "stdout",
     "output_type": "stream",
     "text": [
      "Saving customers_dataset.csv to customers_dataset.csv\n",
      "Saving geolocation_dataset.csv to geolocation_dataset.csv\n",
      "Saving New Text Document.txt to New Text Document.txt\n",
      "Saving order_items_dataset.csv to order_items_dataset.csv\n",
      "Saving order_payments_dataset.csv to order_payments_dataset.csv\n",
      "Saving order_reviews_dataset.csv to order_reviews_dataset.csv\n",
      "Saving orders_dataset.csv to orders_dataset.csv\n",
      "Saving product_category_name_translation.csv to product_category_name_translation.csv\n",
      "Saving products_dataset.csv to products_dataset.csv\n",
      "Saving sellers_dataset.csv to sellers_dataset.csv\n"
     ]
    }
   ],
   "source": [
    "from google.colab import files\n",
    "uploaded = files.upload()"
   ]
  },
  {
   "cell_type": "code",
   "execution_count": null,
   "metadata": {
    "colab": {
     "base_uri": "https://localhost:8080/",
     "height": 73
    },
    "id": "0qTiFAttB4vl",
    "outputId": "2b05339a-778d-45d3-cb75-10ddace6f145"
   },
   "outputs": [
    {
     "data": {
      "text/html": [
       "\n",
       "     <input type=\"file\" id=\"files-53757d13-7c25-44ae-be35-8688308f0164\" name=\"files[]\" multiple disabled\n",
       "        style=\"border:none\" />\n",
       "     <output id=\"result-53757d13-7c25-44ae-be35-8688308f0164\">\n",
       "      Upload widget is only available when the cell has been executed in the\n",
       "      current browser session. Please rerun this cell to enable.\n",
       "      </output>\n",
       "      <script>// Copyright 2017 Google LLC\n",
       "//\n",
       "// Licensed under the Apache License, Version 2.0 (the \"License\");\n",
       "// you may not use this file except in compliance with the License.\n",
       "// You may obtain a copy of the License at\n",
       "//\n",
       "//      http://www.apache.org/licenses/LICENSE-2.0\n",
       "//\n",
       "// Unless required by applicable law or agreed to in writing, software\n",
       "// distributed under the License is distributed on an \"AS IS\" BASIS,\n",
       "// WITHOUT WARRANTIES OR CONDITIONS OF ANY KIND, either express or implied.\n",
       "// See the License for the specific language governing permissions and\n",
       "// limitations under the License.\n",
       "\n",
       "/**\n",
       " * @fileoverview Helpers for google.colab Python module.\n",
       " */\n",
       "(function(scope) {\n",
       "function span(text, styleAttributes = {}) {\n",
       "  const element = document.createElement('span');\n",
       "  element.textContent = text;\n",
       "  for (const key of Object.keys(styleAttributes)) {\n",
       "    element.style[key] = styleAttributes[key];\n",
       "  }\n",
       "  return element;\n",
       "}\n",
       "\n",
       "// Max number of bytes which will be uploaded at a time.\n",
       "const MAX_PAYLOAD_SIZE = 100 * 1024;\n",
       "\n",
       "function _uploadFiles(inputId, outputId) {\n",
       "  const steps = uploadFilesStep(inputId, outputId);\n",
       "  const outputElement = document.getElementById(outputId);\n",
       "  // Cache steps on the outputElement to make it available for the next call\n",
       "  // to uploadFilesContinue from Python.\n",
       "  outputElement.steps = steps;\n",
       "\n",
       "  return _uploadFilesContinue(outputId);\n",
       "}\n",
       "\n",
       "// This is roughly an async generator (not supported in the browser yet),\n",
       "// where there are multiple asynchronous steps and the Python side is going\n",
       "// to poll for completion of each step.\n",
       "// This uses a Promise to block the python side on completion of each step,\n",
       "// then passes the result of the previous step as the input to the next step.\n",
       "function _uploadFilesContinue(outputId) {\n",
       "  const outputElement = document.getElementById(outputId);\n",
       "  const steps = outputElement.steps;\n",
       "\n",
       "  const next = steps.next(outputElement.lastPromiseValue);\n",
       "  return Promise.resolve(next.value.promise).then((value) => {\n",
       "    // Cache the last promise value to make it available to the next\n",
       "    // step of the generator.\n",
       "    outputElement.lastPromiseValue = value;\n",
       "    return next.value.response;\n",
       "  });\n",
       "}\n",
       "\n",
       "/**\n",
       " * Generator function which is called between each async step of the upload\n",
       " * process.\n",
       " * @param {string} inputId Element ID of the input file picker element.\n",
       " * @param {string} outputId Element ID of the output display.\n",
       " * @return {!Iterable<!Object>} Iterable of next steps.\n",
       " */\n",
       "function* uploadFilesStep(inputId, outputId) {\n",
       "  const inputElement = document.getElementById(inputId);\n",
       "  inputElement.disabled = false;\n",
       "\n",
       "  const outputElement = document.getElementById(outputId);\n",
       "  outputElement.innerHTML = '';\n",
       "\n",
       "  const pickedPromise = new Promise((resolve) => {\n",
       "    inputElement.addEventListener('change', (e) => {\n",
       "      resolve(e.target.files);\n",
       "    });\n",
       "  });\n",
       "\n",
       "  const cancel = document.createElement('button');\n",
       "  inputElement.parentElement.appendChild(cancel);\n",
       "  cancel.textContent = 'Cancel upload';\n",
       "  const cancelPromise = new Promise((resolve) => {\n",
       "    cancel.onclick = () => {\n",
       "      resolve(null);\n",
       "    };\n",
       "  });\n",
       "\n",
       "  // Wait for the user to pick the files.\n",
       "  const files = yield {\n",
       "    promise: Promise.race([pickedPromise, cancelPromise]),\n",
       "    response: {\n",
       "      action: 'starting',\n",
       "    }\n",
       "  };\n",
       "\n",
       "  cancel.remove();\n",
       "\n",
       "  // Disable the input element since further picks are not allowed.\n",
       "  inputElement.disabled = true;\n",
       "\n",
       "  if (!files) {\n",
       "    return {\n",
       "      response: {\n",
       "        action: 'complete',\n",
       "      }\n",
       "    };\n",
       "  }\n",
       "\n",
       "  for (const file of files) {\n",
       "    const li = document.createElement('li');\n",
       "    li.append(span(file.name, {fontWeight: 'bold'}));\n",
       "    li.append(span(\n",
       "        `(${file.type || 'n/a'}) - ${file.size} bytes, ` +\n",
       "        `last modified: ${\n",
       "            file.lastModifiedDate ? file.lastModifiedDate.toLocaleDateString() :\n",
       "                                    'n/a'} - `));\n",
       "    const percent = span('0% done');\n",
       "    li.appendChild(percent);\n",
       "\n",
       "    outputElement.appendChild(li);\n",
       "\n",
       "    const fileDataPromise = new Promise((resolve) => {\n",
       "      const reader = new FileReader();\n",
       "      reader.onload = (e) => {\n",
       "        resolve(e.target.result);\n",
       "      };\n",
       "      reader.readAsArrayBuffer(file);\n",
       "    });\n",
       "    // Wait for the data to be ready.\n",
       "    let fileData = yield {\n",
       "      promise: fileDataPromise,\n",
       "      response: {\n",
       "        action: 'continue',\n",
       "      }\n",
       "    };\n",
       "\n",
       "    // Use a chunked sending to avoid message size limits. See b/62115660.\n",
       "    let position = 0;\n",
       "    do {\n",
       "      const length = Math.min(fileData.byteLength - position, MAX_PAYLOAD_SIZE);\n",
       "      const chunk = new Uint8Array(fileData, position, length);\n",
       "      position += length;\n",
       "\n",
       "      const base64 = btoa(String.fromCharCode.apply(null, chunk));\n",
       "      yield {\n",
       "        response: {\n",
       "          action: 'append',\n",
       "          file: file.name,\n",
       "          data: base64,\n",
       "        },\n",
       "      };\n",
       "\n",
       "      let percentDone = fileData.byteLength === 0 ?\n",
       "          100 :\n",
       "          Math.round((position / fileData.byteLength) * 100);\n",
       "      percent.textContent = `${percentDone}% done`;\n",
       "\n",
       "    } while (position < fileData.byteLength);\n",
       "  }\n",
       "\n",
       "  // All done.\n",
       "  yield {\n",
       "    response: {\n",
       "      action: 'complete',\n",
       "    }\n",
       "  };\n",
       "}\n",
       "\n",
       "scope.google = scope.google || {};\n",
       "scope.google.colab = scope.google.colab || {};\n",
       "scope.google.colab._files = {\n",
       "  _uploadFiles,\n",
       "  _uploadFilesContinue,\n",
       "};\n",
       "})(self);\n",
       "</script> "
      ],
      "text/plain": [
       "<IPython.core.display.HTML object>"
      ]
     },
     "metadata": {},
     "output_type": "display_data"
    },
    {
     "name": "stdout",
     "output_type": "stream",
     "text": [
      "Saving orders_dataset.csv to orders_dataset.csv\n"
     ]
    }
   ],
   "source": [
    "import pandas as pd\n",
    "from google.colab import files\n",
    "import io\n",
    "\n",
    "uploaded = files.upload()\n",
    "\n",
    "orders_df = pd.read_csv(io.BytesIO(uploaded['orders_dataset.csv']))"
   ]
  },
  {
   "cell_type": "code",
   "execution_count": null,
   "metadata": {
    "colab": {
     "base_uri": "https://localhost:8080/",
     "height": 73
    },
    "id": "k1YHf0ZZEBUk",
    "outputId": "28d53a4a-f642-4f2e-88ef-4b4b7be1f2d7"
   },
   "outputs": [
    {
     "data": {
      "text/html": [
       "\n",
       "     <input type=\"file\" id=\"files-12feeaac-a4ec-4319-be74-5f0dc8fd6cfa\" name=\"files[]\" multiple disabled\n",
       "        style=\"border:none\" />\n",
       "     <output id=\"result-12feeaac-a4ec-4319-be74-5f0dc8fd6cfa\">\n",
       "      Upload widget is only available when the cell has been executed in the\n",
       "      current browser session. Please rerun this cell to enable.\n",
       "      </output>\n",
       "      <script>// Copyright 2017 Google LLC\n",
       "//\n",
       "// Licensed under the Apache License, Version 2.0 (the \"License\");\n",
       "// you may not use this file except in compliance with the License.\n",
       "// You may obtain a copy of the License at\n",
       "//\n",
       "//      http://www.apache.org/licenses/LICENSE-2.0\n",
       "//\n",
       "// Unless required by applicable law or agreed to in writing, software\n",
       "// distributed under the License is distributed on an \"AS IS\" BASIS,\n",
       "// WITHOUT WARRANTIES OR CONDITIONS OF ANY KIND, either express or implied.\n",
       "// See the License for the specific language governing permissions and\n",
       "// limitations under the License.\n",
       "\n",
       "/**\n",
       " * @fileoverview Helpers for google.colab Python module.\n",
       " */\n",
       "(function(scope) {\n",
       "function span(text, styleAttributes = {}) {\n",
       "  const element = document.createElement('span');\n",
       "  element.textContent = text;\n",
       "  for (const key of Object.keys(styleAttributes)) {\n",
       "    element.style[key] = styleAttributes[key];\n",
       "  }\n",
       "  return element;\n",
       "}\n",
       "\n",
       "// Max number of bytes which will be uploaded at a time.\n",
       "const MAX_PAYLOAD_SIZE = 100 * 1024;\n",
       "\n",
       "function _uploadFiles(inputId, outputId) {\n",
       "  const steps = uploadFilesStep(inputId, outputId);\n",
       "  const outputElement = document.getElementById(outputId);\n",
       "  // Cache steps on the outputElement to make it available for the next call\n",
       "  // to uploadFilesContinue from Python.\n",
       "  outputElement.steps = steps;\n",
       "\n",
       "  return _uploadFilesContinue(outputId);\n",
       "}\n",
       "\n",
       "// This is roughly an async generator (not supported in the browser yet),\n",
       "// where there are multiple asynchronous steps and the Python side is going\n",
       "// to poll for completion of each step.\n",
       "// This uses a Promise to block the python side on completion of each step,\n",
       "// then passes the result of the previous step as the input to the next step.\n",
       "function _uploadFilesContinue(outputId) {\n",
       "  const outputElement = document.getElementById(outputId);\n",
       "  const steps = outputElement.steps;\n",
       "\n",
       "  const next = steps.next(outputElement.lastPromiseValue);\n",
       "  return Promise.resolve(next.value.promise).then((value) => {\n",
       "    // Cache the last promise value to make it available to the next\n",
       "    // step of the generator.\n",
       "    outputElement.lastPromiseValue = value;\n",
       "    return next.value.response;\n",
       "  });\n",
       "}\n",
       "\n",
       "/**\n",
       " * Generator function which is called between each async step of the upload\n",
       " * process.\n",
       " * @param {string} inputId Element ID of the input file picker element.\n",
       " * @param {string} outputId Element ID of the output display.\n",
       " * @return {!Iterable<!Object>} Iterable of next steps.\n",
       " */\n",
       "function* uploadFilesStep(inputId, outputId) {\n",
       "  const inputElement = document.getElementById(inputId);\n",
       "  inputElement.disabled = false;\n",
       "\n",
       "  const outputElement = document.getElementById(outputId);\n",
       "  outputElement.innerHTML = '';\n",
       "\n",
       "  const pickedPromise = new Promise((resolve) => {\n",
       "    inputElement.addEventListener('change', (e) => {\n",
       "      resolve(e.target.files);\n",
       "    });\n",
       "  });\n",
       "\n",
       "  const cancel = document.createElement('button');\n",
       "  inputElement.parentElement.appendChild(cancel);\n",
       "  cancel.textContent = 'Cancel upload';\n",
       "  const cancelPromise = new Promise((resolve) => {\n",
       "    cancel.onclick = () => {\n",
       "      resolve(null);\n",
       "    };\n",
       "  });\n",
       "\n",
       "  // Wait for the user to pick the files.\n",
       "  const files = yield {\n",
       "    promise: Promise.race([pickedPromise, cancelPromise]),\n",
       "    response: {\n",
       "      action: 'starting',\n",
       "    }\n",
       "  };\n",
       "\n",
       "  cancel.remove();\n",
       "\n",
       "  // Disable the input element since further picks are not allowed.\n",
       "  inputElement.disabled = true;\n",
       "\n",
       "  if (!files) {\n",
       "    return {\n",
       "      response: {\n",
       "        action: 'complete',\n",
       "      }\n",
       "    };\n",
       "  }\n",
       "\n",
       "  for (const file of files) {\n",
       "    const li = document.createElement('li');\n",
       "    li.append(span(file.name, {fontWeight: 'bold'}));\n",
       "    li.append(span(\n",
       "        `(${file.type || 'n/a'}) - ${file.size} bytes, ` +\n",
       "        `last modified: ${\n",
       "            file.lastModifiedDate ? file.lastModifiedDate.toLocaleDateString() :\n",
       "                                    'n/a'} - `));\n",
       "    const percent = span('0% done');\n",
       "    li.appendChild(percent);\n",
       "\n",
       "    outputElement.appendChild(li);\n",
       "\n",
       "    const fileDataPromise = new Promise((resolve) => {\n",
       "      const reader = new FileReader();\n",
       "      reader.onload = (e) => {\n",
       "        resolve(e.target.result);\n",
       "      };\n",
       "      reader.readAsArrayBuffer(file);\n",
       "    });\n",
       "    // Wait for the data to be ready.\n",
       "    let fileData = yield {\n",
       "      promise: fileDataPromise,\n",
       "      response: {\n",
       "        action: 'continue',\n",
       "      }\n",
       "    };\n",
       "\n",
       "    // Use a chunked sending to avoid message size limits. See b/62115660.\n",
       "    let position = 0;\n",
       "    do {\n",
       "      const length = Math.min(fileData.byteLength - position, MAX_PAYLOAD_SIZE);\n",
       "      const chunk = new Uint8Array(fileData, position, length);\n",
       "      position += length;\n",
       "\n",
       "      const base64 = btoa(String.fromCharCode.apply(null, chunk));\n",
       "      yield {\n",
       "        response: {\n",
       "          action: 'append',\n",
       "          file: file.name,\n",
       "          data: base64,\n",
       "        },\n",
       "      };\n",
       "\n",
       "      let percentDone = fileData.byteLength === 0 ?\n",
       "          100 :\n",
       "          Math.round((position / fileData.byteLength) * 100);\n",
       "      percent.textContent = `${percentDone}% done`;\n",
       "\n",
       "    } while (position < fileData.byteLength);\n",
       "  }\n",
       "\n",
       "  // All done.\n",
       "  yield {\n",
       "    response: {\n",
       "      action: 'complete',\n",
       "    }\n",
       "  };\n",
       "}\n",
       "\n",
       "scope.google = scope.google || {};\n",
       "scope.google.colab = scope.google.colab || {};\n",
       "scope.google.colab._files = {\n",
       "  _uploadFiles,\n",
       "  _uploadFilesContinue,\n",
       "};\n",
       "})(self);\n",
       "</script> "
      ],
      "text/plain": [
       "<IPython.core.display.HTML object>"
      ]
     },
     "metadata": {},
     "output_type": "display_data"
    },
    {
     "name": "stdout",
     "output_type": "stream",
     "text": [
      "Saving order_payments_dataset.csv to order_payments_dataset.csv\n"
     ]
    }
   ],
   "source": [
    "import pandas as pd\n",
    "from google.colab import files\n",
    "import io\n",
    "\n",
    "uploaded = files.upload()\n",
    "\n",
    "payments_df = pd.read_csv(io.BytesIO(uploaded['order_payments_dataset.csv']))"
   ]
  },
  {
   "cell_type": "code",
   "execution_count": null,
   "metadata": {
    "id": "VlzhicmcEwDn"
   },
   "outputs": [],
   "source": [
    "orders_df = pd.read_csv('orders_dataset.csv')\n",
    "payments_df = pd.read_csv('order_payments_dataset.csv')"
   ]
  },
  {
   "cell_type": "code",
   "execution_count": null,
   "metadata": {
    "colab": {
     "base_uri": "https://localhost:8080/"
    },
    "id": "BInbRcYaE6KD",
    "outputId": "dd612971-f15c-48cc-d994-0c92f0003f6c"
   },
   "outputs": [
    {
     "name": "stdout",
     "output_type": "stream",
     "text": [
      "Index(['order_id', 'customer_id', 'order_status', 'order_purchase_timestamp',\n",
      "       'order_approved_at', 'order_delivered_carrier_date',\n",
      "       'order_delivered_customer_date', 'order_estimated_delivery_date'],\n",
      "      dtype='object')\n",
      "Index(['order_id', 'payment_sequential', 'payment_type',\n",
      "       'payment_installments', 'payment_value'],\n",
      "      dtype='object')\n"
     ]
    }
   ],
   "source": [
    "print(orders_df.columns)\n",
    "print(payments_df.columns)\n"
   ]
  },
  {
   "cell_type": "code",
   "execution_count": null,
   "metadata": {
    "colab": {
     "base_uri": "https://localhost:8080/"
    },
    "id": "_ObBPJcXFsu0",
    "outputId": "a7711356-bbbb-4185-b526-5e69135784db"
   },
   "outputs": [
    {
     "name": "stdout",
     "output_type": "stream",
     "text": [
      "                           order_id                       customer_id  \\\n",
      "0  e481f51cbdc54678b7cc49136f2d6af7  9ef432eb6251297304e76186b10a928d   \n",
      "1  e481f51cbdc54678b7cc49136f2d6af7  9ef432eb6251297304e76186b10a928d   \n",
      "2  e481f51cbdc54678b7cc49136f2d6af7  9ef432eb6251297304e76186b10a928d   \n",
      "3  53cdb2fc8bc7dce0b6741e2150273451  b0830fb4747a6c6d20dea0b8c802d7ef   \n",
      "4  47770eb9100c2d0c44946d9cf07ec65d  41ce2a54c0b03bf3443c3d931a367089   \n",
      "\n",
      "  order_status order_purchase_timestamp    order_approved_at  \\\n",
      "0    delivered      2017-10-02 10:56:33  2017-10-02 11:07:15   \n",
      "1    delivered      2017-10-02 10:56:33  2017-10-02 11:07:15   \n",
      "2    delivered      2017-10-02 10:56:33  2017-10-02 11:07:15   \n",
      "3    delivered      2018-07-24 20:41:37  2018-07-26 03:24:27   \n",
      "4    delivered      2018-08-08 08:38:49  2018-08-08 08:55:23   \n",
      "\n",
      "  order_delivered_carrier_date order_delivered_customer_date  \\\n",
      "0          2017-10-04 19:55:00           2017-10-10 21:25:13   \n",
      "1          2017-10-04 19:55:00           2017-10-10 21:25:13   \n",
      "2          2017-10-04 19:55:00           2017-10-10 21:25:13   \n",
      "3          2018-07-26 14:31:00           2018-08-07 15:27:45   \n",
      "4          2018-08-08 13:50:00           2018-08-17 18:06:29   \n",
      "\n",
      "  order_estimated_delivery_date  payment_sequential payment_type  \\\n",
      "0           2017-10-18 00:00:00                   1  credit_card   \n",
      "1           2017-10-18 00:00:00                   3      voucher   \n",
      "2           2017-10-18 00:00:00                   2      voucher   \n",
      "3           2018-08-13 00:00:00                   1       boleto   \n",
      "4           2018-09-04 00:00:00                   1  credit_card   \n",
      "\n",
      "   payment_installments  payment_value  \n",
      "0                     1          18.12  \n",
      "1                     1           2.00  \n",
      "2                     1          18.59  \n",
      "3                     1         141.46  \n",
      "4                     3         179.12  \n"
     ]
    }
   ],
   "source": [
    "merged_df = pd.merge(orders_df, payments_df, on='order_id')\n",
    "print(merged_df.head())\n"
   ]
  },
  {
   "cell_type": "code",
   "execution_count": null,
   "metadata": {
    "colab": {
     "base_uri": "https://localhost:8080/"
    },
    "id": "0dDdo8X-GB9W",
    "outputId": "105b2f23-de2d-47c0-fcc9-e9e7f84a6c50"
   },
   "outputs": [
    {
     "name": "stdout",
     "output_type": "stream",
     "text": [
      "payment_type  boleto  credit_card  debit_card  not_defined  voucher\n",
      "order_month                                                        \n",
      "2016-09          NaN          4.0         NaN          NaN      NaN\n",
      "2016-10         71.0        235.0         3.0          NaN     15.0\n",
      "2016-12          NaN          1.0         NaN          NaN      NaN\n",
      "2017-01        155.0        594.0         9.0          NaN     42.0\n",
      "2017-02        343.0       1311.0        22.0          NaN    104.0\n",
      "2017-03        510.0       2000.0        51.0          1.0    120.0\n",
      "2017-04        443.0       1811.0        27.0          NaN    123.0\n",
      "2017-05        727.0       2711.0        51.0          NaN    211.0\n",
      "2017-06        598.0       2430.0        46.0          NaN    171.0\n",
      "2017-07        766.0       2964.0        74.0          NaN    222.0\n",
      "2017-08        852.0       3181.0        55.0          1.0    242.0\n",
      "2017-09        823.0       3144.0        72.0          NaN    246.0\n",
      "2017-10        860.0       3453.0        75.0          NaN    243.0\n",
      "2017-11       1444.0       5586.0       113.0          NaN    401.0\n",
      "2017-12       1072.0       4173.0        84.0          NaN    344.0\n",
      "2018-01       1338.0       5428.0       104.0          NaN    399.0\n",
      "2018-02       1263.0       4978.0       105.0          NaN    382.0\n",
      "2018-03       1410.0       5301.0       108.0          1.0    391.0\n",
      "2018-04       1358.0       5089.0        93.0          NaN    399.0\n",
      "2018-05       1353.0       5018.0        95.0          NaN    407.0\n",
      "2018-06       1159.0       4589.0        95.0          NaN    324.0\n",
      "2018-07       1173.0       4675.0       105.0          NaN    339.0\n",
      "2018-08       1234.0       4837.0        81.0          NaN    360.0\n",
      "2018-09          6.0          8.0         1.0          NaN      1.0\n",
      "2018-10          NaN          3.0         NaN          NaN      1.0\n"
     ]
    }
   ],
   "source": [
    "orders_df['order_purchase_timestamp'] = pd.to_datetime(orders_df['order_purchase_timestamp'])\n",
    "merged_df['order_month'] = orders_df['order_purchase_timestamp'].dt.to_period('M')\n",
    "\n",
    "# Hitung jumlah metode pembayaran per bulan\n",
    "payment_trends = merged_df.groupby(['order_month', 'payment_type']).size().unstack()\n",
    "print(payment_trends)\n"
   ]
  },
  {
   "cell_type": "code",
   "execution_count": null,
   "metadata": {
    "colab": {
     "base_uri": "https://localhost:8080/"
    },
    "id": "TLf3MrZjHUlx",
    "outputId": "922a1f4b-93b0-400b-c5a2-b9114a35f981"
   },
   "outputs": [
    {
     "name": "stdout",
     "output_type": "stream",
     "text": [
      "payment_type\n",
      "credit_card    76795\n",
      "boleto         19784\n",
      "voucher         5775\n",
      "debit_card      1529\n",
      "not_defined        3\n",
      "Name: count, dtype: int64\n"
     ]
    }
   ],
   "source": [
    "payment_counts = merged_df['payment_type'].value_counts()\n",
    "print(payment_counts)\n"
   ]
  },
  {
   "cell_type": "code",
   "execution_count": null,
   "metadata": {
    "colab": {
     "base_uri": "https://localhost:8080/"
    },
    "id": "Mrc4Kk6qJmpv",
    "outputId": "1a211a0e-a0e8-4241-ae5e-6e1d0e8efb71"
   },
   "outputs": [
    {
     "name": "stdout",
     "output_type": "stream",
     "text": [
      "order_status\n",
      "approved       120.540000\n",
      "canceled       215.746386\n",
      "created        137.620000\n",
      "delivered      153.067428\n",
      "invoiced       212.732277\n",
      "processing     217.536395\n",
      "shipped        151.984528\n",
      "unavailable    194.883683\n",
      "Name: payment_value, dtype: float64\n"
     ]
    }
   ],
   "source": [
    "payment_by_status = merged_df.groupby('order_status')['payment_value'].mean()\n",
    "print(payment_by_status)\n"
   ]
  },
  {
   "cell_type": "code",
   "execution_count": null,
   "metadata": {
    "colab": {
     "base_uri": "https://localhost:8080/"
    },
    "id": "NM6IIfKTLZNx",
    "outputId": "43b0ca96-6940-452d-cddf-623442cd9978"
   },
   "outputs": [
    {
     "name": "stdout",
     "output_type": "stream",
     "text": [
      "order_status  approved  canceled  created  delivered  invoiced  processing  \\\n",
      "payment_type                                                                 \n",
      "boleto               0        95        2      19191        67          70   \n",
      "credit_card          2       444        3      74586       239         224   \n",
      "debit_card           0         7        0       1486         6           2   \n",
      "not_defined          0         3        0          0         0           0   \n",
      "voucher              0       115        0       5493        13          23   \n",
      "\n",
      "order_status  shipped  unavailable  \n",
      "payment_type                        \n",
      "boleto            209          150  \n",
      "credit_card       851          446  \n",
      "debit_card         22            6  \n",
      "not_defined         0            0  \n",
      "voucher            84           47  \n"
     ]
    }
   ],
   "source": [
    "status_by_payment = merged_df.pivot_table(index='payment_type', columns='order_status', aggfunc='size', fill_value=0)\n",
    "print(status_by_payment)\n"
   ]
  },
  {
   "cell_type": "markdown",
   "metadata": {
    "id": "MMi6xGaDkbCi"
   },
   "source": [
    "**Insight:**\n",
    "- berdasarkan hasil analisis diatas dapat disimpulkan bahwa metode pembayaran yang palig sering digunakan adalah credit card\n",
    "- Pesanan dengan nilai pembayaran lebih tinggi cenderung mengalami lebih banyak masalah atau penundaan, terbukti dari nilai rata-rata yang lebih tinggi pada pesanan yang canceled, processing, atau dalam tahap invoiced.\n",
    "- Credit Card memiliki jumlah pesanan yang jauh lebih besar (lebih dari 74.000 yang berhasil dikirim), tetapi juga memiliki tingkat pembatalan yang relatif tinggi (444 pesanan dibatalkan)."
   ]
  },
  {
   "cell_type": "markdown",
   "metadata": {
    "id": "FHSiqaZp8DC1"
   },
   "source": [
    "### Assessing Data"
   ]
  },
  {
   "cell_type": "code",
   "execution_count": null,
   "metadata": {
    "colab": {
     "base_uri": "https://localhost:8080/"
    },
    "id": "ax-3tEjc9Cj1",
    "outputId": "daf0ff32-4591-4a80-c1e7-f7cedb8d6a38"
   },
   "outputs": [
    {
     "name": "stdout",
     "output_type": "stream",
     "text": [
      "Missing values in orders dataset:\n",
      "order_id                            0\n",
      "customer_id                         0\n",
      "order_status                        0\n",
      "order_purchase_timestamp            0\n",
      "order_approved_at                 160\n",
      "order_delivered_carrier_date     1783\n",
      "order_delivered_customer_date    2965\n",
      "order_estimated_delivery_date       0\n",
      "dtype: int64\n",
      "\n",
      "Missing values in payments dataset:\n",
      "order_id                0\n",
      "payment_sequential      0\n",
      "payment_type            0\n",
      "payment_installments    0\n",
      "payment_value           0\n",
      "dtype: int64\n"
     ]
    }
   ],
   "source": [
    "import pandas as pd\n",
    "\n",
    "orders_df = pd.read_csv('orders_dataset.csv')\n",
    "payments_df = pd.read_csv('order_payments_dataset.csv')\n",
    "\n",
    "missing_orders = orders_df.isnull().sum()\n",
    "missing_payments = payments_df.isnull().sum()\n",
    "\n",
    "print(\"Missing values in orders dataset:\")\n",
    "print(missing_orders)\n",
    "\n",
    "print(\"\\nMissing values in payments dataset:\")\n",
    "print(missing_payments)\n"
   ]
  },
  {
   "cell_type": "code",
   "execution_count": null,
   "metadata": {
    "colab": {
     "base_uri": "https://localhost:8080/"
    },
    "id": "ahF6yIoFSOHB",
    "outputId": "ac653184-f700-4cbd-b1b6-cfbc1a52e596"
   },
   "outputs": [
    {
     "name": "stdout",
     "output_type": "stream",
     "text": [
      "Duplicate entries in orders dataset:\n",
      "Empty DataFrame\n",
      "Columns: [order_id, customer_id, order_status, order_purchase_timestamp, order_approved_at, order_delivered_carrier_date, order_delivered_customer_date, order_estimated_delivery_date]\n",
      "Index: []\n",
      "\n",
      "Duplicate entries in payments dataset:\n",
      "                                order_id  payment_sequential payment_type  \\\n",
      "25      5cfd514482e22bc992e7693f0e3e8df7                   2      voucher   \n",
      "35      b2bb080b6bc860118a246fd9b6fad6da                   1  credit_card   \n",
      "75      3689194c14ad4e2e7361ebd1df0e77b0                   2      voucher   \n",
      "84      723e462ce1ee50e024887c0b403130f3                   1  credit_card   \n",
      "102     21b8b46679ea6482cbf911d960490048                   2      voucher   \n",
      "...                                  ...                 ...          ...   \n",
      "103778  fd86c80924b4be8fb7f58c4ecc680dae                   1  credit_card   \n",
      "103817  6d4616de4341417e17978fe57aec1c46                   1  credit_card   \n",
      "103860  31bc09fdbd701a7a4f9b55b5955b8687                   6      voucher   \n",
      "103869  c9b01bef18eb84888f0fd071b8413b38                   1  credit_card   \n",
      "103874  d41f1036712e18ee525939d08b7a1c98                   1  credit_card   \n",
      "\n",
      "        payment_installments  payment_value  \n",
      "25                         1          45.17  \n",
      "35                         1         173.84  \n",
      "75                         1          57.53  \n",
      "84                         1          13.80  \n",
      "102                        1          43.12  \n",
      "...                      ...            ...  \n",
      "103778                     1          76.10  \n",
      "103817                     1          19.18  \n",
      "103860                     1          77.99  \n",
      "103869                     6         238.16  \n",
      "103874                     1           3.57  \n",
      "\n",
      "[7407 rows x 5 columns]\n"
     ]
    }
   ],
   "source": [
    "import pandas as pd\n",
    "\n",
    "orders_df = pd.read_csv('orders_dataset.csv')\n",
    "payments_df = pd.read_csv('order_payments_dataset.csv')\n",
    "\n",
    "# Mencari duplikat pada orders dataset berdasarkan kolom order_id\n",
    "duplicate_orders = orders_df[orders_df.duplicated(subset=['order_id'], keep=False)]\n",
    "\n",
    "# Mencari duplikat pada payments dataset berdasarkan kolom order_id\n",
    "duplicate_payments = payments_df[payments_df.duplicated(subset=['order_id'], keep=False)]\n",
    "\n",
    "# Menampilkan hasil duplikat\n",
    "print(\"Duplicate entries in orders dataset:\")\n",
    "print(duplicate_orders)\n",
    "\n",
    "print(\"\\nDuplicate entries in payments dataset:\")\n",
    "print(duplicate_payments)\n"
   ]
  },
  {
   "cell_type": "code",
   "execution_count": null,
   "metadata": {
    "colab": {
     "base_uri": "https://localhost:8080/"
    },
    "id": "YJzPUzRnU9t2",
    "outputId": "12dbff55-f743-4994-90c3-e547cbef8b6f"
   },
   "outputs": [
    {
     "name": "stdout",
     "output_type": "stream",
     "text": [
      "Outliers in payment_value:\n",
      "                                order_id  payment_sequential payment_type  \\\n",
      "23      4d680edbaa7d3d9bed69532957368a03                   1  credit_card   \n",
      "26      d0a945f85ba1074b60aac97ade7e240e                   1  credit_card   \n",
      "52      2e2c60b99754ae1e4d8b18846cfec9f2                   1  credit_card   \n",
      "54      95442deb81a5d91c97c0df96b431634a                   1       boleto   \n",
      "61      3ab4eea6776259ae8dfbabaeffece352                   1  credit_card   \n",
      "...                                  ...                 ...          ...   \n",
      "103814  df8ab61cb615d551483618533aceb364                   1  credit_card   \n",
      "103843  262bf694d9c87de7844dd80b98fcfef3                   1  credit_card   \n",
      "103861  691688405bcee3ff9023639514498962                   1  credit_card   \n",
      "103881  0406037ad97740d563a178ecc7a2075c                   1       boleto   \n",
      "103884  b8b61059626efa996a60be9bb9320e10                   1  credit_card   \n",
      "\n",
      "        payment_installments  payment_value  \n",
      "23                        10         353.09  \n",
      "26                         2         541.00  \n",
      "52                         4         542.66  \n",
      "54                         1         368.98  \n",
      "61                         8         387.80  \n",
      "...                      ...            ...  \n",
      "103814                    10         713.65  \n",
      "103843                     5         372.08  \n",
      "103861                     1         356.53  \n",
      "103881                     1         363.31  \n",
      "103884                     5         369.54  \n",
      "\n",
      "[7981 rows x 5 columns]\n"
     ]
    }
   ],
   "source": [
    "# mengidentifikasi outlier menggunakan IQR method\n",
    "# Menghitung Q1 (kuartil pertama) dan Q3 (kuartil ketiga) untuk kolom payment_value\n",
    "Q1 = payments_df['payment_value'].quantile(0.25)\n",
    "Q3 = payments_df['payment_value'].quantile(0.75)\n",
    "IQR = Q3 - Q1\n",
    "\n",
    "# Menetapkan batas bawah dan atas\n",
    "lower_bound = Q1 - 1.5 * IQR\n",
    "upper_bound = Q3 + 1.5 * IQR\n",
    "\n",
    "# Menemukan nilai yang berada di luar batas (outliers)\n",
    "outliers_payments = payments_df[(payments_df['payment_value'] < lower_bound) |\n",
    "                                (payments_df['payment_value'] > upper_bound)]\n",
    "\n",
    "print(\"Outliers in payment_value:\")\n",
    "print(outliers_payments)\n"
   ]
  },
  {
   "cell_type": "code",
   "execution_count": null,
   "metadata": {
    "colab": {
     "base_uri": "https://localhost:8080/"
    },
    "id": "ZtSPfulJV8ya",
    "outputId": "e89b8e91-818d-4ec2-940e-fa531ed27f04"
   },
   "outputs": [
    {
     "name": "stdout",
     "output_type": "stream",
     "text": [
      "Outliers in delivery duration:\n",
      "                               order_id  delivery_duration\n",
      "29     ecab90c9933c58908d3d6add7c6f5ae3               30.0\n",
      "35     8563039e855156e48fccee4d611a3196               30.0\n",
      "41     6ea2f835b4556291ffdc53fa0b3b95e8               33.0\n",
      "97     6a0a8bfbbe700284feb0845d95e0867f               36.0\n",
      "110    9d531c565e28c3e0d756192f84d8731f               56.0\n",
      "...                                 ...                ...\n",
      "99130  85a543ebc5aa8bcbbf7974c03ed49ca2               29.0\n",
      "99266  76a948cd55bf22799753720d4545dd2d               47.0\n",
      "99279  4cf09d9e5ebbe0f91ddd7bf9aae891cd               32.0\n",
      "99423  38e9133ce29f6bbe35aed9c3863dce01               39.0\n",
      "99432  cfa78b997e329a5295b4ee6972c02979               37.0\n",
      "\n",
      "[5025 rows x 2 columns]\n"
     ]
    }
   ],
   "source": [
    "# mengidentifikasi outlier menggunakan IQR method\n",
    "# Mengkonversi kolom waktu ke datetime\n",
    "orders_df['order_purchase_timestamp'] = pd.to_datetime(orders_df['order_purchase_timestamp'])\n",
    "orders_df['order_delivered_customer_date'] = pd.to_datetime(orders_df['order_delivered_customer_date'])\n",
    "\n",
    "# Menghitung selisih hari antara waktu pembelian dan pengiriman\n",
    "orders_df['delivery_duration'] = (orders_df['order_delivered_customer_date'] -\n",
    "                                  orders_df['order_purchase_timestamp']).dt.days\n",
    "\n",
    "# Mendeteksi outlier pada kolom delivery_duration\n",
    "Q3 = orders_df['delivery_duration'].quantile(0.75)\n",
    "IQR = Q3 - Q1\n",
    "\n",
    "# Menetapkan batas bawah dan atas untuk outlier\n",
    "lower_bound = Q1 - 1.5 * IQR\n",
    "upper_bound = Q3 + 1.5 * IQR\n",
    "\n",
    "# Menemukan nilai outliers\n",
    "outliers_orders = orders_df[(orders_df['delivery_duration'] < lower_bound) |\n",
    "                            (orders_df['delivery_duration'] > upper_bound)]\n",
    "\n",
    "print(\"Outliers in delivery duration:\")\n",
    "print(outliers_orders[['order_id', 'delivery_duration']])\n"
   ]
  },
  {
   "cell_type": "markdown",
   "metadata": {
    "id": "7dtxhAPrkhPL"
   },
   "source": [
    "**Insight:**\n",
    "- Terdapat Missing value pada order dataset di 3 kolom yakni order_approved_at, order_delivered_carrier_date dan order_delivered_customer_date sedangkan pada payments dataset tidak terdapat adanya Missing value.\n",
    "- pada order dataset tidak terdapat data duplicate namun pada payments dataset terdapat duplicate sebanyak 7407 baris data dengan 5 kolom\n",
    "- terdapat 7981 baris yang dianggap sebagai outliers berdasarkan metode IQR pada kolom payment_value dalam payments dataset\n",
    "- terdapat 5025 baris yang dianggap sebagai outliers berdasarkan metode IQR pada kolom order_delivered_customer_date dalam orders dataset"
   ]
  },
  {
   "cell_type": "markdown",
   "metadata": {
    "id": "EhN5R4hr8DC1"
   },
   "source": [
    "### Cleaning Data"
   ]
  },
  {
   "cell_type": "code",
   "execution_count": null,
   "metadata": {
    "colab": {
     "base_uri": "https://localhost:8080/"
    },
    "id": "a5vFkGNxHONX",
    "outputId": "ecbfbd5d-0e68-4280-ac3c-934b62cd45a7"
   },
   "outputs": [
    {
     "name": "stdout",
     "output_type": "stream",
     "text": [
      "                               order_id                       customer_id  \\\n",
      "68918  a4dbe30538bb3edfdc9fe37ba1b1b3b7  4ac0daffac0a6cb85840a734b908c0f9   \n",
      "58286  b277c79061d5d57c196e249f373abccb  3d2a4d705b7d68ad838c79434ff1b628   \n",
      "4939   b13ea375fe9c728832688264638f84cf  0dc5884bc5ffba283678229f27e07ff9   \n",
      "97344  3216bdc94713b4b433cac7f20212fcca  e28848a09b5a8507b3f864b74c9a7d22   \n",
      "28551  55aeba08a7d54fd54220244c4dfdb559  e2cbf3aa452a25609a3dd8aba84071a6   \n",
      "\n",
      "      order_status order_purchase_timestamp order_approved_at  \\\n",
      "68918    delivered         11/14/2017 18:21  11/14/2017 18:30   \n",
      "58286    delivered         11/26/2017 20:21  11/26/2017 20:32   \n",
      "4939      canceled          8/22/2018 18:52               NaN   \n",
      "97344    delivered          8/14/2017 13:50   8/14/2017 14:15   \n",
      "28551    delivered         11/24/2017 23:03   11/25/2017 2:14   \n",
      "\n",
      "      order_delivered_carrier_date order_delivered_customer_date  \\\n",
      "68918             11/16/2017 19:44              11/22/2017 19:47   \n",
      "58286               12/1/2017 0:16               12/1/2017 21:59   \n",
      "4939                           NaN                           NaN   \n",
      "97344              8/17/2017 14:48               8/24/2017 21:25   \n",
      "28551             11/27/2017 16:59              12/13/2017 22:22   \n",
      "\n",
      "      order_estimated_delivery_date  \n",
      "68918                12/4/2017 0:00  \n",
      "58286               12/11/2017 0:00  \n",
      "4939                 9/19/2018 0:00  \n",
      "97344                 9/1/2017 0:00  \n",
      "28551               12/21/2017 0:00  \n",
      "                                order_id  payment_sequential payment_type  \\\n",
      "70530   221551c6f382d4a72ae787a2b65c2ccc                   1       boleto   \n",
      "55582   c3d40727f60424d81739c4647fab72aa                   1  credit_card   \n",
      "101793  eeb001d21f4952518b004776f88265a0                   1  credit_card   \n",
      "81516   9287e4565306ec8435df6a40c6f481ac                   2      voucher   \n",
      "85600   2a834f698c8b713627f7729b9c164746                   1  credit_card   \n",
      "\n",
      "        payment_installments  payment_value  \n",
      "70530                      1          45.20  \n",
      "55582                      5         110.00  \n",
      "101793                     1          33.69  \n",
      "81516                      1          50.00  \n",
      "85600                     10         148.13  \n"
     ]
    }
   ],
   "source": [
    "import pandas as pd\n",
    "\n",
    "orders_df = pd.read_csv('orders_dataset.csv')\n",
    "\n",
    "# Menampilkan 5 baris acak dari orders_df\n",
    "print(orders_df.sample(5))\n",
    "\n",
    "payments_df = pd.read_csv('order_payments_dataset.csv')\n",
    "\n",
    "# Menampilkan 5 baris acak dari payments_df\n",
    "print(payments_df.sample(5))"
   ]
  },
  {
   "cell_type": "code",
   "execution_count": null,
   "metadata": {
    "colab": {
     "base_uri": "https://localhost:8080/"
    },
    "id": "NEECCLVoOb56",
    "outputId": "870abfbd-592a-45bd-9c4c-f69d5a7f87c9"
   },
   "outputs": [
    {
     "name": "stdout",
     "output_type": "stream",
     "text": [
      "Missing values in orders dataset:\n",
      "order_id                            0\n",
      "customer_id                         0\n",
      "order_status                        0\n",
      "order_purchase_timestamp            0\n",
      "order_approved_at                 160\n",
      "order_delivered_carrier_date     1783\n",
      "order_delivered_customer_date    2965\n",
      "order_estimated_delivery_date       0\n",
      "dtype: int64\n",
      "\n",
      "Missing values in payments dataset:\n",
      "order_id                0\n",
      "payment_sequential      0\n",
      "payment_type            0\n",
      "payment_installments    0\n",
      "payment_value           0\n",
      "dtype: int64\n"
     ]
    }
   ],
   "source": [
    "import pandas as pd\n",
    "\n",
    "orders_df = pd.read_csv('orders_dataset.csv')\n",
    "payments_df = pd.read_csv('order_payments_dataset.csv')\n",
    "\n",
    "missing_orders = orders_df.isnull().sum()\n",
    "missing_payments = payments_df.isnull().sum()\n",
    "\n",
    "print(\"Missing values in orders dataset:\")\n",
    "print(missing_orders)\n",
    "\n",
    "print(\"\\nMissing values in payments dataset:\")\n",
    "print(missing_payments)"
   ]
  },
  {
   "cell_type": "code",
   "execution_count": null,
   "metadata": {
    "colab": {
     "base_uri": "https://localhost:8080/"
    },
    "id": "M5y_QNBVPMCO",
    "outputId": "99303ad3-e2b4-4267-92e8-a52cfc084123"
   },
   "outputs": [
    {
     "name": "stdout",
     "output_type": "stream",
     "text": [
      "order_id                         0\n",
      "customer_id                      0\n",
      "order_status                     0\n",
      "order_purchase_timestamp         0\n",
      "order_approved_at                0\n",
      "order_delivered_carrier_date     0\n",
      "order_delivered_customer_date    0\n",
      "order_estimated_delivery_date    0\n",
      "dtype: int64\n"
     ]
    }
   ],
   "source": [
    "# Menghapus baris yang memiliki missing values\n",
    "orders_df.dropna(subset=['order_approved_at', 'order_delivered_carrier_date', 'order_delivered_customer_date'], inplace=True)\n",
    "\n",
    "# Cek ulang apakah missing values telah dihapus\n",
    "print(orders_df.isnull().sum())\n"
   ]
  },
  {
   "cell_type": "code",
   "execution_count": null,
   "metadata": {
    "colab": {
     "base_uri": "https://localhost:8080/"
    },
    "id": "G7F1gRthPRkw",
    "outputId": "c909766f-0408-4171-b78c-1d9483d820b8"
   },
   "outputs": [
    {
     "name": "stdout",
     "output_type": "stream",
     "text": [
      "order_id                         0\n",
      "customer_id                      0\n",
      "order_status                     0\n",
      "order_purchase_timestamp         0\n",
      "order_approved_at                0\n",
      "order_delivered_carrier_date     0\n",
      "order_delivered_customer_date    0\n",
      "order_estimated_delivery_date    0\n",
      "dtype: int64\n"
     ]
    }
   ],
   "source": [
    "# Memastikan dataset asli tersimpan dengan perubahan\n",
    "orders_df_clean = orders_df.copy()\n",
    "\n",
    "# Cek ulang hasilnya\n",
    "print(orders_df_clean.isnull().sum())\n"
   ]
  },
  {
   "cell_type": "code",
   "execution_count": null,
   "metadata": {
    "colab": {
     "base_uri": "https://localhost:8080/"
    },
    "id": "yHEQviFRRwj4",
    "outputId": "3d084a57-8eab-405d-a1bd-3b08b35a4659"
   },
   "outputs": [
    {
     "name": "stdout",
     "output_type": "stream",
     "text": [
      "Duplicate rows in orders dataset:\n",
      "Empty DataFrame\n",
      "Columns: [order_id, customer_id, order_status, order_purchase_timestamp, order_approved_at, order_delivered_carrier_date, order_delivered_customer_date, order_estimated_delivery_date]\n",
      "Index: []\n",
      "Duplicate rows in payments dataset:\n",
      "Empty DataFrame\n",
      "Columns: [order_id, payment_sequential, payment_type, payment_installments, payment_value]\n",
      "Index: []\n"
     ]
    }
   ],
   "source": [
    "# Menampilkan baris duplikat berdasarkan seluruh kolom\n",
    "duplicates_orders = orders_df[orders_df.duplicated()]\n",
    "duplicates_payments = payments_df[payments_df.duplicated()]\n",
    "\n",
    "# Menampilkan duplikat di dataset orders\n",
    "print(\"Duplicate rows in orders dataset:\")\n",
    "print(duplicates_orders)\n",
    "\n",
    "# Menampilkan duplikat di dataset payments\n",
    "print(\"Duplicate rows in payments dataset:\")\n",
    "print(duplicates_payments)\n"
   ]
  },
  {
   "cell_type": "code",
   "execution_count": null,
   "metadata": {
    "colab": {
     "base_uri": "https://localhost:8080/"
    },
    "id": "B7PJY1aSQIVG",
    "outputId": "7c7d6d27-8695-4dd6-f365-0335eba45ca6"
   },
   "outputs": [
    {
     "name": "stdout",
     "output_type": "stream",
     "text": [
      "Files in /content:\n",
      "['.config', 'orders_dataset.csv', 'order_payments_dataset.csv', 'sample_data']\n"
     ]
    }
   ],
   "source": [
    "import os\n",
    "\n",
    "# List semua file di directory\n",
    "print(\"Files in /content:\")\n",
    "print(os.listdir(\"/content\"))\n"
   ]
  },
  {
   "cell_type": "code",
   "execution_count": null,
   "metadata": {
    "colab": {
     "base_uri": "https://localhost:8080/"
    },
    "id": "FXEZpMflQRPC",
    "outputId": "121ea109-0fd1-4365-fd47-32c67fda7db0"
   },
   "outputs": [
    {
     "name": "stdout",
     "output_type": "stream",
     "text": [
      "Files loaded successfully.\n",
      "Dataset payments setelah menghapus outliers pada 'payment_value':\n",
      "                                order_id  payment_sequential payment_type  \\\n",
      "0       b81ef226f3fe1789b1e8b2acac839d17                   1  credit_card   \n",
      "1       a9810da82917af2d9aefd1278f1dcfa0                   1  credit_card   \n",
      "2       25e8ea4e93396b6fa0d3dd708e76c1bd                   1  credit_card   \n",
      "3       ba78997921bbcdc1373bb41e913ab953                   1  credit_card   \n",
      "4       42fdf880ba16b47b59251dd489d4441a                   1  credit_card   \n",
      "...                                  ...                 ...          ...   \n",
      "103879  c45067032fd84f4cf408730ff5205568                   1  credit_card   \n",
      "103880  7159096c5aa9be77f7f0c26c01ee9793                   1  credit_card   \n",
      "103882  7b905861d7c825891d6347454ea7863f                   1  credit_card   \n",
      "103883  32609bbb3dd69b3c066a6860554a77bf                   1  credit_card   \n",
      "103885  28bbae6599b09d39ca406b747b6632b1                   1       boleto   \n",
      "\n",
      "        payment_installments  payment_value  \n",
      "0                          8          99.33  \n",
      "1                          1          24.39  \n",
      "2                          1          65.71  \n",
      "3                          8         107.78  \n",
      "4                          2         128.45  \n",
      "...                      ...            ...  \n",
      "103879                     2         198.94  \n",
      "103880                     4         280.65  \n",
      "103882                     2          96.80  \n",
      "103883                     1          47.77  \n",
      "103885                     1         191.58  \n",
      "\n",
      "[95905 rows x 5 columns]\n",
      "Dataset orders setelah menghapus outliers pada 'order_purchase_timestamp':\n",
      "                               order_id                       customer_id  \\\n",
      "0      e481f51cbdc54678b7cc49136f2d6af7  9ef432eb6251297304e76186b10a928d   \n",
      "1      53cdb2fc8bc7dce0b6741e2150273451  b0830fb4747a6c6d20dea0b8c802d7ef   \n",
      "2      47770eb9100c2d0c44946d9cf07ec65d  41ce2a54c0b03bf3443c3d931a367089   \n",
      "3      949d5b44dbf5de918fe9c16f97b45f8a  f88197465ea7920adcdbec7375364d82   \n",
      "4      ad21c59c0840e6cb83a9ceb5573f8159  8ab97904e6daea8866dbdbc4fb7aad2c   \n",
      "...                                 ...                               ...   \n",
      "99436  9c5dedf39a927c1b2549525ed64a053c  39bd1228ee8140590ac3aca26f2dfe00   \n",
      "99437  63943bddc261676b46f01ca7ac2f7bd8  1fca14ff2861355f6e5f14306ff977a7   \n",
      "99438  83c1379a015df1e13d02aae0204711ab  1aa71eb042121263aafbe80c1b562c9c   \n",
      "99439  11c177c8e97725db2631073c19f07b62  b331b74b18dc79bcdf6532d51e1637c1   \n",
      "99440  66dea50a8b16d9b4dee7af250b4be1a5  edb027a75a1449115f6b43211ae02a24   \n",
      "\n",
      "      order_status  order_purchase_timestamp order_approved_at  \\\n",
      "0        delivered              1.506942e+09   10/2/2017 11:07   \n",
      "1        delivered              1.532465e+09    7/26/2018 3:24   \n",
      "2        delivered              1.533717e+09     8/8/2018 8:55   \n",
      "3        delivered              1.511033e+09  11/18/2017 19:45   \n",
      "4        delivered              1.518557e+09   2/13/2018 22:20   \n",
      "...            ...                       ...               ...   \n",
      "99436    delivered              1.489053e+09     3/9/2017 9:54   \n",
      "99437    delivered              1.517922e+09    2/6/2018 13:10   \n",
      "99438    delivered              1.503845e+09   8/27/2017 15:04   \n",
      "99439    delivered              1.515447e+09    1/8/2018 21:36   \n",
      "99440    delivered              1.520543e+09    3/9/2018 11:20   \n",
      "\n",
      "      order_delivered_carrier_date order_delivered_customer_date  \\\n",
      "0                  10/4/2017 19:55              10/10/2017 21:25   \n",
      "1                  7/26/2018 14:31                8/7/2018 15:27   \n",
      "2                   8/8/2018 13:50               8/17/2018 18:06   \n",
      "3                 11/22/2017 13:39                12/2/2017 0:28   \n",
      "4                  2/14/2018 19:46               2/16/2018 18:17   \n",
      "...                            ...                           ...   \n",
      "99436              3/10/2017 11:18               3/17/2017 15:08   \n",
      "99437               2/7/2018 23:22               2/28/2018 17:37   \n",
      "99438              8/28/2017 20:52               9/21/2017 11:24   \n",
      "99439              1/12/2018 15:35               1/25/2018 23:32   \n",
      "99440               3/9/2018 22:11               3/16/2018 13:08   \n",
      "\n",
      "      order_estimated_delivery_date  \n",
      "0                   10/18/2017 0:00  \n",
      "1                    8/13/2018 0:00  \n",
      "2                     9/4/2018 0:00  \n",
      "3                   12/15/2017 0:00  \n",
      "4                    2/26/2018 0:00  \n",
      "...                             ...  \n",
      "99436                3/28/2017 0:00  \n",
      "99437                 3/2/2018 0:00  \n",
      "99438                9/27/2017 0:00  \n",
      "99439                2/15/2018 0:00  \n",
      "99440                 4/3/2018 0:00  \n",
      "\n",
      "[99437 rows x 8 columns]\n"
     ]
    }
   ],
   "source": [
    "import pandas as pd\n",
    "\n",
    "file_path_orders = '/content/orders_dataset.csv'\n",
    "file_path_payments = '/content/order_payments_dataset.csv'\n",
    "\n",
    "try:\n",
    "    orders_df = pd.read_csv(file_path_orders)\n",
    "    payments_df = pd.read_csv(file_path_payments)\n",
    "    print(\"Files loaded successfully.\")\n",
    "\n",
    "    def remove_outliers(df, column_name):\n",
    "        # Menghitung Q1 (kuartil pertama) dan Q3 (kuartil ketiga)\n",
    "        Q1 = df[column_name].quantile(0.25)\n",
    "        Q3 = df[column_name].quantile(0.75)\n",
    "        IQR = Q3 - Q1\n",
    "\n",
    "        # Menetapkan batas bawah dan atas untuk outlier\n",
    "        lower_bound = Q1 - 1.5 * IQR\n",
    "        upper_bound = Q3 + 1.5 * IQR\n",
    "\n",
    "        # Filter untuk menghapus data yang merupakan outlier\n",
    "        df_clean = df[(df[column_name] >= lower_bound) & (df[column_name] <= upper_bound)]\n",
    "        return df_clean\n",
    "\n",
    "    # Hapus outlier pada payments_df berdasarkan kolom 'payment_value'\n",
    "    payments_df_clean = remove_outliers(payments_df, 'payment_value')\n",
    "    print(\"Dataset payments setelah menghapus outliers pada 'payment_value':\")\n",
    "    print(payments_df_clean)\n",
    "\n",
    "\n",
    "    orders_df['order_purchase_timestamp'] = pd.to_datetime(orders_df['order_purchase_timestamp'], errors='coerce')\n",
    "    orders_df['order_purchase_timestamp'] = orders_df['order_purchase_timestamp'].astype('int64', errors='ignore') // 1e9  \n",
    "    \n",
    "    orders_df_clean = remove_outliers(orders_df, 'order_purchase_timestamp')\n",
    "    print(\"Dataset orders setelah menghapus outliers pada 'order_purchase_timestamp':\")\n",
    "    print(orders_df_clean)\n",
    "\n",
    "except FileNotFoundError:\n",
    "    print(\"Error: One or both of the files were not found in /content directory.\")\n"
   ]
  },
  {
   "cell_type": "code",
   "execution_count": null,
   "metadata": {
    "colab": {
     "base_uri": "https://localhost:8080/",
     "height": 1000
    },
    "id": "Z9Y3fJ2eRNco",
    "outputId": "86dde07e-4b3c-4ce5-d95a-c8891c008620"
   },
   "outputs": [
    {
     "name": "stdout",
     "output_type": "stream",
     "text": [
      "Statistik deskriptif 'payment_value' setelah pembersihan:\n",
      "count    95905.000000\n",
      "mean       110.062133\n",
      "std         72.785054\n",
      "min          0.000000\n",
      "25%         54.000000\n",
      "50%         92.200000\n",
      "75%        150.580000\n",
      "max        344.340000\n",
      "Name: payment_value, dtype: float64\n",
      "\n",
      "Statistik deskriptif 'order_purchase_timestamp' setelah pembersihan:\n",
      "count    9.943700e+04\n",
      "mean     1.514711e+09\n",
      "std      1.327471e+07\n",
      "min      1.475446e+09\n",
      "25%      1.505230e+09\n",
      "50%      1.516317e+09\n",
      "75%      1.525449e+09\n",
      "max      1.539797e+09\n",
      "Name: order_purchase_timestamp, dtype: float64\n",
      "\n",
      "Outliers tersisa pada 'payment_value':\n",
      "                                order_id  payment_sequential payment_type  \\\n",
      "8       1f78449c87a54faf9e96e88ba1491fa9                   1  credit_card   \n",
      "24      8cd68144cdb62dc0d60848cf8616d2a4                   1       boleto   \n",
      "87      198298d54f269d8c5fe89e85a859af61                   1  credit_card   \n",
      "177     b545ba7b0bd67a3128185c7214704319                   1  credit_card   \n",
      "230     251d586514cbf0cace61e03c54a7bf1c                   1  credit_card   \n",
      "...                                  ...                 ...          ...   \n",
      "103692  e2005caf6477eb1b0a0bcce785ecbb5d                   1  credit_card   \n",
      "103737  ba794dc7ba00e8dcbe6e0f729be0b845                   1  credit_card   \n",
      "103779  ae647800f7009520d784c9c9ab2de7be                   1       boleto   \n",
      "103845  fbf5670723916ebf3bd62b1e33ed3ea6                   1  credit_card   \n",
      "103847  803e822a03730624352b85d6bb2727c3                   1  credit_card   \n",
      "\n",
      "        payment_installments  payment_value  \n",
      "8                          6         341.09  \n",
      "24                         1         330.66  \n",
      "87                        10         342.56  \n",
      "177                        8         340.08  \n",
      "230                       10         311.18  \n",
      "...                      ...            ...  \n",
      "103692                     8         297.48  \n",
      "103737                     8         330.62  \n",
      "103779                     1         309.22  \n",
      "103845                     5         302.46  \n",
      "103847                     6         298.22  \n",
      "\n",
      "[2517 rows x 5 columns]\n",
      "\n",
      "Outliers tersisa pada 'order_purchase_timestamp':\n",
      "Empty DataFrame\n",
      "Columns: [order_id, customer_id, order_status, order_purchase_timestamp, order_approved_at, order_delivered_carrier_date, order_delivered_customer_date, order_estimated_delivery_date]\n",
      "Index: []\n"
     ]
    },
    {
     "data": {
      "image/png": "[encoded data removed]",
      "text/plain": [
       "<Figure size 1400x600 with 2 Axes>"
      ]
     },
     "metadata": {},
     "output_type": "display_data"
    },
    {
     "data": {
      "image/png": "[encoded data removed]",
      "text/plain": [
       "<Figure size 1400x600 with 2 Axes>"
      ]
     },
     "metadata": {},
     "output_type": "display_data"
    }
   ],
   "source": [
    "import matplotlib.pyplot as plt\n",
    "import seaborn as sns\n",
    "\n",
    "print(\"Statistik deskriptif 'payment_value' setelah pembersihan:\")\n",
    "print(payments_df_clean['payment_value'].describe())\n",
    "\n",
    "print(\"\\nStatistik deskriptif 'order_purchase_timestamp' setelah pembersihan:\")\n",
    "print(orders_df_clean['order_purchase_timestamp'].describe())\n",
    "\n",
    "# Cek ulang outlier untuk memastikan data sudah bersih\n",
    "def detect_outliers(df, column_name):\n",
    "    Q1 = df[column_name].quantile(0.25)\n",
    "    Q3 = df[column_name].quantile(0.75)\n",
    "    IQR = Q3 - Q1\n",
    "    lower_bound = Q1 - 1.5 * IQR\n",
    "    upper_bound = Q3 + 1.5 * IQR\n",
    "    outliers = df[(df[column_name] < lower_bound) | (df[column_name] > upper_bound)]\n",
    "    return outliers\n",
    "\n",
    "# Cek apakah ada outlier yang tersisa pada 'payment_value' dan 'order_purchase_timestamp'\n",
    "remaining_outliers_payments = detect_outliers(payments_df_clean, 'payment_value')\n",
    "remaining_outliers_orders = detect_outliers(orders_df_clean, 'order_purchase_timestamp')\n",
    "\n",
    "print(\"\\nOutliers tersisa pada 'payment_value':\")\n",
    "print(remaining_outliers_payments)\n",
    "\n",
    "print(\"\\nOutliers tersisa pada 'order_purchase_timestamp':\")\n",
    "print(remaining_outliers_orders)\n",
    "\n",
    "# Visualisasi data sebelum dan sesudah pembersihan outlier\n",
    "plt.figure(figsize=(14, 6))\n",
    "\n",
    "# Boxplot untuk kolom 'payment_value' sebelum dan sesudah pembersihan\n",
    "plt.subplot(1, 2, 1)\n",
    "sns.boxplot(x=payments_df['payment_value'])\n",
    "plt.title(\"Sebelum Pembersihan Outlier - payment_value\")\n",
    "\n",
    "plt.subplot(1, 2, 2)\n",
    "sns.boxplot(x=payments_df_clean['payment_value'])\n",
    "plt.title(\"Setelah Pembersihan Outlier - payment_value\")\n",
    "\n",
    "plt.show()\n",
    "\n",
    "# Plot tambahan untuk kolom 'order_purchase_timestamp'\n",
    "plt.figure(figsize=(14, 6))\n",
    "\n",
    "plt.subplot(1, 2, 1)\n",
    "sns.histplot(payments_df['payment_value'], kde=True)\n",
    "plt.title(\"Distribusi payment_value Sebelum Pembersihan\")\n",
    "\n",
    "plt.subplot(1, 2, 2)\n",
    "sns.histplot(payments_df_clean['payment_value'], kde=True)\n",
    "plt.title(\"Distribusi payment_value Setelah Pembersihan\")\n",
    "\n",
    "plt.show()\n"
   ]
  },
  {
   "cell_type": "code",
   "execution_count": null,
   "metadata": {
    "colab": {
     "base_uri": "https://localhost:8080/"
    },
    "id": "QF1Pq-w7SE1r",
    "outputId": "2fb3e43b-b30b-4c2f-f486-8ec684622d39"
   },
   "outputs": [
    {
     "name": "stdout",
     "output_type": "stream",
     "text": [
      "Data setelah menghapus outliers akhir:\n",
      "(93388, 5)\n"
     ]
    }
   ],
   "source": [
    "# Hapus outlier yang masih tersisa pada kolom 'payment_value' di payments_df_clean\n",
    "payments_df_final = payments_df_clean[~payments_df_clean.index.isin(remaining_outliers_payments.index)]\n",
    "\n",
    "# Tampilkan ukuran data setelah pembersihan akhir\n",
    "print(\"Data setelah menghapus outliers akhir:\")\n",
    "print(payments_df_final.shape)\n"
   ]
  },
  {
   "cell_type": "code",
   "execution_count": null,
   "metadata": {
    "colab": {
     "base_uri": "https://localhost:8080/",
     "height": 487
    },
    "id": "Z16Dg83SSgfO",
    "outputId": "05a74b31-2470-4ef6-c58a-f753bdb75b70"
   },
   "outputs": [
    {
     "data": {
      "image/png": "[encoded data removed]",
      "text/plain": [
       "<Figure size 1000x500 with 1 Axes>"
      ]
     },
     "metadata": {},
     "output_type": "display_data"
    }
   ],
   "source": [
    "import seaborn as sns\n",
    "import matplotlib.pyplot as plt\n",
    "\n",
    "# Boxplot untuk payment_value setelah pembersihan akhir\n",
    "plt.figure(figsize=(10, 5))\n",
    "sns.boxplot(x=payments_df_final['payment_value'])\n",
    "plt.title(\"Distribusi 'payment_value' Setelah Menghapus Outlier Akhir\")\n",
    "plt.show()\n"
   ]
  },
  {
   "cell_type": "code",
   "execution_count": null,
   "metadata": {
    "colab": {
     "base_uri": "https://localhost:8080/"
    },
    "id": "42ZQZUsJSlar",
    "outputId": "66b4b743-5ab4-4b8d-8d69-dd402297d881"
   },
   "outputs": [
    {
     "name": "stdout",
     "output_type": "stream",
     "text": [
      "Data sudah disimpan sebagai 'payments_df_cleaned.csv'\n"
     ]
    }
   ],
   "source": [
    "# Menyimpan dataset yang sudah dibersihkan\n",
    "payments_df_final.to_csv(\"payments_df_cleaned.csv\", index=False)\n",
    "print(\"Data sudah disimpan sebagai 'payments_df_cleaned.csv'\")\n"
   ]
  },
  {
   "cell_type": "code",
   "execution_count": null,
   "metadata": {
    "colab": {
     "base_uri": "https://localhost:8080/"
    },
    "id": "ARSG2OEOS0as",
    "outputId": "c92bbce3-c9ae-4f2e-bb8a-9f9b53cc8cb0"
   },
   "outputs": [
    {
     "name": "stdout",
     "output_type": "stream",
     "text": [
      "Files in /content:\n",
      "['.config', 'orders_dataset.csv', 'order_payments_dataset.csv', 'payments_df_cleaned.csv', 'sample_data']\n"
     ]
    }
   ],
   "source": [
    "import os\n",
    "\n",
    "# List semua file di directory\n",
    "print(\"Files in /content:\")\n",
    "print(os.listdir(\"/content\"))"
   ]
  },
  {
   "cell_type": "code",
   "execution_count": null,
   "metadata": {
    "colab": {
     "base_uri": "https://localhost:8080/"
    },
    "id": "6XtXGAaBTdlv",
    "outputId": "f6896eea-c71d-4362-cc63-339aa2be9b78"
   },
   "outputs": [
    {
     "name": "stdout",
     "output_type": "stream",
     "text": [
      "\n",
      "Duplicate entries in payments dataset:\n",
      "                               order_id  payment_sequential payment_type  \\\n",
      "31     b2bb080b6bc860118a246fd9b6fad6da                   1  credit_card   \n",
      "66     3689194c14ad4e2e7361ebd1df0e77b0                   2      voucher   \n",
      "75     723e462ce1ee50e024887c0b403130f3                   1  credit_card   \n",
      "92     21b8b46679ea6482cbf911d960490048                   2      voucher   \n",
      "111    ea9184ad433a404df1d72fa0a8764232                   4      voucher   \n",
      "...                                 ...                 ...          ...   \n",
      "93291  fd86c80924b4be8fb7f58c4ecc680dae                   1  credit_card   \n",
      "93325  6d4616de4341417e17978fe57aec1c46                   1  credit_card   \n",
      "93365  31bc09fdbd701a7a4f9b55b5955b8687                   6      voucher   \n",
      "93373  c9b01bef18eb84888f0fd071b8413b38                   1  credit_card   \n",
      "93378  d41f1036712e18ee525939d08b7a1c98                   1  credit_card   \n",
      "\n",
      "       payment_installments  payment_value  \n",
      "31                        1         173.84  \n",
      "66                        1          57.53  \n",
      "75                        1          13.80  \n",
      "92                        1          43.12  \n",
      "111                       1          22.49  \n",
      "...                     ...            ...  \n",
      "93291                     1          76.10  \n",
      "93325                     1          19.18  \n",
      "93365                     1          77.99  \n",
      "93373                     6         238.16  \n",
      "93378                     1           3.57  \n",
      "\n",
      "[7043 rows x 5 columns]\n"
     ]
    }
   ],
   "source": [
    "import pandas as pd\n",
    "\n",
    "payments_df = pd.read_csv('payments_df_cleaned.csv')\n",
    "\n",
    "# Mencari duplikat pada payments dataset berdasarkan kolom order_id\n",
    "duplicate_payments = payments_df[payments_df.duplicated(subset=['order_id'], keep=False)]\n",
    "\n",
    "print(\"\\nDuplicate entries in payments dataset:\")\n",
    "print(duplicate_payments)"
   ]
  },
  {
   "cell_type": "code",
   "execution_count": null,
   "metadata": {
    "colab": {
     "base_uri": "https://localhost:8080/"
    },
    "id": "uVEqRonMWSLi",
    "outputId": "1bff6b4f-3a67-4260-a40f-b32040378456"
   },
   "outputs": [
    {
     "name": "stdout",
     "output_type": "stream",
     "text": [
      "Jumlah baris sebelum menghapus duplikat: 93388\n",
      "Jumlah baris setelah menghapus duplikat: 93388\n",
      "Jumlah duplikat yang tersisa setelah pembersihan: 0\n"
     ]
    }
   ],
   "source": [
    "# Melihat jumlah baris sebelum menghapus duplikat\n",
    "print(\"Jumlah baris sebelum menghapus duplikat:\", payments_df.shape[0])\n",
    "\n",
    "# Menghapus data duplikat berdasarkan semua kolom\n",
    "payments_df_clean = payments_df.drop_duplicates()\n",
    "\n",
    "# Melihat jumlah baris setelah menghapus duplikat\n",
    "print(\"Jumlah baris setelah menghapus duplikat:\", payments_df_clean.shape[0])\n",
    "\n",
    "# Mengecek apakah masih ada duplikat\n",
    "duplicates_remaining = payments_df_clean.duplicated().sum()\n",
    "print(\"Jumlah duplikat yang tersisa setelah pembersihan:\", duplicates_remaining)\n"
   ]
  },
  {
   "cell_type": "code",
   "execution_count": null,
   "metadata": {
    "colab": {
     "base_uri": "https://localhost:8080/"
    },
    "id": "y3L7noJKWeGB",
    "outputId": "93fb3d3f-c946-4929-badc-bee00c1c6f79"
   },
   "outputs": [
    {
     "name": "stdout",
     "output_type": "stream",
     "text": [
      "Tidak ada duplikat yang tersisa dalam dataset.\n"
     ]
    }
   ],
   "source": [
    "# Mengecek ulang duplikat setelah pembersihan\n",
    "duplicates_remaining = payments_df_clean.duplicated().sum()\n",
    "\n",
    "# Menampilkan hasil\n",
    "if duplicates_remaining > 0:\n",
    "    print(f\"Masih terdapat {duplicates_remaining} duplikat yang tersisa dalam dataset.\")\n",
    "else:\n",
    "    print(\"Tidak ada duplikat yang tersisa dalam dataset.\")\n"
   ]
  },
  {
   "cell_type": "code",
   "execution_count": null,
   "metadata": {
    "colab": {
     "base_uri": "https://localhost:8080/"
    },
    "id": "orxGKqfMXTRb",
    "outputId": "51d1489a-3e32-4f41-8a20-90a64d02081a"
   },
   "outputs": [
    {
     "name": "stdout",
     "output_type": "stream",
     "text": [
      "Dataset yang sudah bersih telah disimpan sebagai 'payments_df_cleaned.csv'\n"
     ]
    }
   ],
   "source": [
    "# Menyimpan dataset payments_df_clean yang sudah bersih\n",
    "payments_df_clean.to_csv(\"payments_df_cleaned.csv\", index=False)\n",
    "print(\"Dataset yang sudah bersih telah disimpan sebagai 'payments_df_cleaned.csv'\")\n"
   ]
  },
  {
   "cell_type": "code",
   "execution_count": null,
   "metadata": {
    "colab": {
     "base_uri": "https://localhost:8080/"
    },
    "id": "RMaWDxj7X7mM",
    "outputId": "7283fd6e-2d9d-46da-a376-392aac6f9f38"
   },
   "outputs": [
    {
     "name": "stdout",
     "output_type": "stream",
     "text": [
      "Tidak ada duplikat yang tersisa dalam dataset.\n",
      "\n",
      "Jumlah missing values per kolom:\n",
      "Series([], dtype: int64)\n",
      "\n",
      "Jumlah outliers pada 'payment_value': 740\n"
     ]
    }
   ],
   "source": [
    "import pandas as pd\n",
    "\n",
    "payments_df_cleaned = pd.read_csv(\"payments_df_cleaned.csv\")\n",
    "\n",
    "# Cek duplikat\n",
    "duplicates = payments_df_cleaned.duplicated().sum()\n",
    "if duplicates > 0:\n",
    "    print(f\"Masih terdapat {duplicates} duplikat dalam dataset.\")\n",
    "else:\n",
    "    print(\"Tidak ada duplikat yang tersisa dalam dataset.\")\n",
    "\n",
    "# Cek missing values\n",
    "missing_values = payments_df_cleaned.isnull().sum()\n",
    "print(\"\\nJumlah missing values per kolom:\")\n",
    "print(missing_values[missing_values > 0])  # Menampilkan kolom yang memiliki missing values saja\n",
    "\n",
    "# Cek outliers di kolom 'payment_value' menggunakan metode IQR\n",
    "Q1 = payments_df_cleaned['payment_value'].quantile(0.25)\n",
    "Q3 = payments_df_cleaned['payment_value'].quantile(0.75)\n",
    "IQR = Q3 - Q1\n",
    "\n",
    "lower_bound = Q1 - 1.5 * IQR\n",
    "upper_bound = Q3 + 1.5 * IQR\n",
    "\n",
    "outliers = payments_df_cleaned[(payments_df_cleaned['payment_value'] < lower_bound) |\n",
    "                               (payments_df_cleaned['payment_value'] > upper_bound)]\n",
    "\n",
    "print(f\"\\nJumlah outliers pada 'payment_value': {len(outliers)}\")\n"
   ]
  },
  {
   "cell_type": "code",
   "execution_count": null,
   "metadata": {
    "colab": {
     "base_uri": "https://localhost:8080/"
    },
    "id": "KEwkY763YVbw",
    "outputId": "9417251c-3463-4687-e69f-3515be482623"
   },
   "outputs": [
    {
     "name": "stdout",
     "output_type": "stream",
     "text": [
      "Jumlah data setelah menghapus outliers: 92648\n",
      "Dataset yang sudah bersih dari outliers telah disimpan sebagai 'payments_df_no_outliers.csv'\n"
     ]
    }
   ],
   "source": [
    "# Menghitung Q1 dan Q3 untuk kolom payment_value\n",
    "Q1 = payments_df_cleaned['payment_value'].quantile(0.25)\n",
    "Q3 = payments_df_cleaned['payment_value'].quantile(0.75)\n",
    "IQR = Q3 - Q1\n",
    "\n",
    "# Menetapkan batas bawah dan atas untuk mendeteksi outliers\n",
    "lower_bound = Q1 - 1.5 * IQR\n",
    "upper_bound = Q3 + 1.5 * IQR\n",
    "\n",
    "# Menghapus outliers di luar batas IQR\n",
    "payments_df_no_outliers = payments_df_cleaned[(payments_df_cleaned['payment_value'] >= lower_bound) &\n",
    "                                              (payments_df_cleaned['payment_value'] <= upper_bound)]\n",
    "\n",
    "# Melihat jumlah baris setelah pembersihan\n",
    "print(f\"Jumlah data setelah menghapus outliers: {payments_df_no_outliers.shape[0]}\")\n",
    "\n",
    "# Menyimpan ulang data yang sudah bebas dari outliers\n",
    "payments_df_no_outliers.to_csv(\"payments_df_no_outliers.csv\", index=False)\n",
    "print(\"Dataset yang sudah bersih dari outliers telah disimpan sebagai 'payments_df_no_outliers.csv'\")\n"
   ]
  },
  {
   "cell_type": "code",
   "execution_count": null,
   "metadata": {
    "colab": {
     "base_uri": "https://localhost:8080/"
    },
    "id": "FBtIehZ9ZmON",
    "outputId": "35133935-9367-4b53-e988-eaeff75de197"
   },
   "outputs": [
    {
     "name": "stdout",
     "output_type": "stream",
     "text": [
      "                           order_id  payment_sequential payment_type  \\\n",
      "0  b81ef226f3fe1789b1e8b2acac839d17                   1  credit_card   \n",
      "1  a9810da82917af2d9aefd1278f1dcfa0                   1  credit_card   \n",
      "2  25e8ea4e93396b6fa0d3dd708e76c1bd                   1  credit_card   \n",
      "3  ba78997921bbcdc1373bb41e913ab953                   1  credit_card   \n",
      "4  42fdf880ba16b47b59251dd489d4441a                   1  credit_card   \n",
      "\n",
      "   payment_installments  payment_value  \n",
      "0                     8          99.33  \n",
      "1                     1          24.39  \n",
      "2                     1          65.71  \n",
      "3                     8         107.78  \n",
      "4                     2         128.45  \n"
     ]
    }
   ],
   "source": [
    "import pandas as pd\n",
    "\n",
    "payments_df_no_outliers = pd.read_csv('payments_df_no_outliers.csv')\n",
    "\n",
    "print(payments_df_no_outliers.head())\n",
    "\n"
   ]
  },
  {
   "cell_type": "code",
   "execution_count": null,
   "metadata": {
    "colab": {
     "base_uri": "https://localhost:8080/"
    },
    "id": "ujpGwZGNbeuo",
    "outputId": "f1c3ba16-e8d6-415a-ef8a-67e477821e5d"
   },
   "outputs": [
    {
     "name": "stdout",
     "output_type": "stream",
     "text": [
      "Jumlah outliers pada 'payment_value' setelah pembersihan: 222\n",
      "                              order_id  payment_sequential payment_type  \\\n",
      "332   817e8b5495d2b31da82dfe5a89aacdba                   1  credit_card   \n",
      "410   189ede25eb8522abcbd3592d08811f85                   1       boleto   \n",
      "456   6eab6f37ff2d390d23be84642739b500                   1  credit_card   \n",
      "926   916be5eed428af45e462f039ef65ca24                   1  credit_card   \n",
      "1278  13359bb817972f7492a922fa64a69cad                   1  credit_card   \n",
      "\n",
      "      payment_installments  payment_value  \n",
      "332                      8         281.50  \n",
      "410                      1         280.08  \n",
      "456                      5         279.40  \n",
      "926                      2         281.73  \n",
      "1278                     1         279.30  \n"
     ]
    }
   ],
   "source": [
    "# Hitung Q1 dan Q3 untuk kolom payment_value\n",
    "Q1 = payments_df_no_outliers['payment_value'].quantile(0.25)\n",
    "Q3 = payments_df_no_outliers['payment_value'].quantile(0.75)\n",
    "IQR = Q3 - Q1\n",
    "\n",
    "# Tetapkan batas bawah dan atas untuk mendeteksi outlier\n",
    "lower_bound = Q1 - 1.5 * IQR\n",
    "upper_bound = Q3 + 1.5 * IQR\n",
    "\n",
    "# Cari outlier yang berada di luar batas IQR\n",
    "outliers = payments_df_no_outliers[(payments_df_no_outliers['payment_value'] < lower_bound) |\n",
    "                                   (payments_df_no_outliers['payment_value'] > upper_bound)]\n",
    "\n",
    "# Menampilkan jumlah outliers yang tersisa\n",
    "print(f\"Jumlah outliers pada 'payment_value' setelah pembersihan: {len(outliers)}\")\n",
    "\n",
    "if not outliers.empty:\n",
    "    print(outliers.head())\n"
   ]
  },
  {
   "cell_type": "code",
   "execution_count": null,
   "metadata": {
    "colab": {
     "base_uri": "https://localhost:8080/"
    },
    "id": "OSfb1cY7cJr3",
    "outputId": "e7b00d4c-99c4-4f09-e67e-e488c7e97782"
   },
   "outputs": [
    {
     "name": "stdout",
     "output_type": "stream",
     "text": [
      "\n",
      "Jumlah outliers pada 'payment_value' setelah re-evaluasi dengan threshold 2.0: 0\n",
      "\n",
      "Jumlah data setelah menghapus outliers dengan threshold 2.0: 92648\n",
      "Dataset yang sudah dibersihkan lebih lanjut disimpan sebagai 'payments_df_less_outliers.csv'.\n"
     ]
    }
   ],
   "source": [
    "import pandas as pd\n",
    "\n",
    "payments_df_no_outliers = pd.read_csv('payments_df_no_outliers.csv')\n",
    "\n",
    "# Menghitung Q1 dan Q3 untuk kolom 'payment_value'\n",
    "Q1 = payments_df_no_outliers['payment_value'].quantile(0.25)\n",
    "Q3 = payments_df_no_outliers['payment_value'].quantile(0.75)\n",
    "IQR = Q3 - Q1\n",
    "\n",
    "# Menggunakan faktor 2.0 untuk menetapkan batas bawah dan atas\n",
    "lower_bound = Q1 - 2.0 * IQR\n",
    "upper_bound = Q3 + 2.0 * IQR\n",
    "\n",
    "# Mendeteksi outliers\n",
    "outliers = payments_df_no_outliers[(payments_df_no_outliers['payment_value'] < lower_bound) |\n",
    "                                   (payments_df_no_outliers['payment_value'] > upper_bound)]\n",
    "\n",
    "# Menampilkan jumlah outliers \n",
    "print(f\"\\nJumlah outliers pada 'payment_value' setelah re-evaluasi dengan threshold 2.0: {len(outliers)}\")\n",
    "\n",
    "if not outliers.empty:\n",
    "    print(outliers.head())\n",
    "\n",
    "# Menghapus outliers di luar batas IQR yang baru\n",
    "payments_df_less_outliers = payments_df_no_outliers[(payments_df_no_outliers['payment_value'] >= lower_bound) &\n",
    "                                                    (payments_df_no_outliers['payment_value'] <= upper_bound)]\n",
    "\n",
    "# Melihat jumlah data setelah menghapus outliers\n",
    "print(f\"\\nJumlah data setelah menghapus outliers dengan threshold 2.0: {payments_df_less_outliers.shape[0]}\")\n",
    "\n",
    "# Menyimpan ulang data yang sudah bersih dari outliers \n",
    "payments_df_less_outliers.to_csv(\"payments_df_less_outliers.csv\", index=False)\n",
    "print(\"Dataset yang sudah dibersihkan lebih lanjut disimpan sebagai 'payments_df_less_outliers.csv'.\")\n"
   ]
  },
  {
   "cell_type": "code",
   "execution_count": null,
   "metadata": {
    "colab": {
     "base_uri": "https://localhost:8080/"
    },
    "id": "e6J6lhBRco_Q",
    "outputId": "66c40594-6e14-401a-d2eb-40e3922cf731"
   },
   "outputs": [
    {
     "name": "stdout",
     "output_type": "stream",
     "text": [
      "\n",
      "Jumlah outliers pada 'payment_value' setelah re-evaluasi dengan threshold 2.0: 0\n"
     ]
    }
   ],
   "source": [
    "import pandas as pd\n",
    "\n",
    "payments_df_less_outliers = pd.read_csv('payments_df_less_outliers.csv')\n",
    "\n",
    "# Menghitung Q1 dan Q3 untuk kolom 'payment_value'\n",
    "Q1 = payments_df_less_outliers['payment_value'].quantile(0.25)\n",
    "Q3 = payments_df_less_outliers['payment_value'].quantile(0.75)\n",
    "IQR = Q3 - Q1\n",
    "\n",
    "# Menggunakan faktor 2.0 untuk menetapkan batas bawah dan atas\n",
    "lower_bound = Q1 - 2.0 * IQR\n",
    "upper_bound = Q3 + 2.0 * IQR\n",
    "\n",
    "# Mendeteksi outliers\n",
    "outliers_after_recheck = payments_df_less_outliers[(payments_df_less_outliers['payment_value'] < lower_bound) |\n",
    "                                                   (payments_df_less_outliers['payment_value'] > upper_bound)]\n",
    "\n",
    "# Menampilkan jumlah outliers setelah evaluasi\n",
    "print(f\"\\nJumlah outliers pada 'payment_value' setelah re-evaluasi dengan threshold 2.0: {len(outliers_after_recheck)}\")\n",
    "\n",
    "if not outliers_after_recheck.empty:\n",
    "    print(outliers_after_recheck.head())\n"
   ]
  },
  {
   "cell_type": "code",
   "execution_count": null,
   "metadata": {
    "colab": {
     "base_uri": "https://localhost:8080/"
    },
    "id": "gSiQUug1T3oG",
    "outputId": "f45ef937-937a-46fb-ff82-3b3e8906a1ae"
   },
   "outputs": [
    {
     "name": "stdout",
     "output_type": "stream",
     "text": [
      "\n",
      "Missing values in payments dataset:\n",
      "order_id                0\n",
      "payment_sequential      0\n",
      "payment_type            0\n",
      "payment_installments    0\n",
      "payment_value           0\n",
      "dtype: int64\n"
     ]
    }
   ],
   "source": [
    "import pandas as pd\n",
    "\n",
    "payments_df = pd.read_csv('payments_df_less_outliers.csv')\n",
    "\n",
    "missing_payments = payments_df.isnull().sum()\n",
    "\n",
    "print(\"\\nMissing values in payments dataset:\")\n",
    "print(missing_payments)"
   ]
  },
  {
   "cell_type": "code",
   "execution_count": null,
   "metadata": {
    "colab": {
     "base_uri": "https://localhost:8080/"
    },
    "id": "2FgEzVg-e6K0",
    "outputId": "542f6025-185a-4b92-c98f-82a8c52c5651"
   },
   "outputs": [
    {
     "name": "stdout",
     "output_type": "stream",
     "text": [
      "Empty DataFrame\n",
      "Columns: [order_id, payment_sequential, payment_type, payment_installments, payment_value]\n",
      "Index: []\n"
     ]
    }
   ],
   "source": [
    "import pandas as pd\n",
    "\n",
    "data = pd.read_csv('payments_df_less_outliers.csv')\n",
    "\n",
    "# Mencari duplicate\n",
    "duplicate_rows = data[data.duplicated()]\n",
    "\n",
    "# Menampilkan duplicate\n",
    "print(duplicate_rows)\n"
   ]
  },
  {
   "cell_type": "code",
   "execution_count": null,
   "metadata": {
    "colab": {
     "base_uri": "https://localhost:8080/",
     "height": 17
    },
    "id": "etbPjbANet94",
    "outputId": "440e6f3b-f823-4967-9922-6874db181a59"
   },
   "outputs": [
    {
     "data": {
      "application/javascript": "\n    async function download(id, filename, size) {\n      if (!google.colab.kernel.accessAllowed) {\n        return;\n      }\n      const div = document.createElement('div');\n      const label = document.createElement('label');\n      label.textContent = `Downloading \"${filename}\": `;\n      div.appendChild(label);\n      const progress = document.createElement('progress');\n      progress.max = size;\n      div.appendChild(progress);\n      document.body.appendChild(div);\n\n      const buffers = [];\n      let downloaded = 0;\n\n      const channel = await google.colab.kernel.comms.open(id);\n      // Send a message to notify the kernel that we're ready.\n      channel.send({})\n\n      for await (const message of channel.messages) {\n        // Send a message to notify the kernel that we're ready.\n        channel.send({})\n        if (message.buffers) {\n          for (const buffer of message.buffers) {\n            buffers.push(buffer);\n            downloaded += buffer.byteLength;\n            progress.value = downloaded;\n          }\n        }\n      }\n      const blob = new Blob(buffers, {type: 'application/binary'});\n      const a = document.createElement('a');\n      a.href = window.URL.createObjectURL(blob);\n      a.download = filename;\n      div.appendChild(a);\n      a.click();\n      div.remove();\n    }\n  ",
      "text/plain": [
       "<IPython.core.display.Javascript object>"
      ]
     },
     "metadata": {},
     "output_type": "display_data"
    },
    {
     "data": {
      "application/javascript": "download(\"download_de673fe9-c09c-4f99-a965-0163911a5a64\", \"payments_df_less_outliers.csv\", 5011682)",
      "text/plain": [
       "<IPython.core.display.Javascript object>"
      ]
     },
     "metadata": {},
     "output_type": "display_data"
    }
   ],
   "source": [
    "from google.colab import files\n",
    "files.download('payments_df_less_outliers.csv')\n"
   ]
  },
  {
   "cell_type": "code",
   "execution_count": null,
   "metadata": {
    "colab": {
     "base_uri": "https://localhost:8080/"
    },
    "id": "RZBxbqivsNjH",
    "outputId": "dd43025a-cb87-4220-d57f-eb719a19390a"
   },
   "outputs": [
    {
     "name": "stdout",
     "output_type": "stream",
     "text": [
      "Files in /content:\n",
      "['.config', 'sample_data']\n"
     ]
    }
   ],
   "source": [
    "import os\n",
    "\n",
    "# List semua file di directory\n",
    "print(\"Files in /content:\")\n",
    "print(os.listdir(\"/content\"))"
   ]
  },
  {
   "cell_type": "code",
   "execution_count": null,
   "metadata": {
    "colab": {
     "base_uri": "https://localhost:8080/",
     "height": 74
    },
    "id": "yUWovrZJsab3",
    "outputId": "8edbc82b-f27d-476e-edcd-32b0de8e6449"
   },
   "outputs": [
    {
     "data": {
      "text/html": [
       "\n",
       "     <input type=\"file\" id=\"files-df317ac0-4f32-4a3e-b3ba-dc0d9a1b945e\" name=\"files[]\" multiple disabled\n",
       "        style=\"border:none\" />\n",
       "     <output id=\"result-df317ac0-4f32-4a3e-b3ba-dc0d9a1b945e\">\n",
       "      Upload widget is only available when the cell has been executed in the\n",
       "      current browser session. Please rerun this cell to enable.\n",
       "      </output>\n",
       "      <script>// Copyright 2017 Google LLC\n",
       "//\n",
       "// Licensed under the Apache License, Version 2.0 (the \"License\");\n",
       "// you may not use this file except in compliance with the License.\n",
       "// You may obtain a copy of the License at\n",
       "//\n",
       "//      http://www.apache.org/licenses/LICENSE-2.0\n",
       "//\n",
       "// Unless required by applicable law or agreed to in writing, software\n",
       "// distributed under the License is distributed on an \"AS IS\" BASIS,\n",
       "// WITHOUT WARRANTIES OR CONDITIONS OF ANY KIND, either express or implied.\n",
       "// See the License for the specific language governing permissions and\n",
       "// limitations under the License.\n",
       "\n",
       "/**\n",
       " * @fileoverview Helpers for google.colab Python module.\n",
       " */\n",
       "(function(scope) {\n",
       "function span(text, styleAttributes = {}) {\n",
       "  const element = document.createElement('span');\n",
       "  element.textContent = text;\n",
       "  for (const key of Object.keys(styleAttributes)) {\n",
       "    element.style[key] = styleAttributes[key];\n",
       "  }\n",
       "  return element;\n",
       "}\n",
       "\n",
       "// Max number of bytes which will be uploaded at a time.\n",
       "const MAX_PAYLOAD_SIZE = 100 * 1024;\n",
       "\n",
       "function _uploadFiles(inputId, outputId) {\n",
       "  const steps = uploadFilesStep(inputId, outputId);\n",
       "  const outputElement = document.getElementById(outputId);\n",
       "  // Cache steps on the outputElement to make it available for the next call\n",
       "  // to uploadFilesContinue from Python.\n",
       "  outputElement.steps = steps;\n",
       "\n",
       "  return _uploadFilesContinue(outputId);\n",
       "}\n",
       "\n",
       "// This is roughly an async generator (not supported in the browser yet),\n",
       "// where there are multiple asynchronous steps and the Python side is going\n",
       "// to poll for completion of each step.\n",
       "// This uses a Promise to block the python side on completion of each step,\n",
       "// then passes the result of the previous step as the input to the next step.\n",
       "function _uploadFilesContinue(outputId) {\n",
       "  const outputElement = document.getElementById(outputId);\n",
       "  const steps = outputElement.steps;\n",
       "\n",
       "  const next = steps.next(outputElement.lastPromiseValue);\n",
       "  return Promise.resolve(next.value.promise).then((value) => {\n",
       "    // Cache the last promise value to make it available to the next\n",
       "    // step of the generator.\n",
       "    outputElement.lastPromiseValue = value;\n",
       "    return next.value.response;\n",
       "  });\n",
       "}\n",
       "\n",
       "/**\n",
       " * Generator function which is called between each async step of the upload\n",
       " * process.\n",
       " * @param {string} inputId Element ID of the input file picker element.\n",
       " * @param {string} outputId Element ID of the output display.\n",
       " * @return {!Iterable<!Object>} Iterable of next steps.\n",
       " */\n",
       "function* uploadFilesStep(inputId, outputId) {\n",
       "  const inputElement = document.getElementById(inputId);\n",
       "  inputElement.disabled = false;\n",
       "\n",
       "  const outputElement = document.getElementById(outputId);\n",
       "  outputElement.innerHTML = '';\n",
       "\n",
       "  const pickedPromise = new Promise((resolve) => {\n",
       "    inputElement.addEventListener('change', (e) => {\n",
       "      resolve(e.target.files);\n",
       "    });\n",
       "  });\n",
       "\n",
       "  const cancel = document.createElement('button');\n",
       "  inputElement.parentElement.appendChild(cancel);\n",
       "  cancel.textContent = 'Cancel upload';\n",
       "  const cancelPromise = new Promise((resolve) => {\n",
       "    cancel.onclick = () => {\n",
       "      resolve(null);\n",
       "    };\n",
       "  });\n",
       "\n",
       "  // Wait for the user to pick the files.\n",
       "  const files = yield {\n",
       "    promise: Promise.race([pickedPromise, cancelPromise]),\n",
       "    response: {\n",
       "      action: 'starting',\n",
       "    }\n",
       "  };\n",
       "\n",
       "  cancel.remove();\n",
       "\n",
       "  // Disable the input element since further picks are not allowed.\n",
       "  inputElement.disabled = true;\n",
       "\n",
       "  if (!files) {\n",
       "    return {\n",
       "      response: {\n",
       "        action: 'complete',\n",
       "      }\n",
       "    };\n",
       "  }\n",
       "\n",
       "  for (const file of files) {\n",
       "    const li = document.createElement('li');\n",
       "    li.append(span(file.name, {fontWeight: 'bold'}));\n",
       "    li.append(span(\n",
       "        `(${file.type || 'n/a'}) - ${file.size} bytes, ` +\n",
       "        `last modified: ${\n",
       "            file.lastModifiedDate ? file.lastModifiedDate.toLocaleDateString() :\n",
       "                                    'n/a'} - `));\n",
       "    const percent = span('0% done');\n",
       "    li.appendChild(percent);\n",
       "\n",
       "    outputElement.appendChild(li);\n",
       "\n",
       "    const fileDataPromise = new Promise((resolve) => {\n",
       "      const reader = new FileReader();\n",
       "      reader.onload = (e) => {\n",
       "        resolve(e.target.result);\n",
       "      };\n",
       "      reader.readAsArrayBuffer(file);\n",
       "    });\n",
       "    // Wait for the data to be ready.\n",
       "    let fileData = yield {\n",
       "      promise: fileDataPromise,\n",
       "      response: {\n",
       "        action: 'continue',\n",
       "      }\n",
       "    };\n",
       "\n",
       "    // Use a chunked sending to avoid message size limits. See b/62115660.\n",
       "    let position = 0;\n",
       "    do {\n",
       "      const length = Math.min(fileData.byteLength - position, MAX_PAYLOAD_SIZE);\n",
       "      const chunk = new Uint8Array(fileData, position, length);\n",
       "      position += length;\n",
       "\n",
       "      const base64 = btoa(String.fromCharCode.apply(null, chunk));\n",
       "      yield {\n",
       "        response: {\n",
       "          action: 'append',\n",
       "          file: file.name,\n",
       "          data: base64,\n",
       "        },\n",
       "      };\n",
       "\n",
       "      let percentDone = fileData.byteLength === 0 ?\n",
       "          100 :\n",
       "          Math.round((position / fileData.byteLength) * 100);\n",
       "      percent.textContent = `${percentDone}% done`;\n",
       "\n",
       "    } while (position < fileData.byteLength);\n",
       "  }\n",
       "\n",
       "  // All done.\n",
       "  yield {\n",
       "    response: {\n",
       "      action: 'complete',\n",
       "    }\n",
       "  };\n",
       "}\n",
       "\n",
       "scope.google = scope.google || {};\n",
       "scope.google.colab = scope.google.colab || {};\n",
       "scope.google.colab._files = {\n",
       "  _uploadFiles,\n",
       "  _uploadFilesContinue,\n",
       "};\n",
       "})(self);\n",
       "</script> "
      ],
      "text/plain": [
       "<IPython.core.display.HTML object>"
      ]
     },
     "metadata": {},
     "output_type": "display_data"
    },
    {
     "name": "stdout",
     "output_type": "stream",
     "text": [
      "Saving orders_dataset.csv to orders_dataset.csv\n"
     ]
    }
   ],
   "source": [
    "import pandas as pd\n",
    "from google.colab import files\n",
    "import io\n",
    "\n",
    "uploaded = files.upload()\n",
    "\n",
    "orders_df = pd.read_csv(io.BytesIO(uploaded['orders_dataset.csv']))"
   ]
  },
  {
   "cell_type": "code",
   "execution_count": null,
   "metadata": {
    "colab": {
     "base_uri": "https://localhost:8080/"
    },
    "id": "DyUDYXquU3VI",
    "outputId": "7190cc6c-bb1d-4f4d-dae6-7d949877a8a3"
   },
   "outputs": [
    {
     "name": "stdout",
     "output_type": "stream",
     "text": [
      "Missing values in orders dataset:\n",
      "order_id                            0\n",
      "customer_id                         0\n",
      "order_status                        0\n",
      "order_purchase_timestamp            0\n",
      "order_approved_at                 160\n",
      "order_delivered_carrier_date     1783\n",
      "order_delivered_customer_date    2965\n",
      "order_estimated_delivery_date       0\n",
      "dtype: int64\n"
     ]
    }
   ],
   "source": [
    "import pandas as pd\n",
    "\n",
    "orders_df = pd.read_csv('orders_dataset.csv')\n",
    "\n",
    "missing_orders = orders_df.isnull().sum()\n",
    "\n",
    "print(\"Missing values in orders dataset:\")\n",
    "print(missing_orders)\n"
   ]
  },
  {
   "cell_type": "code",
   "execution_count": null,
   "metadata": {
    "colab": {
     "base_uri": "https://localhost:8080/"
    },
    "id": "-iTRXa_HrsC3",
    "outputId": "b384f5cc-7215-4b9b-d162-e50331569133"
   },
   "outputs": [
    {
     "name": "stdout",
     "output_type": "stream",
     "text": [
      "Jumlah data setelah menghapus missing values: (96461, 8)\n",
      "Dataset yang sudah bersih dari missing values telah disimpan sebagai 'orders_df_cleaned.csv'\n"
     ]
    }
   ],
   "source": [
    "import pandas as pd\n",
    "\n",
    "orders_df = pd.read_csv('orders_dataset.csv')\n",
    "\n",
    "# Menghapus baris dengan missing values pada orders_df\n",
    "orders_df_cleaned = orders_df.dropna()\n",
    "\n",
    "# Melihat jumlah baris dan kolom setelah menghapus missing values\n",
    "print(f\"Jumlah data setelah menghapus missing values: {orders_df_cleaned.shape}\")\n",
    "\n",
    "# Menyimpan dataset yang sudah bersih\n",
    "orders_df_cleaned.to_csv(\"orders_df_cleaned.csv\", index=False)\n",
    "print(\"Dataset yang sudah bersih dari missing values telah disimpan sebagai 'orders_df_cleaned.csv'\")"
   ]
  },
  {
   "cell_type": "code",
   "execution_count": null,
   "metadata": {
    "colab": {
     "base_uri": "https://localhost:8080/"
    },
    "id": "rJMU6OM8VI1V",
    "outputId": "9dc465a5-311e-43af-f8ca-0c23c9b5c48c"
   },
   "outputs": [
    {
     "name": "stdout",
     "output_type": "stream",
     "text": [
      "Duplicate entries in orders dataset:\n",
      "Empty DataFrame\n",
      "Columns: [order_id, customer_id, order_status, order_purchase_timestamp, order_approved_at, order_delivered_carrier_date, order_delivered_customer_date, order_estimated_delivery_date]\n",
      "Index: []\n"
     ]
    }
   ],
   "source": [
    "import pandas as pd\n",
    "\n",
    "orders_df = pd.read_csv('orders_df_cleaned.csv')\n",
    "\n",
    "# Mencari duplikat pada orders dataset berdasarkan kolom order_id\n",
    "duplicate_orders = orders_df[orders_df.duplicated(subset=['order_id'], keep=False)]\n",
    "\n",
    "# Menampilkan hasil duplikat\n",
    "print(\"Duplicate entries in orders dataset:\")\n",
    "print(duplicate_orders)\n"
   ]
  },
  {
   "cell_type": "code",
   "execution_count": null,
   "metadata": {
    "colab": {
     "base_uri": "https://localhost:8080/"
    },
    "id": "eFX66jpOt5Zd",
    "outputId": "87a11492-6721-4705-9387-887d344d32e0"
   },
   "outputs": [
    {
     "name": "stdout",
     "output_type": "stream",
     "text": [
      "Missing values in orders dataset:\n",
      "order_id                         0\n",
      "customer_id                      0\n",
      "order_status                     0\n",
      "order_purchase_timestamp         0\n",
      "order_approved_at                0\n",
      "order_delivered_carrier_date     0\n",
      "order_delivered_customer_date    0\n",
      "order_estimated_delivery_date    0\n",
      "dtype: int64\n"
     ]
    }
   ],
   "source": [
    "import pandas as pd\n",
    "\n",
    "orders_df = pd.read_csv('orders_df_cleaned.csv')\n",
    "\n",
    "missing_orders = orders_df.isnull().sum()\n",
    "\n",
    "print(\"Missing values in orders dataset:\")\n",
    "print(missing_orders)"
   ]
  },
  {
   "cell_type": "code",
   "execution_count": null,
   "metadata": {
    "colab": {
     "base_uri": "https://localhost:8080/"
    },
    "id": "eqaDYf6bvgGC",
    "outputId": "38debcf5-2df5-4e5f-ece9-ff163d369b2f"
   },
   "outputs": [
    {
     "name": "stdout",
     "output_type": "stream",
     "text": [
      "Files in /content:\n",
      "['.config', 'orders_dataset.csv', 'orders_df_cleaned.csv', 'sample_data']\n"
     ]
    }
   ],
   "source": [
    "import os\n",
    "\n",
    "# List semua file di directory\n",
    "print(\"Files in /content:\")\n",
    "print(os.listdir(\"/content\"))"
   ]
  },
  {
   "cell_type": "code",
   "execution_count": null,
   "metadata": {
    "colab": {
     "base_uri": "https://localhost:8080/",
     "height": 17
    },
    "id": "vLDkRkgXuGWS",
    "outputId": "7e16ba31-96fe-4630-e177-5ccd7e3b4072"
   },
   "outputs": [
    {
     "data": {
      "application/javascript": "\n    async function download(id, filename, size) {\n      if (!google.colab.kernel.accessAllowed) {\n        return;\n      }\n      const div = document.createElement('div');\n      const label = document.createElement('label');\n      label.textContent = `Downloading \"${filename}\": `;\n      div.appendChild(label);\n      const progress = document.createElement('progress');\n      progress.max = size;\n      div.appendChild(progress);\n      document.body.appendChild(div);\n\n      const buffers = [];\n      let downloaded = 0;\n\n      const channel = await google.colab.kernel.comms.open(id);\n      // Send a message to notify the kernel that we're ready.\n      channel.send({})\n\n      for await (const message of channel.messages) {\n        // Send a message to notify the kernel that we're ready.\n        channel.send({})\n        if (message.buffers) {\n          for (const buffer of message.buffers) {\n            buffers.push(buffer);\n            downloaded += buffer.byteLength;\n            progress.value = downloaded;\n          }\n        }\n      }\n      const blob = new Blob(buffers, {type: 'application/binary'});\n      const a = document.createElement('a');\n      a.href = window.URL.createObjectURL(blob);\n      a.download = filename;\n      div.appendChild(a);\n      a.click();\n      div.remove();\n    }\n  ",
      "text/plain": [
       "<IPython.core.display.Javascript object>"
      ]
     },
     "metadata": {},
     "output_type": "display_data"
    },
    {
     "data": {
      "application/javascript": "download(\"download_242373d6-7dfc-4acc-8cfe-a13b69bea771\", \"orders_df_cleaned.csv\", 14832244)",
      "text/plain": [
       "<IPython.core.display.Javascript object>"
      ]
     },
     "metadata": {},
     "output_type": "display_data"
    }
   ],
   "source": [
    "from google.colab import files\n",
    "files.download('orders_df_cleaned.csv')"
   ]
  },
  {
   "cell_type": "code",
   "execution_count": null,
   "metadata": {
    "colab": {
     "base_uri": "https://localhost:8080/"
    },
    "id": "qmkUQmF-wVuR",
    "outputId": "e5fd8b80-dd65-4048-e007-8f670905bec3"
   },
   "outputs": [
    {
     "name": "stdout",
     "output_type": "stream",
     "text": [
      "Jumlah data setelah menghapus outliers: (91436, 9)\n",
      "Dataset yang sudah bersih dari outliers telah disimpan sebagai 'orders_df_no_outliers.csv'\n"
     ]
    }
   ],
   "source": [
    "import pandas as pd\n",
    "\n",
    "orders_df_cleaned = pd.read_csv('orders_df_cleaned.csv')\n",
    "\n",
    "orders_df_cleaned['order_purchase_timestamp'] = pd.to_datetime(orders_df_cleaned['order_purchase_timestamp'])\n",
    "orders_df_cleaned['order_approved_at'] = pd.to_datetime(orders_df_cleaned['order_approved_at'])\n",
    "orders_df_cleaned['order_delivered_carrier_date'] = pd.to_datetime(orders_df_cleaned['order_delivered_carrier_date'])\n",
    "orders_df_cleaned['order_delivered_customer_date'] = pd.to_datetime(orders_df_cleaned['order_delivered_customer_date'])\n",
    "orders_df_cleaned['order_estimated_delivery_date'] = pd.to_datetime(orders_df_cleaned['order_estimated_delivery_date'])\n",
    "\n",
    "\n",
    "orders_df_cleaned['delivery_duration'] = (orders_df_cleaned['order_delivered_customer_date'] - orders_df_cleaned['order_purchase_timestamp']).dt.days\n",
    "\n",
    "Q1 = orders_df_cleaned['delivery_duration'].quantile(0.25)\n",
    "Q3 = orders_df_cleaned['delivery_duration'].quantile(0.75)\n",
    "IQR = Q3 - Q1\n",
    "\n",
    "# Menetapkan batas bawah dan atas untuk mendeteksi outliers\n",
    "lower_bound = Q1 - 1.5 * IQR\n",
    "upper_bound = Q3 + 1.5 * IQR\n",
    "\n",
    "# Menyaring data untuk menghapus outliers\n",
    "orders_df_no_outliers = orders_df_cleaned[(orders_df_cleaned['delivery_duration'] >= lower_bound) &\n",
    "                                          (orders_df_cleaned['delivery_duration'] <= upper_bound)]\n",
    "\n",
    "# Mengecek jumlah baris setelah pembersihan\n",
    "print(f\"Jumlah data setelah menghapus outliers: {orders_df_no_outliers.shape}\")\n",
    "\n",
    "# Menyimpan dataset yang sudah bersih dari outliers\n",
    "orders_df_no_outliers.to_csv(\"orders_df_no_outliers.csv\", index=False)\n",
    "print(\"Dataset yang sudah bersih dari outliers telah disimpan sebagai 'orders_df_no_outliers.csv'\")\n"
   ]
  },
  {
   "cell_type": "code",
   "execution_count": null,
   "metadata": {
    "colab": {
     "base_uri": "https://localhost:8080/",
     "height": 17
    },
    "id": "Oyv3Y4xCwpAL",
    "outputId": "a948b3f2-ef88-4234-dd8a-9c3c89d91ab9"
   },
   "outputs": [
    {
     "data": {
      "application/javascript": "\n    async function download(id, filename, size) {\n      if (!google.colab.kernel.accessAllowed) {\n        return;\n      }\n      const div = document.createElement('div');\n      const label = document.createElement('label');\n      label.textContent = `Downloading \"${filename}\": `;\n      div.appendChild(label);\n      const progress = document.createElement('progress');\n      progress.max = size;\n      div.appendChild(progress);\n      document.body.appendChild(div);\n\n      const buffers = [];\n      let downloaded = 0;\n\n      const channel = await google.colab.kernel.comms.open(id);\n      // Send a message to notify the kernel that we're ready.\n      channel.send({})\n\n      for await (const message of channel.messages) {\n        // Send a message to notify the kernel that we're ready.\n        channel.send({})\n        if (message.buffers) {\n          for (const buffer of message.buffers) {\n            buffers.push(buffer);\n            downloaded += buffer.byteLength;\n            progress.value = downloaded;\n          }\n        }\n      }\n      const blob = new Blob(buffers, {type: 'application/binary'});\n      const a = document.createElement('a');\n      a.href = window.URL.createObjectURL(blob);\n      a.download = filename;\n      div.appendChild(a);\n      a.click();\n      div.remove();\n    }\n  ",
      "text/plain": [
       "<IPython.core.display.Javascript object>"
      ]
     },
     "metadata": {},
     "output_type": "display_data"
    },
    {
     "data": {
      "application/javascript": "download(\"download_efb4d3ed-d517-4877-9b54-c870bc9cab4a\", \"orders_df_no_outliers.csv\", 15497822)",
      "text/plain": [
       "<IPython.core.display.Javascript object>"
      ]
     },
     "metadata": {},
     "output_type": "display_data"
    }
   ],
   "source": [
    "from google.colab import files\n",
    "files.download('orders_df_no_outliers.csv')"
   ]
  },
  {
   "cell_type": "markdown",
   "metadata": {
    "id": "Q_5ejIqckiSP"
   },
   "source": [
    "**Insight:**\n",
    "- menghapus missing value pada dataset orders_dataset di kolom order_approved_at sebanyak 160 baris, order_delivered_carrier_date sebanyak 1783 baris dan order_delivered_customer_date sebanyak 2965 baris\n",
    "- dataset order_payments_dataset berhasil dibersihkan dan simpan di payments_df_less_outliers.csv\n",
    "- dataset orders_dataset.csv berhasil dibersihkan dan simpan di orders_df_no_outliers.csv"
   ]
  },
  {
   "cell_type": "markdown",
   "metadata": {
    "id": "gp-Y6wU38DC1"
   },
   "source": [
    "## Exploratory Data Analysis (EDA)"
   ]
  },
  {
   "cell_type": "markdown",
   "metadata": {
    "id": "MW7WF2kr8DC1"
   },
   "source": [
    "### Explore ..."
   ]
  },
  {
   "cell_type": "code",
   "execution_count": null,
   "metadata": {
    "colab": {
     "base_uri": "https://localhost:8080/",
     "height": 74
    },
    "id": "te5WefFzxWIa",
    "outputId": "d27fee55-840e-4525-d5a9-b9b25ed6552e"
   },
   "outputs": [
    {
     "data": {
      "text/html": [
       "\n",
       "     <input type=\"file\" id=\"files-203d86b4-c8f2-4336-99b4-1959192eaf66\" name=\"files[]\" multiple disabled\n",
       "        style=\"border:none\" />\n",
       "     <output id=\"result-203d86b4-c8f2-4336-99b4-1959192eaf66\">\n",
       "      Upload widget is only available when the cell has been executed in the\n",
       "      current browser session. Please rerun this cell to enable.\n",
       "      </output>\n",
       "      <script>// Copyright 2017 Google LLC\n",
       "//\n",
       "// Licensed under the Apache License, Version 2.0 (the \"License\");\n",
       "// you may not use this file except in compliance with the License.\n",
       "// You may obtain a copy of the License at\n",
       "//\n",
       "//      http://www.apache.org/licenses/LICENSE-2.0\n",
       "//\n",
       "// Unless required by applicable law or agreed to in writing, software\n",
       "// distributed under the License is distributed on an \"AS IS\" BASIS,\n",
       "// WITHOUT WARRANTIES OR CONDITIONS OF ANY KIND, either express or implied.\n",
       "// See the License for the specific language governing permissions and\n",
       "// limitations under the License.\n",
       "\n",
       "/**\n",
       " * @fileoverview Helpers for google.colab Python module.\n",
       " */\n",
       "(function(scope) {\n",
       "function span(text, styleAttributes = {}) {\n",
       "  const element = document.createElement('span');\n",
       "  element.textContent = text;\n",
       "  for (const key of Object.keys(styleAttributes)) {\n",
       "    element.style[key] = styleAttributes[key];\n",
       "  }\n",
       "  return element;\n",
       "}\n",
       "\n",
       "// Max number of bytes which will be uploaded at a time.\n",
       "const MAX_PAYLOAD_SIZE = 100 * 1024;\n",
       "\n",
       "function _uploadFiles(inputId, outputId) {\n",
       "  const steps = uploadFilesStep(inputId, outputId);\n",
       "  const outputElement = document.getElementById(outputId);\n",
       "  // Cache steps on the outputElement to make it available for the next call\n",
       "  // to uploadFilesContinue from Python.\n",
       "  outputElement.steps = steps;\n",
       "\n",
       "  return _uploadFilesContinue(outputId);\n",
       "}\n",
       "\n",
       "// This is roughly an async generator (not supported in the browser yet),\n",
       "// where there are multiple asynchronous steps and the Python side is going\n",
       "// to poll for completion of each step.\n",
       "// This uses a Promise to block the python side on completion of each step,\n",
       "// then passes the result of the previous step as the input to the next step.\n",
       "function _uploadFilesContinue(outputId) {\n",
       "  const outputElement = document.getElementById(outputId);\n",
       "  const steps = outputElement.steps;\n",
       "\n",
       "  const next = steps.next(outputElement.lastPromiseValue);\n",
       "  return Promise.resolve(next.value.promise).then((value) => {\n",
       "    // Cache the last promise value to make it available to the next\n",
       "    // step of the generator.\n",
       "    outputElement.lastPromiseValue = value;\n",
       "    return next.value.response;\n",
       "  });\n",
       "}\n",
       "\n",
       "/**\n",
       " * Generator function which is called between each async step of the upload\n",
       " * process.\n",
       " * @param {string} inputId Element ID of the input file picker element.\n",
       " * @param {string} outputId Element ID of the output display.\n",
       " * @return {!Iterable<!Object>} Iterable of next steps.\n",
       " */\n",
       "function* uploadFilesStep(inputId, outputId) {\n",
       "  const inputElement = document.getElementById(inputId);\n",
       "  inputElement.disabled = false;\n",
       "\n",
       "  const outputElement = document.getElementById(outputId);\n",
       "  outputElement.innerHTML = '';\n",
       "\n",
       "  const pickedPromise = new Promise((resolve) => {\n",
       "    inputElement.addEventListener('change', (e) => {\n",
       "      resolve(e.target.files);\n",
       "    });\n",
       "  });\n",
       "\n",
       "  const cancel = document.createElement('button');\n",
       "  inputElement.parentElement.appendChild(cancel);\n",
       "  cancel.textContent = 'Cancel upload';\n",
       "  const cancelPromise = new Promise((resolve) => {\n",
       "    cancel.onclick = () => {\n",
       "      resolve(null);\n",
       "    };\n",
       "  });\n",
       "\n",
       "  // Wait for the user to pick the files.\n",
       "  const files = yield {\n",
       "    promise: Promise.race([pickedPromise, cancelPromise]),\n",
       "    response: {\n",
       "      action: 'starting',\n",
       "    }\n",
       "  };\n",
       "\n",
       "  cancel.remove();\n",
       "\n",
       "  // Disable the input element since further picks are not allowed.\n",
       "  inputElement.disabled = true;\n",
       "\n",
       "  if (!files) {\n",
       "    return {\n",
       "      response: {\n",
       "        action: 'complete',\n",
       "      }\n",
       "    };\n",
       "  }\n",
       "\n",
       "  for (const file of files) {\n",
       "    const li = document.createElement('li');\n",
       "    li.append(span(file.name, {fontWeight: 'bold'}));\n",
       "    li.append(span(\n",
       "        `(${file.type || 'n/a'}) - ${file.size} bytes, ` +\n",
       "        `last modified: ${\n",
       "            file.lastModifiedDate ? file.lastModifiedDate.toLocaleDateString() :\n",
       "                                    'n/a'} - `));\n",
       "    const percent = span('0% done');\n",
       "    li.appendChild(percent);\n",
       "\n",
       "    outputElement.appendChild(li);\n",
       "\n",
       "    const fileDataPromise = new Promise((resolve) => {\n",
       "      const reader = new FileReader();\n",
       "      reader.onload = (e) => {\n",
       "        resolve(e.target.result);\n",
       "      };\n",
       "      reader.readAsArrayBuffer(file);\n",
       "    });\n",
       "    // Wait for the data to be ready.\n",
       "    let fileData = yield {\n",
       "      promise: fileDataPromise,\n",
       "      response: {\n",
       "        action: 'continue',\n",
       "      }\n",
       "    };\n",
       "\n",
       "    // Use a chunked sending to avoid message size limits. See b/62115660.\n",
       "    let position = 0;\n",
       "    do {\n",
       "      const length = Math.min(fileData.byteLength - position, MAX_PAYLOAD_SIZE);\n",
       "      const chunk = new Uint8Array(fileData, position, length);\n",
       "      position += length;\n",
       "\n",
       "      const base64 = btoa(String.fromCharCode.apply(null, chunk));\n",
       "      yield {\n",
       "        response: {\n",
       "          action: 'append',\n",
       "          file: file.name,\n",
       "          data: base64,\n",
       "        },\n",
       "      };\n",
       "\n",
       "      let percentDone = fileData.byteLength === 0 ?\n",
       "          100 :\n",
       "          Math.round((position / fileData.byteLength) * 100);\n",
       "      percent.textContent = `${percentDone}% done`;\n",
       "\n",
       "    } while (position < fileData.byteLength);\n",
       "  }\n",
       "\n",
       "  // All done.\n",
       "  yield {\n",
       "    response: {\n",
       "      action: 'complete',\n",
       "    }\n",
       "  };\n",
       "}\n",
       "\n",
       "scope.google = scope.google || {};\n",
       "scope.google.colab = scope.google.colab || {};\n",
       "scope.google.colab._files = {\n",
       "  _uploadFiles,\n",
       "  _uploadFilesContinue,\n",
       "};\n",
       "})(self);\n",
       "</script> "
      ],
      "text/plain": [
       "<IPython.core.display.HTML object>"
      ]
     },
     "metadata": {},
     "output_type": "display_data"
    },
    {
     "name": "stdout",
     "output_type": "stream",
     "text": [
      "Saving orders_df_no_outliers.csv to orders_df_no_outliers.csv\n"
     ]
    }
   ],
   "source": [
    "import pandas as pd\n",
    "from google.colab import files\n",
    "import io\n",
    "\n",
    "uploaded = files.upload()"
   ]
  },
  {
   "cell_type": "code",
   "execution_count": null,
   "metadata": {
    "colab": {
     "base_uri": "https://localhost:8080/",
     "height": 74
    },
    "id": "2G-LmNaNxW4f",
    "outputId": "7a095222-9824-4109-bdb0-db8f229b6c76"
   },
   "outputs": [
    {
     "data": {
      "text/html": [
       "\n",
       "     <input type=\"file\" id=\"files-e52fee38-f6db-4c9a-81ad-9bed1d9b4708\" name=\"files[]\" multiple disabled\n",
       "        style=\"border:none\" />\n",
       "     <output id=\"result-e52fee38-f6db-4c9a-81ad-9bed1d9b4708\">\n",
       "      Upload widget is only available when the cell has been executed in the\n",
       "      current browser session. Please rerun this cell to enable.\n",
       "      </output>\n",
       "      <script>// Copyright 2017 Google LLC\n",
       "//\n",
       "// Licensed under the Apache License, Version 2.0 (the \"License\");\n",
       "// you may not use this file except in compliance with the License.\n",
       "// You may obtain a copy of the License at\n",
       "//\n",
       "//      http://www.apache.org/licenses/LICENSE-2.0\n",
       "//\n",
       "// Unless required by applicable law or agreed to in writing, software\n",
       "// distributed under the License is distributed on an \"AS IS\" BASIS,\n",
       "// WITHOUT WARRANTIES OR CONDITIONS OF ANY KIND, either express or implied.\n",
       "// See the License for the specific language governing permissions and\n",
       "// limitations under the License.\n",
       "\n",
       "/**\n",
       " * @fileoverview Helpers for google.colab Python module.\n",
       " */\n",
       "(function(scope) {\n",
       "function span(text, styleAttributes = {}) {\n",
       "  const element = document.createElement('span');\n",
       "  element.textContent = text;\n",
       "  for (const key of Object.keys(styleAttributes)) {\n",
       "    element.style[key] = styleAttributes[key];\n",
       "  }\n",
       "  return element;\n",
       "}\n",
       "\n",
       "// Max number of bytes which will be uploaded at a time.\n",
       "const MAX_PAYLOAD_SIZE = 100 * 1024;\n",
       "\n",
       "function _uploadFiles(inputId, outputId) {\n",
       "  const steps = uploadFilesStep(inputId, outputId);\n",
       "  const outputElement = document.getElementById(outputId);\n",
       "  // Cache steps on the outputElement to make it available for the next call\n",
       "  // to uploadFilesContinue from Python.\n",
       "  outputElement.steps = steps;\n",
       "\n",
       "  return _uploadFilesContinue(outputId);\n",
       "}\n",
       "\n",
       "// This is roughly an async generator (not supported in the browser yet),\n",
       "// where there are multiple asynchronous steps and the Python side is going\n",
       "// to poll for completion of each step.\n",
       "// This uses a Promise to block the python side on completion of each step,\n",
       "// then passes the result of the previous step as the input to the next step.\n",
       "function _uploadFilesContinue(outputId) {\n",
       "  const outputElement = document.getElementById(outputId);\n",
       "  const steps = outputElement.steps;\n",
       "\n",
       "  const next = steps.next(outputElement.lastPromiseValue);\n",
       "  return Promise.resolve(next.value.promise).then((value) => {\n",
       "    // Cache the last promise value to make it available to the next\n",
       "    // step of the generator.\n",
       "    outputElement.lastPromiseValue = value;\n",
       "    return next.value.response;\n",
       "  });\n",
       "}\n",
       "\n",
       "/**\n",
       " * Generator function which is called between each async step of the upload\n",
       " * process.\n",
       " * @param {string} inputId Element ID of the input file picker element.\n",
       " * @param {string} outputId Element ID of the output display.\n",
       " * @return {!Iterable<!Object>} Iterable of next steps.\n",
       " */\n",
       "function* uploadFilesStep(inputId, outputId) {\n",
       "  const inputElement = document.getElementById(inputId);\n",
       "  inputElement.disabled = false;\n",
       "\n",
       "  const outputElement = document.getElementById(outputId);\n",
       "  outputElement.innerHTML = '';\n",
       "\n",
       "  const pickedPromise = new Promise((resolve) => {\n",
       "    inputElement.addEventListener('change', (e) => {\n",
       "      resolve(e.target.files);\n",
       "    });\n",
       "  });\n",
       "\n",
       "  const cancel = document.createElement('button');\n",
       "  inputElement.parentElement.appendChild(cancel);\n",
       "  cancel.textContent = 'Cancel upload';\n",
       "  const cancelPromise = new Promise((resolve) => {\n",
       "    cancel.onclick = () => {\n",
       "      resolve(null);\n",
       "    };\n",
       "  });\n",
       "\n",
       "  // Wait for the user to pick the files.\n",
       "  const files = yield {\n",
       "    promise: Promise.race([pickedPromise, cancelPromise]),\n",
       "    response: {\n",
       "      action: 'starting',\n",
       "    }\n",
       "  };\n",
       "\n",
       "  cancel.remove();\n",
       "\n",
       "  // Disable the input element since further picks are not allowed.\n",
       "  inputElement.disabled = true;\n",
       "\n",
       "  if (!files) {\n",
       "    return {\n",
       "      response: {\n",
       "        action: 'complete',\n",
       "      }\n",
       "    };\n",
       "  }\n",
       "\n",
       "  for (const file of files) {\n",
       "    const li = document.createElement('li');\n",
       "    li.append(span(file.name, {fontWeight: 'bold'}));\n",
       "    li.append(span(\n",
       "        `(${file.type || 'n/a'}) - ${file.size} bytes, ` +\n",
       "        `last modified: ${\n",
       "            file.lastModifiedDate ? file.lastModifiedDate.toLocaleDateString() :\n",
       "                                    'n/a'} - `));\n",
       "    const percent = span('0% done');\n",
       "    li.appendChild(percent);\n",
       "\n",
       "    outputElement.appendChild(li);\n",
       "\n",
       "    const fileDataPromise = new Promise((resolve) => {\n",
       "      const reader = new FileReader();\n",
       "      reader.onload = (e) => {\n",
       "        resolve(e.target.result);\n",
       "      };\n",
       "      reader.readAsArrayBuffer(file);\n",
       "    });\n",
       "    // Wait for the data to be ready.\n",
       "    let fileData = yield {\n",
       "      promise: fileDataPromise,\n",
       "      response: {\n",
       "        action: 'continue',\n",
       "      }\n",
       "    };\n",
       "\n",
       "    // Use a chunked sending to avoid message size limits. See b/62115660.\n",
       "    let position = 0;\n",
       "    do {\n",
       "      const length = Math.min(fileData.byteLength - position, MAX_PAYLOAD_SIZE);\n",
       "      const chunk = new Uint8Array(fileData, position, length);\n",
       "      position += length;\n",
       "\n",
       "      const base64 = btoa(String.fromCharCode.apply(null, chunk));\n",
       "      yield {\n",
       "        response: {\n",
       "          action: 'append',\n",
       "          file: file.name,\n",
       "          data: base64,\n",
       "        },\n",
       "      };\n",
       "\n",
       "      let percentDone = fileData.byteLength === 0 ?\n",
       "          100 :\n",
       "          Math.round((position / fileData.byteLength) * 100);\n",
       "      percent.textContent = `${percentDone}% done`;\n",
       "\n",
       "    } while (position < fileData.byteLength);\n",
       "  }\n",
       "\n",
       "  // All done.\n",
       "  yield {\n",
       "    response: {\n",
       "      action: 'complete',\n",
       "    }\n",
       "  };\n",
       "}\n",
       "\n",
       "scope.google = scope.google || {};\n",
       "scope.google.colab = scope.google.colab || {};\n",
       "scope.google.colab._files = {\n",
       "  _uploadFiles,\n",
       "  _uploadFilesContinue,\n",
       "};\n",
       "})(self);\n",
       "</script> "
      ],
      "text/plain": [
       "<IPython.core.display.HTML object>"
      ]
     },
     "metadata": {},
     "output_type": "display_data"
    },
    {
     "name": "stdout",
     "output_type": "stream",
     "text": [
      "Saving payments_df_less_outliers.csv to payments_df_less_outliers.csv\n"
     ]
    }
   ],
   "source": [
    "import pandas as pd\n",
    "from google.colab import files\n",
    "import io\n",
    "\n",
    "uploaded = files.upload()"
   ]
  },
  {
   "cell_type": "code",
   "execution_count": null,
   "metadata": {
    "colab": {
     "base_uri": "https://localhost:8080/",
     "height": 415
    },
    "id": "ROjW8aeeXIPW",
    "outputId": "1070a189-0d13-4ed5-f256-80c354637183"
   },
   "outputs": [
    {
     "data": {
      "application/vnd.google.colaboratory.intrinsic+json": {
       "summary": "{\n  \"name\": \"orders_df\",\n  \"rows\": 11,\n  \"fields\": [\n    {\n      \"column\": \"order_id\",\n      \"properties\": {\n        \"dtype\": \"category\",\n        \"num_unique_values\": 3,\n        \"samples\": [\n          \"91436\",\n          \"e481f51cbdc54678b7cc49136f2d6af7\",\n          \"1\"\n        ],\n        \"semantic_type\": \"\",\n        \"description\": \"\"\n      }\n    },\n    {\n      \"column\": \"customer_id\",\n      \"properties\": {\n        \"dtype\": \"category\",\n        \"num_unique_values\": 3,\n        \"samples\": [\n          \"91436\",\n          \"9ef432eb6251297304e76186b10a928d\",\n          \"1\"\n        ],\n        \"semantic_type\": \"\",\n        \"description\": \"\"\n      }\n    },\n    {\n      \"column\": \"order_status\",\n      \"properties\": {\n        \"dtype\": \"category\",\n        \"num_unique_values\": 4,\n        \"samples\": [\n          2,\n          \"91433\",\n          \"91436\"\n        ],\n        \"semantic_type\": \"\",\n        \"description\": \"\"\n      }\n    },\n    {\n      \"column\": \"order_purchase_timestamp\",\n      \"properties\": {\n        \"dtype\": \"date\",\n        \"min\": \"1970-01-01 00:00:00.000000028\",\n        \"max\": \"2018-08-02 12:06:00\",\n        \"num_unique_values\": 4,\n        \"samples\": [\n          82372,\n          \"28\",\n          \"91436\"\n        ],\n        \"semantic_type\": \"\",\n        \"description\": \"\"\n      }\n    },\n    {\n      \"column\": \"order_approved_at\",\n      \"properties\": {\n        \"dtype\": \"date\",\n        \"min\": \"1970-01-01 00:00:00.000000100\",\n        \"max\": \"2018-01-10 10:32:00\",\n        \"num_unique_values\": 4,\n        \"samples\": [\n          47923,\n          \"100\",\n          \"91436\"\n        ],\n        \"semantic_type\": \"\",\n        \"description\": \"\"\n      }\n    },\n    {\n      \"column\": \"order_delivered_carrier_date\",\n      \"properties\": {\n        \"dtype\": \"date\",\n        \"min\": \"1970-01-01 00:00:00.000000045\",\n        \"max\": \"2018-05-09 15:48:00\",\n        \"num_unique_values\": 4,\n        \"samples\": [\n          58708,\n          \"45\",\n          \"91436\"\n        ],\n        \"semantic_type\": \"\",\n        \"description\": \"\"\n      }\n    },\n    {\n      \"column\": \"order_delivered_customer_date\",\n      \"properties\": {\n        \"dtype\": \"date\",\n        \"min\": \"1970-01-01 00:00:00.000000007\",\n        \"max\": \"2018-05-21 19:28:00\",\n        \"num_unique_values\": 4,\n        \"samples\": [\n          72457,\n          \"7\",\n          \"91436\"\n        ],\n        \"semantic_type\": \"\",\n        \"description\": \"\"\n      }\n    },\n    {\n      \"column\": \"order_estimated_delivery_date\",\n      \"properties\": {\n        \"dtype\": \"date\",\n        \"min\": \"1970-01-01 00:00:00.000000441\",\n        \"max\": \"2018-07-18 00:00:00\",\n        \"num_unique_values\": 4,\n        \"samples\": [\n          441,\n          \"482\",\n          \"91436\"\n        ],\n        \"semantic_type\": \"\",\n        \"description\": \"\"\n      }\n    },\n    {\n      \"column\": \"delivery_duration\",\n      \"properties\": {\n        \"dtype\": \"number\",\n        \"std\": 32323.79055524073,\n        \"min\": 0.0,\n        \"max\": 91436.0,\n        \"num_unique_values\": 8,\n        \"samples\": [\n          10.558270265540925,\n          9.0,\n          91436.0\n        ],\n        \"semantic_type\": \"\",\n        \"description\": \"\"\n      }\n    }\n  ]\n}",
       "type": "dataframe"
      },
      "text/html": [
       "\n",
       "  <div id=\"df-48664546-f400-4e3a-ad7a-c66373fd5912\" class=\"colab-df-container\">\n",
       "    <div>\n",
       "<style scoped>\n",
       "    .dataframe tbody tr th:only-of-type {\n",
       "        vertical-align: middle;\n",
       "    }\n",
       "\n",
       "    .dataframe tbody tr th {\n",
       "        vertical-align: top;\n",
       "    }\n",
       "\n",
       "    .dataframe thead th {\n",
       "        text-align: right;\n",
       "    }\n",
       "</style>\n",
       "<table border=\"1\" class=\"dataframe\">\n",
       "  <thead>\n",
       "    <tr style=\"text-align: right;\">\n",
       "      <th></th>\n",
       "      <th>order_id</th>\n",
       "      <th>customer_id</th>\n",
       "      <th>order_status</th>\n",
       "      <th>order_purchase_timestamp</th>\n",
       "      <th>order_approved_at</th>\n",
       "      <th>order_delivered_carrier_date</th>\n",
       "      <th>order_delivered_customer_date</th>\n",
       "      <th>order_estimated_delivery_date</th>\n",
       "      <th>delivery_duration</th>\n",
       "    </tr>\n",
       "  </thead>\n",
       "  <tbody>\n",
       "    <tr>\n",
       "      <th>count</th>\n",
       "      <td>91436</td>\n",
       "      <td>91436</td>\n",
       "      <td>91436</td>\n",
       "      <td>91436</td>\n",
       "      <td>91436</td>\n",
       "      <td>91436</td>\n",
       "      <td>91436</td>\n",
       "      <td>91436</td>\n",
       "      <td>91436.000000</td>\n",
       "    </tr>\n",
       "    <tr>\n",
       "      <th>unique</th>\n",
       "      <td>91436</td>\n",
       "      <td>91436</td>\n",
       "      <td>2</td>\n",
       "      <td>82372</td>\n",
       "      <td>47923</td>\n",
       "      <td>58708</td>\n",
       "      <td>72457</td>\n",
       "      <td>441</td>\n",
       "      <td>NaN</td>\n",
       "    </tr>\n",
       "    <tr>\n",
       "      <th>top</th>\n",
       "      <td>e481f51cbdc54678b7cc49136f2d6af7</td>\n",
       "      <td>9ef432eb6251297304e76186b10a928d</td>\n",
       "      <td>delivered</td>\n",
       "      <td>2018-08-02 12:06:00</td>\n",
       "      <td>2018-01-10 10:32:00</td>\n",
       "      <td>2018-05-09 15:48:00</td>\n",
       "      <td>2018-05-21 19:28:00</td>\n",
       "      <td>2018-07-18</td>\n",
       "      <td>NaN</td>\n",
       "    </tr>\n",
       "    <tr>\n",
       "      <th>freq</th>\n",
       "      <td>1</td>\n",
       "      <td>1</td>\n",
       "      <td>91433</td>\n",
       "      <td>28</td>\n",
       "      <td>100</td>\n",
       "      <td>45</td>\n",
       "      <td>7</td>\n",
       "      <td>482</td>\n",
       "      <td>NaN</td>\n",
       "    </tr>\n",
       "    <tr>\n",
       "      <th>mean</th>\n",
       "      <td>NaN</td>\n",
       "      <td>NaN</td>\n",
       "      <td>NaN</td>\n",
       "      <td>NaN</td>\n",
       "      <td>NaN</td>\n",
       "      <td>NaN</td>\n",
       "      <td>NaN</td>\n",
       "      <td>NaN</td>\n",
       "      <td>10.558270</td>\n",
       "    </tr>\n",
       "    <tr>\n",
       "      <th>std</th>\n",
       "      <td>NaN</td>\n",
       "      <td>NaN</td>\n",
       "      <td>NaN</td>\n",
       "      <td>NaN</td>\n",
       "      <td>NaN</td>\n",
       "      <td>NaN</td>\n",
       "      <td>NaN</td>\n",
       "      <td>NaN</td>\n",
       "      <td>6.060468</td>\n",
       "    </tr>\n",
       "    <tr>\n",
       "      <th>min</th>\n",
       "      <td>NaN</td>\n",
       "      <td>NaN</td>\n",
       "      <td>NaN</td>\n",
       "      <td>NaN</td>\n",
       "      <td>NaN</td>\n",
       "      <td>NaN</td>\n",
       "      <td>NaN</td>\n",
       "      <td>NaN</td>\n",
       "      <td>0.000000</td>\n",
       "    </tr>\n",
       "    <tr>\n",
       "      <th>25%</th>\n",
       "      <td>NaN</td>\n",
       "      <td>NaN</td>\n",
       "      <td>NaN</td>\n",
       "      <td>NaN</td>\n",
       "      <td>NaN</td>\n",
       "      <td>NaN</td>\n",
       "      <td>NaN</td>\n",
       "      <td>NaN</td>\n",
       "      <td>6.000000</td>\n",
       "    </tr>\n",
       "    <tr>\n",
       "      <th>50%</th>\n",
       "      <td>NaN</td>\n",
       "      <td>NaN</td>\n",
       "      <td>NaN</td>\n",
       "      <td>NaN</td>\n",
       "      <td>NaN</td>\n",
       "      <td>NaN</td>\n",
       "      <td>NaN</td>\n",
       "      <td>NaN</td>\n",
       "      <td>9.000000</td>\n",
       "    </tr>\n",
       "    <tr>\n",
       "      <th>75%</th>\n",
       "      <td>NaN</td>\n",
       "      <td>NaN</td>\n",
       "      <td>NaN</td>\n",
       "      <td>NaN</td>\n",
       "      <td>NaN</td>\n",
       "      <td>NaN</td>\n",
       "      <td>NaN</td>\n",
       "      <td>NaN</td>\n",
       "      <td>14.000000</td>\n",
       "    </tr>\n",
       "    <tr>\n",
       "      <th>max</th>\n",
       "      <td>NaN</td>\n",
       "      <td>NaN</td>\n",
       "      <td>NaN</td>\n",
       "      <td>NaN</td>\n",
       "      <td>NaN</td>\n",
       "      <td>NaN</td>\n",
       "      <td>NaN</td>\n",
       "      <td>NaN</td>\n",
       "      <td>28.000000</td>\n",
       "    </tr>\n",
       "  </tbody>\n",
       "</table>\n",
       "</div>\n",
       "    <div class=\"colab-df-buttons\">\n",
       "\n",
       "  <div class=\"colab-df-container\">\n",
       "    <button class=\"colab-df-convert\" onclick=\"convertToInteractive('df-48664546-f400-4e3a-ad7a-c66373fd5912')\"\n",
       "            title=\"Convert this dataframe to an interactive table.\"\n",
       "            style=\"display:none;\">\n",
       "\n",
       "  <svg xmlns=\"http://www.w3.org/2000/svg\" height=\"24px\" viewBox=\"0 -960 960 960\">\n",
       "    <path d=\"M120-120v-720h720v720H120Zm60-500h600v-160H180v160Zm220 220h160v-160H400v160Zm0 220h160v-160H400v160ZM180-400h160v-160H180v160Zm440 0h160v-160H620v160ZM180-180h160v-160H180v160Zm440 0h160v-160H620v160Z\"/>\n",
       "  </svg>\n",
       "    </button>\n",
       "\n",
       "  <style>\n",
       "    .colab-df-container {\n",
       "      display:flex;\n",
       "      gap: 12px;\n",
       "    }\n",
       "\n",
       "    .colab-df-convert {\n",
       "      background-color: #E8F0FE;\n",
       "      border: none;\n",
       "      border-radius: 50%;\n",
       "      cursor: pointer;\n",
       "      display: none;\n",
       "      fill: #1967D2;\n",
       "      height: 32px;\n",
       "      padding: 0 0 0 0;\n",
       "      width: 32px;\n",
       "    }\n",
       "\n",
       "    .colab-df-convert:hover {\n",
       "      background-color: #E2EBFA;\n",
       "      box-shadow: 0px 1px 2px rgba(60, 64, 67, 0.3), 0px 1px 3px 1px rgba(60, 64, 67, 0.15);\n",
       "      fill: #174EA6;\n",
       "    }\n",
       "\n",
       "    .colab-df-buttons div {\n",
       "      margin-bottom: 4px;\n",
       "    }\n",
       "\n",
       "    [theme=dark] .colab-df-convert {\n",
       "      background-color: #3B4455;\n",
       "      fill: #D2E3FC;\n",
       "    }\n",
       "\n",
       "    [theme=dark] .colab-df-convert:hover {\n",
       "      background-color: #434B5C;\n",
       "      box-shadow: 0px 1px 3px 1px rgba(0, 0, 0, 0.15);\n",
       "      filter: drop-shadow(0px 1px 2px rgba(0, 0, 0, 0.3));\n",
       "      fill: #FFFFFF;\n",
       "    }\n",
       "  </style>\n",
       "\n",
       "    <script>\n",
       "      const buttonEl =\n",
       "        document.querySelector('#df-48664546-f400-4e3a-ad7a-c66373fd5912 button.colab-df-convert');\n",
       "      buttonEl.style.display =\n",
       "        google.colab.kernel.accessAllowed ? 'block' : 'none';\n",
       "\n",
       "      async function convertToInteractive(key) {\n",
       "        const element = document.querySelector('#df-48664546-f400-4e3a-ad7a-c66373fd5912');\n",
       "        const dataTable =\n",
       "          await google.colab.kernel.invokeFunction('convertToInteractive',\n",
       "                                                    [key], {});\n",
       "        if (!dataTable) return;\n",
       "\n",
       "        const docLinkHtml = 'Like what you see? Visit the ' +\n",
       "          '<a target=\"_blank\" href=https://colab.research.google.com/notebooks/data_table.ipynb>data table notebook</a>'\n",
       "          + ' to learn more about interactive tables.';\n",
       "        element.innerHTML = '';\n",
       "        dataTable['output_type'] = 'display_data';\n",
       "        await google.colab.output.renderOutput(dataTable, element);\n",
       "        const docLink = document.createElement('div');\n",
       "        docLink.innerHTML = docLinkHtml;\n",
       "        element.appendChild(docLink);\n",
       "      }\n",
       "    </script>\n",
       "  </div>\n",
       "\n",
       "\n",
       "<div id=\"df-a1992e09-25d5-4f3b-b2c8-308a0df4d5e6\">\n",
       "  <button class=\"colab-df-quickchart\" onclick=\"quickchart('df-a1992e09-25d5-4f3b-b2c8-308a0df4d5e6')\"\n",
       "            title=\"Suggest charts\"\n",
       "            style=\"display:none;\">\n",
       "\n",
       "<svg xmlns=\"http://www.w3.org/2000/svg\" height=\"24px\"viewBox=\"0 0 24 24\"\n",
       "     width=\"24px\">\n",
       "    <g>\n",
       "        <path d=\"M19 3H5c-1.1 0-2 .9-2 2v14c0 1.1.9 2 2 2h14c1.1 0 2-.9 2-2V5c0-1.1-.9-2-2-2zM9 17H7v-7h2v7zm4 0h-2V7h2v10zm4 0h-2v-4h2v4z\"/>\n",
       "    </g>\n",
       "</svg>\n",
       "  </button>\n",
       "\n",
       "<style>\n",
       "  .colab-df-quickchart {\n",
       "      --bg-color: #E8F0FE;\n",
       "      --fill-color: #1967D2;\n",
       "      --hover-bg-color: #E2EBFA;\n",
       "      --hover-fill-color: #174EA6;\n",
       "      --disabled-fill-color: #AAA;\n",
       "      --disabled-bg-color: #DDD;\n",
       "  }\n",
       "\n",
       "  [theme=dark] .colab-df-quickchart {\n",
       "      --bg-color: #3B4455;\n",
       "      --fill-color: #D2E3FC;\n",
       "      --hover-bg-color: #434B5C;\n",
       "      --hover-fill-color: #FFFFFF;\n",
       "      --disabled-bg-color: #3B4455;\n",
       "      --disabled-fill-color: #666;\n",
       "  }\n",
       "\n",
       "  .colab-df-quickchart {\n",
       "    background-color: var(--bg-color);\n",
       "    border: none;\n",
       "    border-radius: 50%;\n",
       "    cursor: pointer;\n",
       "    display: none;\n",
       "    fill: var(--fill-color);\n",
       "    height: 32px;\n",
       "    padding: 0;\n",
       "    width: 32px;\n",
       "  }\n",
       "\n",
       "  .colab-df-quickchart:hover {\n",
       "    background-color: var(--hover-bg-color);\n",
       "    box-shadow: 0 1px 2px rgba(60, 64, 67, 0.3), 0 1px 3px 1px rgba(60, 64, 67, 0.15);\n",
       "    fill: var(--button-hover-fill-color);\n",
       "  }\n",
       "\n",
       "  .colab-df-quickchart-complete:disabled,\n",
       "  .colab-df-quickchart-complete:disabled:hover {\n",
       "    background-color: var(--disabled-bg-color);\n",
       "    fill: var(--disabled-fill-color);\n",
       "    box-shadow: none;\n",
       "  }\n",
       "\n",
       "  .colab-df-spinner {\n",
       "    border: 2px solid var(--fill-color);\n",
       "    border-color: transparent;\n",
       "    border-bottom-color: var(--fill-color);\n",
       "    animation:\n",
       "      spin 1s steps(1) infinite;\n",
       "  }\n",
       "\n",
       "  @keyframes spin {\n",
       "    0% {\n",
       "      border-color: transparent;\n",
       "      border-bottom-color: var(--fill-color);\n",
       "      border-left-color: var(--fill-color);\n",
       "    }\n",
       "    20% {\n",
       "      border-color: transparent;\n",
       "      border-left-color: var(--fill-color);\n",
       "      border-top-color: var(--fill-color);\n",
       "    }\n",
       "    30% {\n",
       "      border-color: transparent;\n",
       "      border-left-color: var(--fill-color);\n",
       "      border-top-color: var(--fill-color);\n",
       "      border-right-color: var(--fill-color);\n",
       "    }\n",
       "    40% {\n",
       "      border-color: transparent;\n",
       "      border-right-color: var(--fill-color);\n",
       "      border-top-color: var(--fill-color);\n",
       "    }\n",
       "    60% {\n",
       "      border-color: transparent;\n",
       "      border-right-color: var(--fill-color);\n",
       "    }\n",
       "    80% {\n",
       "      border-color: transparent;\n",
       "      border-right-color: var(--fill-color);\n",
       "      border-bottom-color: var(--fill-color);\n",
       "    }\n",
       "    90% {\n",
       "      border-color: transparent;\n",
       "      border-bottom-color: var(--fill-color);\n",
       "    }\n",
       "  }\n",
       "</style>\n",
       "\n",
       "  <script>\n",
       "    async function quickchart(key) {\n",
       "      const quickchartButtonEl =\n",
       "        document.querySelector('#' + key + ' button');\n",
       "      quickchartButtonEl.disabled = true;  // To prevent multiple clicks.\n",
       "      quickchartButtonEl.classList.add('colab-df-spinner');\n",
       "      try {\n",
       "        const charts = await google.colab.kernel.invokeFunction(\n",
       "            'suggestCharts', [key], {});\n",
       "      } catch (error) {\n",
       "        console.error('Error during call to suggestCharts:', error);\n",
       "      }\n",
       "      quickchartButtonEl.classList.remove('colab-df-spinner');\n",
       "      quickchartButtonEl.classList.add('colab-df-quickchart-complete');\n",
       "    }\n",
       "    (() => {\n",
       "      let quickchartButtonEl =\n",
       "        document.querySelector('#df-a1992e09-25d5-4f3b-b2c8-308a0df4d5e6 button');\n",
       "      quickchartButtonEl.style.display =\n",
       "        google.colab.kernel.accessAllowed ? 'block' : 'none';\n",
       "    })();\n",
       "  </script>\n",
       "</div>\n",
       "\n",
       "    </div>\n",
       "  </div>\n"
      ],
      "text/plain": [
       "                                order_id                       customer_id  \\\n",
       "count                              91436                             91436   \n",
       "unique                             91436                             91436   \n",
       "top     e481f51cbdc54678b7cc49136f2d6af7  9ef432eb6251297304e76186b10a928d   \n",
       "freq                                   1                                 1   \n",
       "mean                                 NaN                               NaN   \n",
       "std                                  NaN                               NaN   \n",
       "min                                  NaN                               NaN   \n",
       "25%                                  NaN                               NaN   \n",
       "50%                                  NaN                               NaN   \n",
       "75%                                  NaN                               NaN   \n",
       "max                                  NaN                               NaN   \n",
       "\n",
       "       order_status order_purchase_timestamp    order_approved_at  \\\n",
       "count         91436                    91436                91436   \n",
       "unique            2                    82372                47923   \n",
       "top       delivered      2018-08-02 12:06:00  2018-01-10 10:32:00   \n",
       "freq          91433                       28                  100   \n",
       "mean            NaN                      NaN                  NaN   \n",
       "std             NaN                      NaN                  NaN   \n",
       "min             NaN                      NaN                  NaN   \n",
       "25%             NaN                      NaN                  NaN   \n",
       "50%             NaN                      NaN                  NaN   \n",
       "75%             NaN                      NaN                  NaN   \n",
       "max             NaN                      NaN                  NaN   \n",
       "\n",
       "       order_delivered_carrier_date order_delivered_customer_date  \\\n",
       "count                         91436                         91436   \n",
       "unique                        58708                         72457   \n",
       "top             2018-05-09 15:48:00           2018-05-21 19:28:00   \n",
       "freq                             45                             7   \n",
       "mean                            NaN                           NaN   \n",
       "std                             NaN                           NaN   \n",
       "min                             NaN                           NaN   \n",
       "25%                             NaN                           NaN   \n",
       "50%                             NaN                           NaN   \n",
       "75%                             NaN                           NaN   \n",
       "max                             NaN                           NaN   \n",
       "\n",
       "       order_estimated_delivery_date  delivery_duration  \n",
       "count                          91436       91436.000000  \n",
       "unique                           441                NaN  \n",
       "top                       2018-07-18                NaN  \n",
       "freq                             482                NaN  \n",
       "mean                             NaN          10.558270  \n",
       "std                              NaN           6.060468  \n",
       "min                              NaN           0.000000  \n",
       "25%                              NaN           6.000000  \n",
       "50%                              NaN           9.000000  \n",
       "75%                              NaN          14.000000  \n",
       "max                              NaN          28.000000  "
      ]
     },
     "execution_count": 15,
     "metadata": {},
     "output_type": "execute_result"
    }
   ],
   "source": [
    "import pandas as pd\n",
    "orders_df = pd.read_csv('orders_df_no_outliers.csv')\n",
    "\n",
    "orders_df.describe(include=\"all\")"
   ]
  },
  {
   "cell_type": "code",
   "execution_count": null,
   "metadata": {
    "colab": {
     "base_uri": "https://localhost:8080/",
     "height": 395
    },
    "id": "HuvU7eKhYPhm",
    "outputId": "f14b9529-1733-467f-e6d4-ee6e6360815d"
   },
   "outputs": [
    {
     "data": {
      "application/vnd.google.colaboratory.intrinsic+json": {
       "summary": "{\n  \"name\": \"payments_df\",\n  \"rows\": 11,\n  \"fields\": [\n    {\n      \"column\": \"order_id\",\n      \"properties\": {\n        \"dtype\": \"category\",\n        \"num_unique_values\": 4,\n        \"samples\": [\n          88404,\n          \"29\",\n          \"92648\"\n        ],\n        \"semantic_type\": \"\",\n        \"description\": \"\"\n      }\n    },\n    {\n      \"column\": \"payment_sequential\",\n      \"properties\": {\n        \"dtype\": \"number\",\n        \"std\": 32754.25588981997,\n        \"min\": 0.7459826344788908,\n        \"max\": 92648.0,\n        \"num_unique_values\": 5,\n        \"samples\": [\n          1.1024199119247042,\n          29.0,\n          0.7459826344788908\n        ],\n        \"semantic_type\": \"\",\n        \"description\": \"\"\n      }\n    },\n    {\n      \"column\": \"payment_type\",\n      \"properties\": {\n        \"dtype\": \"category\",\n        \"num_unique_values\": 4,\n        \"samples\": [\n          5,\n          \"67647\",\n          \"92648\"\n        ],\n        \"semantic_type\": \"\",\n        \"description\": \"\"\n      }\n    },\n    {\n      \"column\": \"payment_installments\",\n      \"properties\": {\n        \"dtype\": \"number\",\n        \"std\": 32754.30051882056,\n        \"min\": 0.0,\n        \"max\": 92648.0,\n        \"num_unique_values\": 7,\n        \"samples\": [\n          92648.0,\n          2.5636387185907954,\n          3.0\n        ],\n        \"semantic_type\": \"\",\n        \"description\": \"\"\n      }\n    },\n    {\n      \"column\": \"payment_value\",\n      \"properties\": {\n        \"dtype\": \"number\",\n        \"std\": 32719.086671213063,\n        \"min\": 0.0,\n        \"max\": 92648.0,\n        \"num_unique_values\": 8,\n        \"samples\": [\n          102.97402134962438,\n          88.71,\n          92648.0\n        ],\n        \"semantic_type\": \"\",\n        \"description\": \"\"\n      }\n    }\n  ]\n}",
       "type": "dataframe"
      },
      "text/html": [
       "\n",
       "  <div id=\"df-08f03763-b6fc-4e3d-ba1d-0e1e1d0052ca\" class=\"colab-df-container\">\n",
       "    <div>\n",
       "<style scoped>\n",
       "    .dataframe tbody tr th:only-of-type {\n",
       "        vertical-align: middle;\n",
       "    }\n",
       "\n",
       "    .dataframe tbody tr th {\n",
       "        vertical-align: top;\n",
       "    }\n",
       "\n",
       "    .dataframe thead th {\n",
       "        text-align: right;\n",
       "    }\n",
       "</style>\n",
       "<table border=\"1\" class=\"dataframe\">\n",
       "  <thead>\n",
       "    <tr style=\"text-align: right;\">\n",
       "      <th></th>\n",
       "      <th>order_id</th>\n",
       "      <th>payment_sequential</th>\n",
       "      <th>payment_type</th>\n",
       "      <th>payment_installments</th>\n",
       "      <th>payment_value</th>\n",
       "    </tr>\n",
       "  </thead>\n",
       "  <tbody>\n",
       "    <tr>\n",
       "      <th>count</th>\n",
       "      <td>92648</td>\n",
       "      <td>92648.000000</td>\n",
       "      <td>92648</td>\n",
       "      <td>92648.000000</td>\n",
       "      <td>92648.000000</td>\n",
       "    </tr>\n",
       "    <tr>\n",
       "      <th>unique</th>\n",
       "      <td>88404</td>\n",
       "      <td>NaN</td>\n",
       "      <td>5</td>\n",
       "      <td>NaN</td>\n",
       "      <td>NaN</td>\n",
       "    </tr>\n",
       "    <tr>\n",
       "      <th>top</th>\n",
       "      <td>fa65dad1b0e818e3ccc5cb0e39231352</td>\n",
       "      <td>NaN</td>\n",
       "      <td>credit_card</td>\n",
       "      <td>NaN</td>\n",
       "      <td>NaN</td>\n",
       "    </tr>\n",
       "    <tr>\n",
       "      <th>freq</th>\n",
       "      <td>29</td>\n",
       "      <td>NaN</td>\n",
       "      <td>67647</td>\n",
       "      <td>NaN</td>\n",
       "      <td>NaN</td>\n",
       "    </tr>\n",
       "    <tr>\n",
       "      <th>mean</th>\n",
       "      <td>NaN</td>\n",
       "      <td>1.102420</td>\n",
       "      <td>NaN</td>\n",
       "      <td>2.563639</td>\n",
       "      <td>102.974021</td>\n",
       "    </tr>\n",
       "    <tr>\n",
       "      <th>std</th>\n",
       "      <td>NaN</td>\n",
       "      <td>0.745983</td>\n",
       "      <td>NaN</td>\n",
       "      <td>2.390849</td>\n",
       "      <td>63.195506</td>\n",
       "    </tr>\n",
       "    <tr>\n",
       "      <th>min</th>\n",
       "      <td>NaN</td>\n",
       "      <td>1.000000</td>\n",
       "      <td>NaN</td>\n",
       "      <td>0.000000</td>\n",
       "      <td>0.000000</td>\n",
       "    </tr>\n",
       "    <tr>\n",
       "      <th>25%</th>\n",
       "      <td>NaN</td>\n",
       "      <td>1.000000</td>\n",
       "      <td>NaN</td>\n",
       "      <td>1.000000</td>\n",
       "      <td>52.780000</td>\n",
       "    </tr>\n",
       "    <tr>\n",
       "      <th>50%</th>\n",
       "      <td>NaN</td>\n",
       "      <td>1.000000</td>\n",
       "      <td>NaN</td>\n",
       "      <td>1.000000</td>\n",
       "      <td>88.710000</td>\n",
       "    </tr>\n",
       "    <tr>\n",
       "      <th>75%</th>\n",
       "      <td>NaN</td>\n",
       "      <td>1.000000</td>\n",
       "      <td>NaN</td>\n",
       "      <td>3.000000</td>\n",
       "      <td>143.150000</td>\n",
       "    </tr>\n",
       "    <tr>\n",
       "      <th>max</th>\n",
       "      <td>NaN</td>\n",
       "      <td>29.000000</td>\n",
       "      <td>NaN</td>\n",
       "      <td>24.000000</td>\n",
       "      <td>282.430000</td>\n",
       "    </tr>\n",
       "  </tbody>\n",
       "</table>\n",
       "</div>\n",
       "    <div class=\"colab-df-buttons\">\n",
       "\n",
       "  <div class=\"colab-df-container\">\n",
       "    <button class=\"colab-df-convert\" onclick=\"convertToInteractive('df-08f03763-b6fc-4e3d-ba1d-0e1e1d0052ca')\"\n",
       "            title=\"Convert this dataframe to an interactive table.\"\n",
       "            style=\"display:none;\">\n",
       "\n",
       "  <svg xmlns=\"http://www.w3.org/2000/svg\" height=\"24px\" viewBox=\"0 -960 960 960\">\n",
       "    <path d=\"M120-120v-720h720v720H120Zm60-500h600v-160H180v160Zm220 220h160v-160H400v160Zm0 220h160v-160H400v160ZM180-400h160v-160H180v160Zm440 0h160v-160H620v160ZM180-180h160v-160H180v160Zm440 0h160v-160H620v160Z\"/>\n",
       "  </svg>\n",
       "    </button>\n",
       "\n",
       "  <style>\n",
       "    .colab-df-container {\n",
       "      display:flex;\n",
       "      gap: 12px;\n",
       "    }\n",
       "\n",
       "    .colab-df-convert {\n",
       "      background-color: #E8F0FE;\n",
       "      border: none;\n",
       "      border-radius: 50%;\n",
       "      cursor: pointer;\n",
       "      display: none;\n",
       "      fill: #1967D2;\n",
       "      height: 32px;\n",
       "      padding: 0 0 0 0;\n",
       "      width: 32px;\n",
       "    }\n",
       "\n",
       "    .colab-df-convert:hover {\n",
       "      background-color: #E2EBFA;\n",
       "      box-shadow: 0px 1px 2px rgba(60, 64, 67, 0.3), 0px 1px 3px 1px rgba(60, 64, 67, 0.15);\n",
       "      fill: #174EA6;\n",
       "    }\n",
       "\n",
       "    .colab-df-buttons div {\n",
       "      margin-bottom: 4px;\n",
       "    }\n",
       "\n",
       "    [theme=dark] .colab-df-convert {\n",
       "      background-color: #3B4455;\n",
       "      fill: #D2E3FC;\n",
       "    }\n",
       "\n",
       "    [theme=dark] .colab-df-convert:hover {\n",
       "      background-color: #434B5C;\n",
       "      box-shadow: 0px 1px 3px 1px rgba(0, 0, 0, 0.15);\n",
       "      filter: drop-shadow(0px 1px 2px rgba(0, 0, 0, 0.3));\n",
       "      fill: #FFFFFF;\n",
       "    }\n",
       "  </style>\n",
       "\n",
       "    <script>\n",
       "      const buttonEl =\n",
       "        document.querySelector('#df-08f03763-b6fc-4e3d-ba1d-0e1e1d0052ca button.colab-df-convert');\n",
       "      buttonEl.style.display =\n",
       "        google.colab.kernel.accessAllowed ? 'block' : 'none';\n",
       "\n",
       "      async function convertToInteractive(key) {\n",
       "        const element = document.querySelector('#df-08f03763-b6fc-4e3d-ba1d-0e1e1d0052ca');\n",
       "        const dataTable =\n",
       "          await google.colab.kernel.invokeFunction('convertToInteractive',\n",
       "                                                    [key], {});\n",
       "        if (!dataTable) return;\n",
       "\n",
       "        const docLinkHtml = 'Like what you see? Visit the ' +\n",
       "          '<a target=\"_blank\" href=https://colab.research.google.com/notebooks/data_table.ipynb>data table notebook</a>'\n",
       "          + ' to learn more about interactive tables.';\n",
       "        element.innerHTML = '';\n",
       "        dataTable['output_type'] = 'display_data';\n",
       "        await google.colab.output.renderOutput(dataTable, element);\n",
       "        const docLink = document.createElement('div');\n",
       "        docLink.innerHTML = docLinkHtml;\n",
       "        element.appendChild(docLink);\n",
       "      }\n",
       "    </script>\n",
       "  </div>\n",
       "\n",
       "\n",
       "<div id=\"df-6bc39ffb-6900-4626-a97e-8e4b76e8a20f\">\n",
       "  <button class=\"colab-df-quickchart\" onclick=\"quickchart('df-6bc39ffb-6900-4626-a97e-8e4b76e8a20f')\"\n",
       "            title=\"Suggest charts\"\n",
       "            style=\"display:none;\">\n",
       "\n",
       "<svg xmlns=\"http://www.w3.org/2000/svg\" height=\"24px\"viewBox=\"0 0 24 24\"\n",
       "     width=\"24px\">\n",
       "    <g>\n",
       "        <path d=\"M19 3H5c-1.1 0-2 .9-2 2v14c0 1.1.9 2 2 2h14c1.1 0 2-.9 2-2V5c0-1.1-.9-2-2-2zM9 17H7v-7h2v7zm4 0h-2V7h2v10zm4 0h-2v-4h2v4z\"/>\n",
       "    </g>\n",
       "</svg>\n",
       "  </button>\n",
       "\n",
       "<style>\n",
       "  .colab-df-quickchart {\n",
       "      --bg-color: #E8F0FE;\n",
       "      --fill-color: #1967D2;\n",
       "      --hover-bg-color: #E2EBFA;\n",
       "      --hover-fill-color: #174EA6;\n",
       "      --disabled-fill-color: #AAA;\n",
       "      --disabled-bg-color: #DDD;\n",
       "  }\n",
       "\n",
       "  [theme=dark] .colab-df-quickchart {\n",
       "      --bg-color: #3B4455;\n",
       "      --fill-color: #D2E3FC;\n",
       "      --hover-bg-color: #434B5C;\n",
       "      --hover-fill-color: #FFFFFF;\n",
       "      --disabled-bg-color: #3B4455;\n",
       "      --disabled-fill-color: #666;\n",
       "  }\n",
       "\n",
       "  .colab-df-quickchart {\n",
       "    background-color: var(--bg-color);\n",
       "    border: none;\n",
       "    border-radius: 50%;\n",
       "    cursor: pointer;\n",
       "    display: none;\n",
       "    fill: var(--fill-color);\n",
       "    height: 32px;\n",
       "    padding: 0;\n",
       "    width: 32px;\n",
       "  }\n",
       "\n",
       "  .colab-df-quickchart:hover {\n",
       "    background-color: var(--hover-bg-color);\n",
       "    box-shadow: 0 1px 2px rgba(60, 64, 67, 0.3), 0 1px 3px 1px rgba(60, 64, 67, 0.15);\n",
       "    fill: var(--button-hover-fill-color);\n",
       "  }\n",
       "\n",
       "  .colab-df-quickchart-complete:disabled,\n",
       "  .colab-df-quickchart-complete:disabled:hover {\n",
       "    background-color: var(--disabled-bg-color);\n",
       "    fill: var(--disabled-fill-color);\n",
       "    box-shadow: none;\n",
       "  }\n",
       "\n",
       "  .colab-df-spinner {\n",
       "    border: 2px solid var(--fill-color);\n",
       "    border-color: transparent;\n",
       "    border-bottom-color: var(--fill-color);\n",
       "    animation:\n",
       "      spin 1s steps(1) infinite;\n",
       "  }\n",
       "\n",
       "  @keyframes spin {\n",
       "    0% {\n",
       "      border-color: transparent;\n",
       "      border-bottom-color: var(--fill-color);\n",
       "      border-left-color: var(--fill-color);\n",
       "    }\n",
       "    20% {\n",
       "      border-color: transparent;\n",
       "      border-left-color: var(--fill-color);\n",
       "      border-top-color: var(--fill-color);\n",
       "    }\n",
       "    30% {\n",
       "      border-color: transparent;\n",
       "      border-left-color: var(--fill-color);\n",
       "      border-top-color: var(--fill-color);\n",
       "      border-right-color: var(--fill-color);\n",
       "    }\n",
       "    40% {\n",
       "      border-color: transparent;\n",
       "      border-right-color: var(--fill-color);\n",
       "      border-top-color: var(--fill-color);\n",
       "    }\n",
       "    60% {\n",
       "      border-color: transparent;\n",
       "      border-right-color: var(--fill-color);\n",
       "    }\n",
       "    80% {\n",
       "      border-color: transparent;\n",
       "      border-right-color: var(--fill-color);\n",
       "      border-bottom-color: var(--fill-color);\n",
       "    }\n",
       "    90% {\n",
       "      border-color: transparent;\n",
       "      border-bottom-color: var(--fill-color);\n",
       "    }\n",
       "  }\n",
       "</style>\n",
       "\n",
       "  <script>\n",
       "    async function quickchart(key) {\n",
       "      const quickchartButtonEl =\n",
       "        document.querySelector('#' + key + ' button');\n",
       "      quickchartButtonEl.disabled = true;  // To prevent multiple clicks.\n",
       "      quickchartButtonEl.classList.add('colab-df-spinner');\n",
       "      try {\n",
       "        const charts = await google.colab.kernel.invokeFunction(\n",
       "            'suggestCharts', [key], {});\n",
       "      } catch (error) {\n",
       "        console.error('Error during call to suggestCharts:', error);\n",
       "      }\n",
       "      quickchartButtonEl.classList.remove('colab-df-spinner');\n",
       "      quickchartButtonEl.classList.add('colab-df-quickchart-complete');\n",
       "    }\n",
       "    (() => {\n",
       "      let quickchartButtonEl =\n",
       "        document.querySelector('#df-6bc39ffb-6900-4626-a97e-8e4b76e8a20f button');\n",
       "      quickchartButtonEl.style.display =\n",
       "        google.colab.kernel.accessAllowed ? 'block' : 'none';\n",
       "    })();\n",
       "  </script>\n",
       "</div>\n",
       "\n",
       "    </div>\n",
       "  </div>\n"
      ],
      "text/plain": [
       "                                order_id  payment_sequential payment_type  \\\n",
       "count                              92648        92648.000000        92648   \n",
       "unique                             88404                 NaN            5   \n",
       "top     fa65dad1b0e818e3ccc5cb0e39231352                 NaN  credit_card   \n",
       "freq                                  29                 NaN        67647   \n",
       "mean                                 NaN            1.102420          NaN   \n",
       "std                                  NaN            0.745983          NaN   \n",
       "min                                  NaN            1.000000          NaN   \n",
       "25%                                  NaN            1.000000          NaN   \n",
       "50%                                  NaN            1.000000          NaN   \n",
       "75%                                  NaN            1.000000          NaN   \n",
       "max                                  NaN           29.000000          NaN   \n",
       "\n",
       "        payment_installments  payment_value  \n",
       "count           92648.000000   92648.000000  \n",
       "unique                   NaN            NaN  \n",
       "top                      NaN            NaN  \n",
       "freq                     NaN            NaN  \n",
       "mean                2.563639     102.974021  \n",
       "std                 2.390849      63.195506  \n",
       "min                 0.000000       0.000000  \n",
       "25%                 1.000000      52.780000  \n",
       "50%                 1.000000      88.710000  \n",
       "75%                 3.000000     143.150000  \n",
       "max                24.000000     282.430000  "
      ]
     },
     "execution_count": 8,
     "metadata": {},
     "output_type": "execute_result"
    }
   ],
   "source": [
    "import pandas as pd\n",
    "payments_df = pd.read_csv('payments_df_less_outliers.csv')\n",
    "payments_df.describe(include=\"all\")"
   ]
  },
  {
   "cell_type": "code",
   "execution_count": null,
   "metadata": {
    "colab": {
     "base_uri": "https://localhost:8080/",
     "height": 469
    },
    "id": "tb9rYUQGXi9H",
    "outputId": "af26fcc1-3c7a-479b-e68a-c92d4aa94fea"
   },
   "outputs": [
    {
     "data": {
      "text/plain": [
       "array([[<Axes: title={'center': 'delivery_duration'}>]], dtype=object)"
      ]
     },
     "execution_count": 9,
     "metadata": {},
     "output_type": "execute_result"
    },
    {
     "data": {
      "image/png": "[encoded data removed]",
      "text/plain": [
       "<Figure size 640x480 with 1 Axes>"
      ]
     },
     "metadata": {},
     "output_type": "display_data"
    }
   ],
   "source": [
    "import pandas as pd\n",
    "\n",
    "orders_df = pd.read_csv('orders_df_no_outliers.csv')\n",
    "\n",
    "orders_df.hist()"
   ]
  },
  {
   "cell_type": "code",
   "execution_count": null,
   "metadata": {
    "colab": {
     "base_uri": "https://localhost:8080/",
     "height": 521
    },
    "id": "OCTMITiRYdgd",
    "outputId": "9e641db1-6d95-4e1e-cb76-9e5bd4eb4047"
   },
   "outputs": [
    {
     "data": {
      "text/plain": [
       "array([[<Axes: title={'center': 'payment_sequential'}>,\n",
       "        <Axes: title={'center': 'payment_installments'}>],\n",
       "       [<Axes: title={'center': 'payment_value'}>, <Axes: >]],\n",
       "      dtype=object)"
      ]
     },
     "execution_count": 10,
     "metadata": {},
     "output_type": "execute_result"
    },
    {
     "data": {
      "image/png": "[encoded data removed]",
      "text/plain": [
       "<Figure size 640x480 with 4 Axes>"
      ]
     },
     "metadata": {},
     "output_type": "display_data"
    }
   ],
   "source": [
    "import pandas as pd\n",
    "payments_df = pd.read_csv('payments_df_less_outliers.csv')\n",
    "payments_df.hist()"
   ]
  },
  {
   "cell_type": "code",
   "execution_count": null,
   "metadata": {
    "colab": {
     "base_uri": "https://localhost:8080/"
    },
    "id": "xqJGXNqXZNnZ",
    "outputId": "aa8dc85c-bae6-410e-fb66-53547513dba2"
   },
   "outputs": [
    {
     "name": "stdout",
     "output_type": "stream",
     "text": [
      "                   delivery_duration\n",
      "delivery_duration                1.0\n"
     ]
    }
   ],
   "source": [
    "import pandas as pd\n",
    "\n",
    "orders_df = pd.read_csv('orders_df_no_outliers.csv')\n",
    "numeric_df = orders_df.select_dtypes(include=['number'])\n",
    "correlation_matrix = numeric_df.corr()\n",
    "print(correlation_matrix)"
   ]
  },
  {
   "cell_type": "code",
   "execution_count": null,
   "metadata": {
    "colab": {
     "base_uri": "https://localhost:8080/"
    },
    "id": "ffguuF-wZWn8",
    "outputId": "244cff66-da12-4ebb-951e-146fc90eeb1c"
   },
   "outputs": [
    {
     "name": "stdout",
     "output_type": "stream",
     "text": [
      "                      payment_sequential  payment_installments  payment_value\n",
      "payment_sequential              1.000000             -0.086404      -0.153573\n",
      "payment_installments           -0.086404              1.000000       0.349424\n",
      "payment_value                  -0.153573              0.349424       1.000000\n"
     ]
    }
   ],
   "source": [
    "import pandas as pd\n",
    "\n",
    "payments_df = pd.read_csv('payments_df_less_outliers.csv')\n",
    "numeric_df = payments_df.select_dtypes(include=['number'])\n",
    "correlation_matrix = numeric_df.corr()\n",
    "print(correlation_matrix)"
   ]
  },
  {
   "cell_type": "code",
   "execution_count": null,
   "metadata": {
    "colab": {
     "base_uri": "https://localhost:8080/",
     "height": 238
    },
    "id": "LnZWFWjPemlG",
    "outputId": "83926711-e8a9-4aa5-fc4e-7464cd4d9637"
   },
   "outputs": [
    {
     "data": {
      "application/vnd.google.colaboratory.intrinsic+json": {
       "summary": "{\n  \"name\": \"grouped_df\",\n  \"rows\": 4,\n  \"fields\": [\n    {\n      \"column\": [\n        \"payment_type\",\n        \"\"\n      ],\n      \"properties\": {\n        \"dtype\": \"string\",\n        \"num_unique_values\": 4,\n        \"samples\": [\n          \"credit_card\",\n          \"voucher\",\n          \"boleto\"\n        ],\n        \"semantic_type\": \"\",\n        \"description\": \"\"\n      }\n    },\n    {\n      \"column\": [\n        \"count\",\n        \"canceled\"\n      ],\n      \"properties\": {\n        \"dtype\": \"number\",\n        \"std\": 1,\n        \"min\": 0,\n        \"max\": 3,\n        \"num_unique_values\": 2,\n        \"samples\": [\n          3,\n          0\n        ],\n        \"semantic_type\": \"\",\n        \"description\": \"\"\n      }\n    },\n    {\n      \"column\": [\n        \"count\",\n        \"delivered\"\n      ],\n      \"properties\": {\n        \"dtype\": \"number\",\n        \"std\": 28204,\n        \"min\": 1322,\n        \"max\": 62563,\n        \"num_unique_values\": 4,\n        \"samples\": [\n          62563,\n          5122\n        ],\n        \"semantic_type\": \"\",\n        \"description\": \"\"\n      }\n    },\n    {\n      \"column\": [\n        \"mean_payment\",\n        \"canceled\"\n      ],\n      \"properties\": {\n        \"dtype\": \"number\",\n        \"std\": 85.89500000000001,\n        \"min\": 0.0,\n        \"max\": 171.79,\n        \"num_unique_values\": 2,\n        \"samples\": [\n          171.79,\n          0.0\n        ],\n        \"semantic_type\": \"\",\n        \"description\": \"\"\n      }\n    },\n    {\n      \"column\": [\n        \"mean_payment\",\n        \"delivered\"\n      ],\n      \"properties\": {\n        \"dtype\": \"number\",\n        \"std\": 24.60658031344626,\n        \"min\": 53.10256735650136,\n        \"max\": 107.02033134600323,\n        \"num_unique_values\": 4,\n        \"samples\": [\n          107.02033134600323,\n          53.10256735650136\n        ],\n        \"semantic_type\": \"\",\n        \"description\": \"\"\n      }\n    }\n  ]\n}",
       "type": "dataframe",
       "variable_name": "grouped_df"
      },
      "text/html": [
       "\n",
       "  <div id=\"df-d1c04e85-1e77-48c5-ab1f-b2b92f158d2a\" class=\"colab-df-container\">\n",
       "    <div>\n",
       "<style scoped>\n",
       "    .dataframe tbody tr th:only-of-type {\n",
       "        vertical-align: middle;\n",
       "    }\n",
       "\n",
       "    .dataframe tbody tr th {\n",
       "        vertical-align: top;\n",
       "    }\n",
       "\n",
       "    .dataframe thead tr th {\n",
       "        text-align: left;\n",
       "    }\n",
       "\n",
       "    .dataframe thead tr:last-of-type th {\n",
       "        text-align: right;\n",
       "    }\n",
       "</style>\n",
       "<table border=\"1\" class=\"dataframe\">\n",
       "  <thead>\n",
       "    <tr>\n",
       "      <th></th>\n",
       "      <th colspan=\"2\" halign=\"left\">count</th>\n",
       "      <th colspan=\"2\" halign=\"left\">mean_payment</th>\n",
       "    </tr>\n",
       "    <tr>\n",
       "      <th>order_status</th>\n",
       "      <th>canceled</th>\n",
       "      <th>delivered</th>\n",
       "      <th>canceled</th>\n",
       "      <th>delivered</th>\n",
       "    </tr>\n",
       "    <tr>\n",
       "      <th>payment_type</th>\n",
       "      <th></th>\n",
       "      <th></th>\n",
       "      <th></th>\n",
       "      <th></th>\n",
       "    </tr>\n",
       "  </thead>\n",
       "  <tbody>\n",
       "    <tr>\n",
       "      <th>boleto</th>\n",
       "      <td>0</td>\n",
       "      <td>16507</td>\n",
       "      <td>0.00</td>\n",
       "      <td>99.918903</td>\n",
       "    </tr>\n",
       "    <tr>\n",
       "      <th>credit_card</th>\n",
       "      <td>3</td>\n",
       "      <td>62563</td>\n",
       "      <td>171.79</td>\n",
       "      <td>107.020331</td>\n",
       "    </tr>\n",
       "    <tr>\n",
       "      <th>debit_card</th>\n",
       "      <td>0</td>\n",
       "      <td>1322</td>\n",
       "      <td>0.00</td>\n",
       "      <td>98.228169</td>\n",
       "    </tr>\n",
       "    <tr>\n",
       "      <th>voucher</th>\n",
       "      <td>0</td>\n",
       "      <td>5122</td>\n",
       "      <td>0.00</td>\n",
       "      <td>53.102567</td>\n",
       "    </tr>\n",
       "  </tbody>\n",
       "</table>\n",
       "</div>\n",
       "    <div class=\"colab-df-buttons\">\n",
       "\n",
       "  <div class=\"colab-df-container\">\n",
       "    <button class=\"colab-df-convert\" onclick=\"convertToInteractive('df-d1c04e85-1e77-48c5-ab1f-b2b92f158d2a')\"\n",
       "            title=\"Convert this dataframe to an interactive table.\"\n",
       "            style=\"display:none;\">\n",
       "\n",
       "  <svg xmlns=\"http://www.w3.org/2000/svg\" height=\"24px\" viewBox=\"0 -960 960 960\">\n",
       "    <path d=\"M120-120v-720h720v720H120Zm60-500h600v-160H180v160Zm220 220h160v-160H400v160Zm0 220h160v-160H400v160ZM180-400h160v-160H180v160Zm440 0h160v-160H620v160ZM180-180h160v-160H180v160Zm440 0h160v-160H620v160Z\"/>\n",
       "  </svg>\n",
       "    </button>\n",
       "\n",
       "  <style>\n",
       "    .colab-df-container {\n",
       "      display:flex;\n",
       "      gap: 12px;\n",
       "    }\n",
       "\n",
       "    .colab-df-convert {\n",
       "      background-color: #E8F0FE;\n",
       "      border: none;\n",
       "      border-radius: 50%;\n",
       "      cursor: pointer;\n",
       "      display: none;\n",
       "      fill: #1967D2;\n",
       "      height: 32px;\n",
       "      padding: 0 0 0 0;\n",
       "      width: 32px;\n",
       "    }\n",
       "\n",
       "    .colab-df-convert:hover {\n",
       "      background-color: #E2EBFA;\n",
       "      box-shadow: 0px 1px 2px rgba(60, 64, 67, 0.3), 0px 1px 3px 1px rgba(60, 64, 67, 0.15);\n",
       "      fill: #174EA6;\n",
       "    }\n",
       "\n",
       "    .colab-df-buttons div {\n",
       "      margin-bottom: 4px;\n",
       "    }\n",
       "\n",
       "    [theme=dark] .colab-df-convert {\n",
       "      background-color: #3B4455;\n",
       "      fill: #D2E3FC;\n",
       "    }\n",
       "\n",
       "    [theme=dark] .colab-df-convert:hover {\n",
       "      background-color: #434B5C;\n",
       "      box-shadow: 0px 1px 3px 1px rgba(0, 0, 0, 0.15);\n",
       "      filter: drop-shadow(0px 1px 2px rgba(0, 0, 0, 0.3));\n",
       "      fill: #FFFFFF;\n",
       "    }\n",
       "  </style>\n",
       "\n",
       "    <script>\n",
       "      const buttonEl =\n",
       "        document.querySelector('#df-d1c04e85-1e77-48c5-ab1f-b2b92f158d2a button.colab-df-convert');\n",
       "      buttonEl.style.display =\n",
       "        google.colab.kernel.accessAllowed ? 'block' : 'none';\n",
       "\n",
       "      async function convertToInteractive(key) {\n",
       "        const element = document.querySelector('#df-d1c04e85-1e77-48c5-ab1f-b2b92f158d2a');\n",
       "        const dataTable =\n",
       "          await google.colab.kernel.invokeFunction('convertToInteractive',\n",
       "                                                    [key], {});\n",
       "        if (!dataTable) return;\n",
       "\n",
       "        const docLinkHtml = 'Like what you see? Visit the ' +\n",
       "          '<a target=\"_blank\" href=https://colab.research.google.com/notebooks/data_table.ipynb>data table notebook</a>'\n",
       "          + ' to learn more about interactive tables.';\n",
       "        element.innerHTML = '';\n",
       "        dataTable['output_type'] = 'display_data';\n",
       "        await google.colab.output.renderOutput(dataTable, element);\n",
       "        const docLink = document.createElement('div');\n",
       "        docLink.innerHTML = docLinkHtml;\n",
       "        element.appendChild(docLink);\n",
       "      }\n",
       "    </script>\n",
       "  </div>\n",
       "\n",
       "\n",
       "<div id=\"df-8363bc9a-1ab9-4588-961a-488a087495ae\">\n",
       "  <button class=\"colab-df-quickchart\" onclick=\"quickchart('df-8363bc9a-1ab9-4588-961a-488a087495ae')\"\n",
       "            title=\"Suggest charts\"\n",
       "            style=\"display:none;\">\n",
       "\n",
       "<svg xmlns=\"http://www.w3.org/2000/svg\" height=\"24px\"viewBox=\"0 0 24 24\"\n",
       "     width=\"24px\">\n",
       "    <g>\n",
       "        <path d=\"M19 3H5c-1.1 0-2 .9-2 2v14c0 1.1.9 2 2 2h14c1.1 0 2-.9 2-2V5c0-1.1-.9-2-2-2zM9 17H7v-7h2v7zm4 0h-2V7h2v10zm4 0h-2v-4h2v4z\"/>\n",
       "    </g>\n",
       "</svg>\n",
       "  </button>\n",
       "\n",
       "<style>\n",
       "  .colab-df-quickchart {\n",
       "      --bg-color: #E8F0FE;\n",
       "      --fill-color: #1967D2;\n",
       "      --hover-bg-color: #E2EBFA;\n",
       "      --hover-fill-color: #174EA6;\n",
       "      --disabled-fill-color: #AAA;\n",
       "      --disabled-bg-color: #DDD;\n",
       "  }\n",
       "\n",
       "  [theme=dark] .colab-df-quickchart {\n",
       "      --bg-color: #3B4455;\n",
       "      --fill-color: #D2E3FC;\n",
       "      --hover-bg-color: #434B5C;\n",
       "      --hover-fill-color: #FFFFFF;\n",
       "      --disabled-bg-color: #3B4455;\n",
       "      --disabled-fill-color: #666;\n",
       "  }\n",
       "\n",
       "  .colab-df-quickchart {\n",
       "    background-color: var(--bg-color);\n",
       "    border: none;\n",
       "    border-radius: 50%;\n",
       "    cursor: pointer;\n",
       "    display: none;\n",
       "    fill: var(--fill-color);\n",
       "    height: 32px;\n",
       "    padding: 0;\n",
       "    width: 32px;\n",
       "  }\n",
       "\n",
       "  .colab-df-quickchart:hover {\n",
       "    background-color: var(--hover-bg-color);\n",
       "    box-shadow: 0 1px 2px rgba(60, 64, 67, 0.3), 0 1px 3px 1px rgba(60, 64, 67, 0.15);\n",
       "    fill: var(--button-hover-fill-color);\n",
       "  }\n",
       "\n",
       "  .colab-df-quickchart-complete:disabled,\n",
       "  .colab-df-quickchart-complete:disabled:hover {\n",
       "    background-color: var(--disabled-bg-color);\n",
       "    fill: var(--disabled-fill-color);\n",
       "    box-shadow: none;\n",
       "  }\n",
       "\n",
       "  .colab-df-spinner {\n",
       "    border: 2px solid var(--fill-color);\n",
       "    border-color: transparent;\n",
       "    border-bottom-color: var(--fill-color);\n",
       "    animation:\n",
       "      spin 1s steps(1) infinite;\n",
       "  }\n",
       "\n",
       "  @keyframes spin {\n",
       "    0% {\n",
       "      border-color: transparent;\n",
       "      border-bottom-color: var(--fill-color);\n",
       "      border-left-color: var(--fill-color);\n",
       "    }\n",
       "    20% {\n",
       "      border-color: transparent;\n",
       "      border-left-color: var(--fill-color);\n",
       "      border-top-color: var(--fill-color);\n",
       "    }\n",
       "    30% {\n",
       "      border-color: transparent;\n",
       "      border-left-color: var(--fill-color);\n",
       "      border-top-color: var(--fill-color);\n",
       "      border-right-color: var(--fill-color);\n",
       "    }\n",
       "    40% {\n",
       "      border-color: transparent;\n",
       "      border-right-color: var(--fill-color);\n",
       "      border-top-color: var(--fill-color);\n",
       "    }\n",
       "    60% {\n",
       "      border-color: transparent;\n",
       "      border-right-color: var(--fill-color);\n",
       "    }\n",
       "    80% {\n",
       "      border-color: transparent;\n",
       "      border-right-color: var(--fill-color);\n",
       "      border-bottom-color: var(--fill-color);\n",
       "    }\n",
       "    90% {\n",
       "      border-color: transparent;\n",
       "      border-bottom-color: var(--fill-color);\n",
       "    }\n",
       "  }\n",
       "</style>\n",
       "\n",
       "  <script>\n",
       "    async function quickchart(key) {\n",
       "      const quickchartButtonEl =\n",
       "        document.querySelector('#' + key + ' button');\n",
       "      quickchartButtonEl.disabled = true;  // To prevent multiple clicks.\n",
       "      quickchartButtonEl.classList.add('colab-df-spinner');\n",
       "      try {\n",
       "        const charts = await google.colab.kernel.invokeFunction(\n",
       "            'suggestCharts', [key], {});\n",
       "      } catch (error) {\n",
       "        console.error('Error during call to suggestCharts:', error);\n",
       "      }\n",
       "      quickchartButtonEl.classList.remove('colab-df-spinner');\n",
       "      quickchartButtonEl.classList.add('colab-df-quickchart-complete');\n",
       "    }\n",
       "    (() => {\n",
       "      let quickchartButtonEl =\n",
       "        document.querySelector('#df-8363bc9a-1ab9-4588-961a-488a087495ae button');\n",
       "      quickchartButtonEl.style.display =\n",
       "        google.colab.kernel.accessAllowed ? 'block' : 'none';\n",
       "    })();\n",
       "  </script>\n",
       "</div>\n",
       "\n",
       "  <div id=\"id_6848fea0-405e-48a5-91be-ad187ab0c642\">\n",
       "    <style>\n",
       "      .colab-df-generate {\n",
       "        background-color: #E8F0FE;\n",
       "        border: none;\n",
       "        border-radius: 50%;\n",
       "        cursor: pointer;\n",
       "        display: none;\n",
       "        fill: #1967D2;\n",
       "        height: 32px;\n",
       "        padding: 0 0 0 0;\n",
       "        width: 32px;\n",
       "      }\n",
       "\n",
       "      .colab-df-generate:hover {\n",
       "        background-color: #E2EBFA;\n",
       "        box-shadow: 0px 1px 2px rgba(60, 64, 67, 0.3), 0px 1px 3px 1px rgba(60, 64, 67, 0.15);\n",
       "        fill: #174EA6;\n",
       "      }\n",
       "\n",
       "      [theme=dark] .colab-df-generate {\n",
       "        background-color: #3B4455;\n",
       "        fill: #D2E3FC;\n",
       "      }\n",
       "\n",
       "      [theme=dark] .colab-df-generate:hover {\n",
       "        background-color: #434B5C;\n",
       "        box-shadow: 0px 1px 3px 1px rgba(0, 0, 0, 0.15);\n",
       "        filter: drop-shadow(0px 1px 2px rgba(0, 0, 0, 0.3));\n",
       "        fill: #FFFFFF;\n",
       "      }\n",
       "    </style>\n",
       "    <button class=\"colab-df-generate\" onclick=\"generateWithVariable('grouped_df')\"\n",
       "            title=\"Generate code using this dataframe.\"\n",
       "            style=\"display:none;\">\n",
       "\n",
       "  <svg xmlns=\"http://www.w3.org/2000/svg\" height=\"24px\"viewBox=\"0 0 24 24\"\n",
       "       width=\"24px\">\n",
       "    <path d=\"M7,19H8.4L18.45,9,17,7.55,7,17.6ZM5,21V16.75L18.45,3.32a2,2,0,0,1,2.83,0l1.4,1.43a1.91,1.91,0,0,1,.58,1.4,1.91,1.91,0,0,1-.58,1.4L9.25,21ZM18.45,9,17,7.55Zm-12,3A5.31,5.31,0,0,0,4.9,8.1,5.31,5.31,0,0,0,1,6.5,5.31,5.31,0,0,0,4.9,4.9,5.31,5.31,0,0,0,6.5,1,5.31,5.31,0,0,0,8.1,4.9,5.31,5.31,0,0,0,12,6.5,5.46,5.46,0,0,0,6.5,12Z\"/>\n",
       "  </svg>\n",
       "    </button>\n",
       "    <script>\n",
       "      (() => {\n",
       "      const buttonEl =\n",
       "        document.querySelector('#id_6848fea0-405e-48a5-91be-ad187ab0c642 button.colab-df-generate');\n",
       "      buttonEl.style.display =\n",
       "        google.colab.kernel.accessAllowed ? 'block' : 'none';\n",
       "\n",
       "      buttonEl.onclick = () => {\n",
       "        google.colab.notebook.generateWithVariable('grouped_df');\n",
       "      }\n",
       "      })();\n",
       "    </script>\n",
       "  </div>\n",
       "\n",
       "    </div>\n",
       "  </div>\n"
      ],
      "text/plain": [
       "                count           mean_payment            \n",
       "order_status canceled delivered     canceled   delivered\n",
       "payment_type                                            \n",
       "boleto              0     16507         0.00   99.918903\n",
       "credit_card         3     62563       171.79  107.020331\n",
       "debit_card          0      1322         0.00   98.228169\n",
       "voucher             0      5122         0.00   53.102567"
      ]
     },
     "execution_count": 17,
     "metadata": {},
     "output_type": "execute_result"
    }
   ],
   "source": [
    "import pandas as pd\n",
    "\n",
    "orders_df = pd.read_csv('orders_df_no_outliers.csv')\n",
    "payments_df = pd.read_csv('payments_df_less_outliers.csv')\n",
    "\n",
    "merged_df = pd.merge(orders_df, payments_df, on='order_id')\n",
    "\n",
    "grouped_df = merged_df.groupby(['payment_type', 'order_status']).agg(\n",
    "    count=('payment_value', 'size'),\n",
    "    mean_payment=('payment_value', 'mean')\n",
    ").unstack(fill_value=0)\n",
    "\n",
    "grouped_df"
   ]
  },
  {
   "cell_type": "markdown",
   "metadata": {
    "id": "th_Lzl2Fkj9O"
   },
   "source": [
    "**Insight:**\n",
    "- Secara keseluruhan, data pada dataset orders_df_no_outliers.csv menunjukkan efisiensi sistem pesanan dan pengiriman, dengan mayoritas pesanan disetujui dan dikirim dalam waktu yang wajar sesuai estimasi. histogram menunjukkan bahwa sebagian besar pesanan berhasil dikirimkan dalam jangka waktu yang wajar (0-10 hari), tetapi ada beberapa pengiriman yang membutuhkan waktu lebih lama, meskipun jumlahnya sedikit.\n",
    "- Secara keseluruhan, data pada dataset payments_df_less_outliers.csv ini menunjukkan bahwa sebagian besar pelanggan menggunakan metode kartu kredit dan melakukan pembayaran penuh dalam satu kali transaksi atau hanya sedikit cicilan. Namun, ada fleksibilitas bagi pelanggan untuk membayar dengan lebih banyak cicilan, yang mungkin menjadi opsi yang populer di antara beberapa pelanggan. histogram menunjukkan Sebagian besar pelanggan melakukan pembayaran penuh dalam satu transaksi, atau menggunakan cicilan rendah jika mereka memilih cicilan. korelasi menunjukkan ada kecenderungan bahwa nilai pembayaran yang lebih tinggi seringkali dihubungkan dengan lebih banyak cicilan. Jumlah urutan pembayaran (payment_sequential) tidak memiliki hubungan kuat dengan cicilan atau nilai pembayaran.\n",
    "- Pembayaran dengan credit card adalah yang paling sering digunakan dengan total 62,563 transaksi berhasil (delivered)."
   ]
  },
  {
   "cell_type": "markdown",
   "metadata": {
    "id": "zsyZjqak8DC2"
   },
   "source": [
    "## Visualization & Explanatory Analysis"
   ]
  },
  {
   "cell_type": "markdown",
   "metadata": {
    "id": "HZxOiQ6n8DC2"
   },
   "source": [
    "### Pertanyaan 1: Metode pembayaran mana yang paling sering digunakan oleh pelanggan?"
   ]
  },
  {
   "cell_type": "code",
   "execution_count": null,
   "metadata": {
    "colab": {
     "base_uri": "https://localhost:8080/",
     "height": 618
    },
    "id": "1swJUdAD8DC2",
    "outputId": "25864060-c092-4ee6-8cfd-6ca059e21460"
   },
   "outputs": [
    {
     "data": {
      "image/png": "[encoded data removed]",
      "text/plain": [
       "<Figure size 1000x600 with 1 Axes>"
      ]
     },
     "metadata": {},
     "output_type": "display_data"
    }
   ],
   "source": [
    "import matplotlib.pyplot as plt\n",
    "\n",
    "payment_counts = payments_df['payment_type'].value_counts()\n",
    "\n",
    "plt.figure(figsize=(10, 6))\n",
    "payment_counts.plot(kind='bar', color='skyblue', edgecolor='black')\n",
    "plt.title('Frequency of Payment Methods Used by Customers')\n",
    "plt.xlabel('Payment Method')\n",
    "plt.ylabel('Frequency')\n",
    "plt.xticks(rotation=45)\n",
    "plt.show()\n"
   ]
  },
  {
   "cell_type": "markdown",
   "metadata": {
    "id": "DgHI7CiU8DC2"
   },
   "source": [
    "### Pertanyaan 2: Apakah ada hubungan antara metode pembayaran dan status pesanan?"
   ]
  },
  {
   "cell_type": "code",
   "execution_count": null,
   "metadata": {
    "colab": {
     "base_uri": "https://localhost:8080/",
     "height": 719
    },
    "id": "Go0lCsvO8DC2",
    "outputId": "5358ec12-f331-4c34-bb39-cb4e9ba206f2"
   },
   "outputs": [
    {
     "name": "stdout",
     "output_type": "stream",
     "text": [
      "order_status  canceled  delivered\n",
      "payment_type                     \n",
      "boleto               0      16507\n",
      "credit_card          3      62563\n",
      "debit_card           0       1322\n",
      "voucher              0       5122\n"
     ]
    },
    {
     "data": {
      "image/png": "[encoded data removed]",
      "text/plain": [
       "<Figure size 1000x600 with 1 Axes>"
      ]
     },
     "metadata": {},
     "output_type": "display_data"
    }
   ],
   "source": [
    "import pandas as pd\n",
    "import matplotlib.pyplot as plt\n",
    "\n",
    "merged_df = pd.merge(orders_df, payments_df, on='order_id', how='inner')\n",
    "\n",
    "status_counts = pd.crosstab(merged_df['payment_type'], merged_df['order_status'])\n",
    "\n",
    "print(status_counts)\n",
    "\n",
    "status_counts.plot(kind='bar', stacked=True, color=['red', 'green'], figsize=(10, 6))\n",
    "plt.title('Payment Method vs Order Status')\n",
    "plt.xlabel('Payment Method')\n",
    "plt.ylabel('Order Count')\n",
    "plt.xticks(rotation=45)\n",
    "plt.legend(title='Order Status')\n",
    "plt.show()\n"
   ]
  },
  {
   "cell_type": "code",
   "execution_count": null,
   "metadata": {
    "id": "M0kxviXnl1QQ"
   },
   "outputs": [],
   "source": [
    "import pandas as pd\n",
    "\n",
    "all_df = pd.merge(orders_df, payments_df, on='order_id', how='inner')\n",
    "\n",
    "all_df.to_csv(\"all_data.csv\", index=False)"
   ]
  },
  {
   "cell_type": "markdown",
   "metadata": {
    "id": "_0-36BDLklRg"
   },
   "source": [
    "**Insight:**\n",
    "- Kartu Kredit (credit_card) adalah metode pembayaran yang paling sering digunakan oleh pelanggan, dengan frekuensi yang jauh lebih tinggi dibandingkan metode pembayaran lainnya.\n",
    "- Semua metode pembayaran memiliki status \"delivered\" yang tinggi, terutama credit_card dengan jumlah pesanan terkirim paling banyak, diikuti oleh boleto, voucher, dan debit_card. Hal ini menunjukkan bahwa metode pembayaran credit_card adalah yang paling dominan untuk pesanan yang berhasil dikirimkan.\n",
    "- Hanya metode credit_card yang memiliki pesanan dengan status \"canceled\" (sebanyak 3 pesanan). Sedangkan metode pembayaran lainnya tidak memiliki pesanan yang dibatalkan sama sekali. Ini bisa menunjukkan bahwa pesanan dengan metode pembayaran credit_card memiliki kemungkinan kecil untuk dibatalkan, meskipun frekuensinya sangat rendah (hanya 3 dari puluhan ribu pesanan).\n",
    "- dapat disimpulkan bahwa Tidak ada hubungan signifikan antara metode pembayaran dan status pesanan, karena sebagian besar pesanan berhasil dikirim untuk setiap metode. Namun, metode credit_card menunjukkan sedikit pembatalan, meskipun dalam jumlah yang sangat kecil dibandingkan dengan pesanan yang berhasil dikirim."
   ]
  },
  {
   "cell_type": "markdown",
   "metadata": {
    "id": "9y4VUsmcYNZ5"
   },
   "source": [
    "## Analisis Lanjutan (Opsional)"
   ]
  },
  {
   "cell_type": "code",
   "execution_count": null,
   "metadata": {
    "id": "iWhnzsJGYUCO"
   },
   "outputs": [],
   "source": []
  },
  {
   "cell_type": "markdown",
   "metadata": {
    "id": "_WeHlCeX8DC2"
   },
   "source": [
    "## Conclusion"
   ]
  },
  {
   "cell_type": "markdown",
   "metadata": {
    "id": "ZTcyR48Y8DC2"
   },
   "source": [
    "- Conclution pertanyaan 1\n",
    "- Conclution pertanyaan 2"
   ]
  }
 ],
 "metadata": {
  "colab": {
   "provenance": []
  },
  "kernelspec": {
   "display_name": "Python 3",
   "language": "python",
   "name": "python3"
  },
  "language_info": {
   "name": "python",
   "version": "3.8.0 (tags/v3.8.0:fa919fd, Oct 14 2019, 19:21:23) [MSC v.1916 32 bit (Intel)]"
  },
  "orig_nbformat": 4,
  "vscode": {
   "interpreter": {
    "hash": "972b3bf27e332e87b5379f2791f6ef9dfc79c71018c370b0d7423235e20fe4d7"
   }
  }
 },
 "nbformat": 4,
 "nbformat_minor": 0
}
